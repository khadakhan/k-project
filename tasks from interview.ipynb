{
 "cells": [
  {
   "cell_type": "code",
   "execution_count": null,
   "metadata": {},
   "outputs": [],
   "source": [
    "# Посчитать количество слов в тексте (с собеседования https://www.youtube.com/watch?v=FfotHboeF9Q)\n",
    "\n",
    "text = \"\"\"   And he said: 'How are you?'. Then          it stay calm he he calm      \"\"\"\n",
    "chars = [':', '.', ',', '?', '!', '\"', \"'\"]\n",
    "\n",
    "def clear_and_divide(text, chars):\n",
    "    text = text.rstrip()\n",
    "    text = text.lstrip()\n",
    "\n",
    "    for char in text:\n",
    "        if char in chars:\n",
    "            text = text.replace(char, '')\n",
    "\n",
    "    list = text.split(' ')\n",
    "    return list\n",
    "\n",
    "\n",
    "def frecuence_of_word (list):\n",
    "    dict = {}\n",
    "    for word in list:\n",
    "        if word in dict and word != '':\n",
    "            dict[word] += 1\n",
    "        elif word not in dict and word !='':\n",
    "            dict[word]  = 1\n",
    "    return dict\n",
    "\n",
    "\n",
    "print (frecuence_of_word(clear_and_divide(text, chars)))\n",
    "\n"
   ]
  },
  {
   "cell_type": "code",
   "execution_count": null,
   "metadata": {},
   "outputs": [],
   "source": [
    "dd = [1, 0, 4, 0, -1]                                        # Задачка с собеседования https://www.youtube.com/watch?v=v-nxKzjMqPE&t=1876s                                 \n",
    "ddd = sorted(dd, key = lambda x: x == 0)                 # Вывели тот же самый список, но с нулями в конце, применили сортировку и лямбда функцию\n",
    "ddd"
   ]
  },
  {
   "cell_type": "code",
   "execution_count": 1,
   "metadata": {},
   "outputs": [
    {
     "name": "stdout",
     "output_type": "stream",
     "text": [
      "8\n"
     ]
    }
   ],
   "source": [
    "# задача с https://www.youtube.com/watch?v=gm8f8mdpB2k\n",
    "# необходимо посчитать длину самого длинного слова в тексте\n",
    "\n",
    "def longest_word(text):\n",
    "    long = 0\n",
    "    i = 0\n",
    "    while  i < len(text):                 # идем по каждому символу текста\n",
    "        if text[i].isalpha():             # если встретили букву, то\n",
    "            k = 1                         # начинаем считать буквы в слове\n",
    "            while  i  + k < len(text) and text[i+k].isalpha():            # проверяем, что следующий за буковй символ не вышел за границы и что он тоже есть буква\n",
    "                k += 1                                                    # если так, то увеличиваем длину найденного слова на единицу\n",
    "            else:                                                         # иначе\n",
    "                if long < k:           # если длина слова больше чем было ранее, то переприсваиваем\n",
    "                    long = k\n",
    "                i = i + k              # увеличиваем  i на длину найденного слова и идем дальше по циклу\n",
    "        else:\n",
    "            i += 1\n",
    "    return long\n",
    "\n",
    "text1 = '          ывыб флывоадб '\n",
    "\n",
    "print(longest_word(text1))"
   ]
  }
 ],
 "metadata": {
  "kernelspec": {
   "display_name": ".venv",
   "language": "python",
   "name": "python3"
  },
  "language_info": {
   "codemirror_mode": {
    "name": "ipython",
    "version": 3
   },
   "file_extension": ".py",
   "mimetype": "text/x-python",
   "name": "python",
   "nbconvert_exporter": "python",
   "pygments_lexer": "ipython3",
   "version": "3.10.7"
  }
 },
 "nbformat": 4,
 "nbformat_minor": 2
}
