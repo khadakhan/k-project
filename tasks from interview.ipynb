{
 "cells": [
  {
   "cell_type": "code",
   "execution_count": null,
   "metadata": {},
   "outputs": [],
   "source": [
    "# Посчитать количество слов в тексте (с собеседования https://www.youtube.com/watch?v=FfotHboeF9Q)\n",
    "\n",
    "text = \"\"\"   And he said: 'How are you?'. Then          it stay calm he he calm      \"\"\"\n",
    "chars = [':', '.', ',', '?', '!', '\"', \"'\"]\n",
    "\n",
    "def clear_and_divide(text, chars):\n",
    "    text = text.rstrip()\n",
    "    text = text.lstrip()\n",
    "\n",
    "    for char in text:\n",
    "        if char in chars:\n",
    "            text = text.replace(char, '')\n",
    "\n",
    "    list = text.split(' ')\n",
    "    return list\n",
    "\n",
    "\n",
    "def frecuence_of_word (list):\n",
    "    dict = {}\n",
    "    for word in list:\n",
    "        if word in dict and word != '':\n",
    "            dict[word] += 1\n",
    "        elif word not in dict and word !='':\n",
    "            dict[word]  = 1\n",
    "    return dict\n",
    "\n",
    "\n",
    "print (frecuence_of_word(clear_and_divide(text, chars)))\n",
    "\n"
   ]
  },
  {
   "cell_type": "code",
   "execution_count": null,
   "metadata": {},
   "outputs": [],
   "source": [
    "dd = [1, 0, 4, 0, -1]                                        # Задачка с собеседования https://www.youtube.com/watch?v=v-nxKzjMqPE&t=1876s                                 \n",
    "ddd = sorted(dd, key = lambda x: x == 0)                 # Вывели тот же самый список, но с нулями в конце, применили сортировку и лямбда функцию\n",
    "ddd"
   ]
  },
  {
   "cell_type": "code",
   "execution_count": 1,
   "metadata": {},
   "outputs": [
    {
     "name": "stdout",
     "output_type": "stream",
     "text": [
      "8\n"
     ]
    }
   ],
   "source": [
    "# задача с https://www.youtube.com/watch?v=gm8f8mdpB2k\n",
    "# необходимо посчитать длину самого длинного слова в тексте\n",
    "\n",
    "def longest_word_count(text):\n",
    "    long = 0\n",
    "    i = 0\n",
    "    while  i < len(text):                 # идем по каждому символу текста\n",
    "        if text[i].isalpha():             # если встретили букву, то\n",
    "            k = 1                         # начинаем считать буквы в слове\n",
    "            while  i  + k < len(text) and text[i+k].isalpha():            # проверяем, что следующий за буковй символ не вышел за границы и что он тоже есть буква\n",
    "                k += 1                                                    # если так, то увеличиваем длину найденного слова на единицу\n",
    "            else:                                                         # иначе\n",
    "                if long < k:           # если длина слова больше чем было ранее, то переприсваиваем\n",
    "                    long = k\n",
    "                i = i + k              # увеличиваем  i на длину найденного слова и идем дальше по циклу\n",
    "        else:\n",
    "            i += 1\n",
    "    return long\n",
    "\n",
    "text1 = '          ывыб флывоадб '\n",
    "\n",
    "print(longest_word_count(text1))"
   ]
  },
  {
   "cell_type": "code",
   "execution_count": 5,
   "metadata": {},
   "outputs": [
    {
     "ename": "TypeError",
     "evalue": "must be str or None, not list",
     "output_type": "error",
     "traceback": [
      "\u001b[1;31m---------------------------------------------------------------------------\u001b[0m",
      "\u001b[1;31mTypeError\u001b[0m                                 Traceback (most recent call last)",
      "Cell \u001b[1;32mIn[5], line 11\u001b[0m\n\u001b[0;32m      7\u001b[0m     \u001b[38;5;28;01mreturn\u001b[39;00m text\u001b[38;5;241m.\u001b[39msplit(sep \u001b[38;5;241m=\u001b[39m punctuation_list(text))\n\u001b[0;32m      9\u001b[0m text1 \u001b[38;5;241m=\u001b[39m \u001b[38;5;124m'\u001b[39m\u001b[38;5;124m Жил-был старик со старухой у самого синего моря, небо, облака \u001b[39m\u001b[38;5;124m'\u001b[39m\n\u001b[1;32m---> 11\u001b[0m \u001b[38;5;28mprint\u001b[39m(\u001b[43mlongest_word\u001b[49m\u001b[43m(\u001b[49m\u001b[43mtext1\u001b[49m\u001b[43m)\u001b[49m)\n",
      "Cell \u001b[1;32mIn[5], line 7\u001b[0m, in \u001b[0;36mlongest_word\u001b[1;34m(text)\u001b[0m\n\u001b[0;32m      6\u001b[0m \u001b[38;5;28;01mdef\u001b[39;00m \u001b[38;5;21mlongest_word\u001b[39m(text):\n\u001b[1;32m----> 7\u001b[0m     \u001b[38;5;28;01mreturn\u001b[39;00m \u001b[43mtext\u001b[49m\u001b[38;5;241;43m.\u001b[39;49m\u001b[43msplit\u001b[49m\u001b[43m(\u001b[49m\u001b[43msep\u001b[49m\u001b[43m \u001b[49m\u001b[38;5;241;43m=\u001b[39;49m\u001b[43m \u001b[49m\u001b[43mpunctuation_list\u001b[49m\u001b[43m(\u001b[49m\u001b[43mtext\u001b[49m\u001b[43m)\u001b[49m\u001b[43m)\u001b[49m\n",
      "\u001b[1;31mTypeError\u001b[0m: must be str or None, not list"
     ]
    }
   ],
   "source": [
    "from string import punctuation\n",
    "\n",
    "def punctuation_list(text):\n",
    "    return [char for char in text if char in punctuation]\n",
    "\n",
    "def longest_word(text):\n",
    "    import re\n",
    "    return re.split()\n",
    "\n",
    "text1 = ' Жил-был старик со старухой у самого синего моря, небо, облака '\n",
    "\n",
    "print(longest_word(text1))"
   ]
  },
  {
   "cell_type": "code",
   "execution_count": 70,
   "metadata": {},
   "outputs": [
    {
     "data": {
      "text/plain": [
       "('старухой', 8)"
      ]
     },
     "execution_count": 70,
     "metadata": {},
     "output_type": "execute_result"
    }
   ],
   "source": [
    "import re\n",
    "text1 = ' Жил-был старик со старухой у самого синего моря, небо, облака '\n",
    "word_list = [(word, len(word)) for word in re.split(r'\\W', text1) if word]\n",
    "b = word_list[0]\n",
    "for i in range(1, len(word_list)-1):\n",
    "    if  b[1] < word_list[i][1]:\n",
    "        b = word_list[i]\n",
    "b"
   ]
  }
 ],
 "metadata": {
  "kernelspec": {
   "display_name": ".venv",
   "language": "python",
   "name": "python3"
  },
  "language_info": {
   "codemirror_mode": {
    "name": "ipython",
    "version": 3
   },
   "file_extension": ".py",
   "mimetype": "text/x-python",
   "name": "python",
   "nbconvert_exporter": "python",
   "pygments_lexer": "ipython3",
   "version": "3.10.7"
  }
 },
 "nbformat": 4,
 "nbformat_minor": 2
}
