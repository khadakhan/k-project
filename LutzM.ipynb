{
 "cells": [
  {
   "cell_type": "markdown",
   "metadata": {},
   "source": [
    "# Часть 2. Типы и операции"
   ]
  },
  {
   "cell_type": "markdown",
   "metadata": {},
   "source": [
    "## Полезные числовые модули math и random"
   ]
  },
  {
   "cell_type": "code",
   "execution_count": 44,
   "metadata": {},
   "outputs": [
    {
     "data": {
      "text/plain": [
       "3.141592653589793"
      ]
     },
     "execution_count": 44,
     "metadata": {},
     "output_type": "execute_result"
    }
   ],
   "source": [
    "import math\n",
    "math.pi"
   ]
  },
  {
   "cell_type": "code",
   "execution_count": 45,
   "metadata": {},
   "outputs": [
    {
     "data": {
      "text/plain": [
       "9.219544457292887"
      ]
     },
     "execution_count": 45,
     "metadata": {},
     "output_type": "execute_result"
    }
   ],
   "source": [
    "math.sqrt(85)"
   ]
  },
  {
   "cell_type": "code",
   "execution_count": 46,
   "metadata": {},
   "outputs": [
    {
     "data": {
      "text/plain": [
       "0.49918753689408557"
      ]
     },
     "execution_count": 46,
     "metadata": {},
     "output_type": "execute_result"
    }
   ],
   "source": [
    "import random\n",
    "random.random()"
   ]
  },
  {
   "cell_type": "code",
   "execution_count": 47,
   "metadata": {},
   "outputs": [
    {
     "data": {
      "text/plain": [
       "3"
      ]
     },
     "execution_count": 47,
     "metadata": {},
     "output_type": "execute_result"
    }
   ],
   "source": [
    "random.choice([1, 2, 3, 4])"
   ]
  },
  {
   "cell_type": "markdown",
   "metadata": {},
   "source": [
    "## Строки (неизменяемые)"
   ]
  },
  {
   "cell_type": "code",
   "execution_count": 48,
   "metadata": {},
   "outputs": [
    {
     "data": {
      "text/plain": [
       "4"
      ]
     },
     "execution_count": 48,
     "metadata": {},
     "output_type": "execute_result"
    }
   ],
   "source": [
    "S = 'Spam'\n",
    "len(S)           # Длина строки"
   ]
  },
  {
   "cell_type": "code",
   "execution_count": 49,
   "metadata": {},
   "outputs": [
    {
     "data": {
      "text/plain": [
       "'p'"
      ]
     },
     "execution_count": 49,
     "metadata": {},
     "output_type": "execute_result"
    }
   ],
   "source": [
    "S[1]            # Второй элемент строки"
   ]
  },
  {
   "cell_type": "code",
   "execution_count": 50,
   "metadata": {},
   "outputs": [
    {
     "data": {
      "text/plain": [
       "'m'"
      ]
     },
     "execution_count": 50,
     "metadata": {},
     "output_type": "execute_result"
    }
   ],
   "source": [
    "S[-1]           # Последний элемент строки. Формально отрицательный индекс прибавляется к длине строки"
   ]
  },
  {
   "cell_type": "code",
   "execution_count": 51,
   "metadata": {},
   "outputs": [
    {
     "data": {
      "text/plain": [
       "'m'"
      ]
     },
     "execution_count": 51,
     "metadata": {},
     "output_type": "execute_result"
    }
   ],
   "source": [
    "S[len(S)-1]      "
   ]
  },
  {
   "cell_type": "code",
   "execution_count": 52,
   "metadata": {},
   "outputs": [
    {
     "data": {
      "text/plain": [
       "'pa'"
      ]
     },
     "execution_count": 52,
     "metadata": {},
     "output_type": "execute_result"
    }
   ],
   "source": [
    "S[1:3]          # Нарезание (срезы) со певрого по второе смещение, а не по третье"
   ]
  },
  {
   "cell_type": "code",
   "execution_count": 53,
   "metadata": {},
   "outputs": [
    {
     "data": {
      "text/plain": [
       "'pam'"
      ]
     },
     "execution_count": 53,
     "metadata": {},
     "output_type": "execute_result"
    }
   ],
   "source": [
    "S[1:]"
   ]
  },
  {
   "cell_type": "code",
   "execution_count": 54,
   "metadata": {},
   "outputs": [
    {
     "data": {
      "text/plain": [
       "'Spa'"
      ]
     },
     "execution_count": 54,
     "metadata": {},
     "output_type": "execute_result"
    }
   ],
   "source": [
    "S[0:3]"
   ]
  },
  {
   "cell_type": "code",
   "execution_count": 55,
   "metadata": {},
   "outputs": [
    {
     "data": {
      "text/plain": [
       "'Spa'"
      ]
     },
     "execution_count": 55,
     "metadata": {},
     "output_type": "execute_result"
    }
   ],
   "source": [
    "S[:3]"
   ]
  },
  {
   "cell_type": "code",
   "execution_count": 56,
   "metadata": {},
   "outputs": [
    {
     "data": {
      "text/plain": [
       "'Spa'"
      ]
     },
     "execution_count": 56,
     "metadata": {},
     "output_type": "execute_result"
    }
   ],
   "source": [
    "S[:-1]          # Все кроме последнего или тоже самое, что S[:len(S)-1]"
   ]
  },
  {
   "cell_type": "code",
   "execution_count": 57,
   "metadata": {},
   "outputs": [
    {
     "data": {
      "text/plain": [
       "'Spam'"
      ]
     },
     "execution_count": 57,
     "metadata": {},
     "output_type": "execute_result"
    }
   ],
   "source": [
    "S[:]"
   ]
  },
  {
   "cell_type": "code",
   "execution_count": 58,
   "metadata": {},
   "outputs": [
    {
     "data": {
      "text/plain": [
       "'Spamxyz'"
      ]
     },
     "execution_count": 58,
     "metadata": {},
     "output_type": "execute_result"
    }
   ],
   "source": [
    "S + 'xyz'         # Канкатенация"
   ]
  },
  {
   "cell_type": "code",
   "execution_count": 59,
   "metadata": {},
   "outputs": [
    {
     "data": {
      "text/plain": [
       "'SpamSpamSpamSpamSpamSpamSpamSpam'"
      ]
     },
     "execution_count": 59,
     "metadata": {},
     "output_type": "execute_result"
    }
   ],
   "source": [
    "S * 8               # Повторение "
   ]
  },
  {
   "cell_type": "code",
   "execution_count": 60,
   "metadata": {},
   "outputs": [
    {
     "ename": "TypeError",
     "evalue": "'str' object does not support item assignment",
     "output_type": "error",
     "traceback": [
      "\u001b[1;31m---------------------------------------------------------------------------\u001b[0m",
      "\u001b[1;31mTypeError\u001b[0m                                 Traceback (most recent call last)",
      "Cell \u001b[1;32mIn[60], line 1\u001b[0m\n\u001b[1;32m----> 1\u001b[0m \u001b[43mS\u001b[49m\u001b[43m[\u001b[49m\u001b[38;5;241;43m0\u001b[39;49m\u001b[43m]\u001b[49m \u001b[38;5;241m=\u001b[39m \u001b[38;5;124m'\u001b[39m\u001b[38;5;124mz\u001b[39m\u001b[38;5;124m'\u001b[39m         \u001b[38;5;66;03m# Неизменяемость строк. Неизменяемые объекты нельзя модифицировать\u001b[39;00m\n",
      "\u001b[1;31mTypeError\u001b[0m: 'str' object does not support item assignment"
     ]
    }
   ],
   "source": [
    "S[0] = 'z'         # Неизменяемость строк. Неизменяемые объекты нельзя модифицировать"
   ]
  },
  {
   "cell_type": "code",
   "execution_count": null,
   "metadata": {},
   "outputs": [
    {
     "data": {
      "text/plain": [
       "'zpam'"
      ]
     },
     "execution_count": 23,
     "metadata": {},
     "output_type": "execute_result"
    }
   ],
   "source": [
    "S = 'z' + S[1:]    # Но мы можем выполнять выражения для создания новых объектов\n",
    "S"
   ]
  },
  {
   "cell_type": "code",
   "execution_count": null,
   "metadata": {},
   "outputs": [
    {
     "data": {
      "text/plain": [
       "'scrubbery'"
      ]
     },
     "execution_count": 24,
     "metadata": {},
     "output_type": "execute_result"
    }
   ],
   "source": [
    "S = 'shrubbery'    \n",
    "L = list(S)                  #        Развернули в список\n",
    "L[1] = 'c'                   #        Модифицировали список, посольку он является изменяемым объектом         \n",
    "''.join(L)                   #        Собрали строку с пустым разделителем"
   ]
  },
  {
   "cell_type": "code",
   "execution_count": null,
   "metadata": {},
   "outputs": [
    {
     "data": {
      "text/plain": [
       "'spameggs'"
      ]
     },
     "execution_count": 25,
     "metadata": {},
     "output_type": "execute_result"
    }
   ],
   "source": [
    "B = bytearray(b'spam')        #  перевели в тип bytearray\n",
    "B.extend(b'eggs')             #  модифицировали\n",
    "B.decode()                    #  декодироваи обратно в строку"
   ]
  },
  {
   "cell_type": "markdown",
   "metadata": {},
   "source": [
    "### Методы специфичные для строки"
   ]
  },
  {
   "cell_type": "code",
   "execution_count": null,
   "metadata": {},
   "outputs": [
    {
     "data": {
      "text/plain": [
       "1"
      ]
     },
     "execution_count": 26,
     "metadata": {},
     "output_type": "execute_result"
    }
   ],
   "source": [
    "S = 'Spam'            \n",
    "S.find('pa',)                # Находим смещение подстроки pa в строке Spam"
   ]
  },
  {
   "cell_type": "code",
   "execution_count": null,
   "metadata": {},
   "outputs": [
    {
     "data": {
      "text/plain": [
       "'SXYZm'"
      ]
     },
     "execution_count": 27,
     "metadata": {},
     "output_type": "execute_result"
    }
   ],
   "source": [
    "S.replace('pa', 'XYZ')      # Замена вхождения подстроки другой подстрокой"
   ]
  },
  {
   "cell_type": "code",
   "execution_count": null,
   "metadata": {},
   "outputs": [
    {
     "data": {
      "text/plain": [
       "'Spam'"
      ]
     },
     "execution_count": 28,
     "metadata": {},
     "output_type": "execute_result"
    }
   ],
   "source": [
    "S"
   ]
  },
  {
   "cell_type": "code",
   "execution_count": null,
   "metadata": {},
   "outputs": [
    {
     "data": {
      "text/plain": [
       "['aaa', 'bbb', 'ccccc', 'dd']"
      ]
     },
     "execution_count": 29,
     "metadata": {},
     "output_type": "execute_result"
    }
   ],
   "source": [
    "line = 'aaa,bbb,ccccc,dd'\n",
    "line.split(',')                 # Разбить по разделителю в список подстрок"
   ]
  },
  {
   "cell_type": "code",
   "execution_count": null,
   "metadata": {},
   "outputs": [
    {
     "data": {
      "text/plain": [
       "'SPAM'"
      ]
     },
     "execution_count": 31,
     "metadata": {},
     "output_type": "execute_result"
    }
   ],
   "source": [
    "S = 'Spam'\n",
    "S.upper()                       # Преобразование в верхний и нижний регистр"
   ]
  },
  {
   "cell_type": "code",
   "execution_count": null,
   "metadata": {},
   "outputs": [
    {
     "data": {
      "text/plain": [
       "True"
      ]
     },
     "execution_count": 32,
     "metadata": {},
     "output_type": "execute_result"
    }
   ],
   "source": [
    "S.isalpha()                     # Проверяет содержимое на алфафитные символя"
   ]
  },
  {
   "cell_type": "code",
   "execution_count": null,
   "metadata": {},
   "outputs": [
    {
     "data": {
      "text/plain": [
       "False"
      ]
     },
     "execution_count": 39,
     "metadata": {},
     "output_type": "execute_result"
    }
   ],
   "source": [
    "S = '111d'                      # Проверяет содержимое на цифровые символы\n",
    "S.isdigit()"
   ]
  },
  {
   "cell_type": "code",
   "execution_count": null,
   "metadata": {},
   "outputs": [
    {
     "data": {
      "text/plain": [
       "True"
      ]
     },
     "execution_count": 40,
     "metadata": {},
     "output_type": "execute_result"
    }
   ],
   "source": [
    "S = 'spam111'\n",
    "S.isalnum()"
   ]
  },
  {
   "cell_type": "code",
   "execution_count": null,
   "metadata": {},
   "outputs": [
    {
     "data": {
      "text/plain": [
       "'aaa'"
      ]
     },
     "execution_count": 46,
     "metadata": {},
     "output_type": "execute_result"
    }
   ],
   "source": [
    "line = \"aaa   \\n\"\n",
    "line.rstrip()       # Удаляем пробельные символы справа"
   ]
  },
  {
   "cell_type": "code",
   "execution_count": null,
   "metadata": {},
   "outputs": [
    {
     "data": {
      "text/plain": [
       "['aaa', ' bbb', ' ccc', ' dd']"
      ]
     },
     "execution_count": 49,
     "metadata": {},
     "output_type": "execute_result"
    }
   ],
   "source": [
    "line = 'aaa, bbb, ccc, dd\\n'\n",
    "line.rstrip().split(',')"
   ]
  },
  {
   "cell_type": "markdown",
   "metadata": {},
   "source": [
    "### Форматирование"
   ]
  },
  {
   "cell_type": "code",
   "execution_count": null,
   "metadata": {},
   "outputs": [
    {
     "data": {
      "text/plain": [
       "'spam eggs, and SPAM!'"
      ]
     },
     "execution_count": 56,
     "metadata": {},
     "output_type": "execute_result"
    }
   ],
   "source": [
    "'%s eggs, and %s' % ('spam', 'SPAM!') # Выражение форматирования"
   ]
  },
  {
   "cell_type": "code",
   "execution_count": null,
   "metadata": {},
   "outputs": [
    {
     "data": {
      "text/plain": [
       "'bla, eggs, and bla'"
      ]
     },
     "execution_count": 58,
     "metadata": {},
     "output_type": "execute_result"
    }
   ],
   "source": [
    "'{0}, eggs, and {1}'.format('bla','bla')   # другой вариант форматирования"
   ]
  },
  {
   "cell_type": "code",
   "execution_count": null,
   "metadata": {},
   "outputs": [
    {
     "data": {
      "text/plain": [
       "'bla, eggs, and bla'"
      ]
     },
     "execution_count": 59,
     "metadata": {},
     "output_type": "execute_result"
    }
   ],
   "source": [
    "'{}, eggs, and {}'.format('bla','bla') # Можно без номеров"
   ]
  },
  {
   "cell_type": "code",
   "execution_count": null,
   "metadata": {},
   "outputs": [
    {
     "data": {
      "text/plain": [
       "'296_999.24'"
      ]
     },
     "execution_count": 66,
     "metadata": {},
     "output_type": "execute_result"
    }
   ],
   "source": [
    "'{:_.2f}'.format(296999.2383)             # Разделители, десятичные цифры (округление)"
   ]
  },
  {
   "cell_type": "code",
   "execution_count": null,
   "metadata": {},
   "outputs": [
    {
     "data": {
      "text/plain": [
       "'3.14 | -0042'"
      ]
     },
     "execution_count": 69,
     "metadata": {},
     "output_type": "execute_result"
    }
   ],
   "source": [
    "'%.2f | %+05d' % (3.14159, -42)           # Цифры, дополнение, знаки"
   ]
  },
  {
   "cell_type": "markdown",
   "metadata": {},
   "source": [
    "### Функции dir и help"
   ]
  },
  {
   "cell_type": "code",
   "execution_count": null,
   "metadata": {},
   "outputs": [
    {
     "data": {
      "text/plain": [
       "['__add__',\n",
       " '__class__',\n",
       " '__contains__',\n",
       " '__delattr__',\n",
       " '__dir__',\n",
       " '__doc__',\n",
       " '__eq__',\n",
       " '__format__',\n",
       " '__ge__',\n",
       " '__getattribute__',\n",
       " '__getitem__',\n",
       " '__getnewargs__',\n",
       " '__gt__',\n",
       " '__hash__',\n",
       " '__init__',\n",
       " '__init_subclass__',\n",
       " '__iter__',\n",
       " '__le__',\n",
       " '__len__',\n",
       " '__lt__',\n",
       " '__mod__',\n",
       " '__mul__',\n",
       " '__ne__',\n",
       " '__new__',\n",
       " '__reduce__',\n",
       " '__reduce_ex__',\n",
       " '__repr__',\n",
       " '__rmod__',\n",
       " '__rmul__',\n",
       " '__setattr__',\n",
       " '__sizeof__',\n",
       " '__str__',\n",
       " '__subclasshook__',\n",
       " 'capitalize',\n",
       " 'casefold',\n",
       " 'center',\n",
       " 'count',\n",
       " 'encode',\n",
       " 'endswith',\n",
       " 'expandtabs',\n",
       " 'find',\n",
       " 'format',\n",
       " 'format_map',\n",
       " 'index',\n",
       " 'isalnum',\n",
       " 'isalpha',\n",
       " 'isascii',\n",
       " 'isdecimal',\n",
       " 'isdigit',\n",
       " 'isidentifier',\n",
       " 'islower',\n",
       " 'isnumeric',\n",
       " 'isprintable',\n",
       " 'isspace',\n",
       " 'istitle',\n",
       " 'isupper',\n",
       " 'join',\n",
       " 'ljust',\n",
       " 'lower',\n",
       " 'lstrip',\n",
       " 'maketrans',\n",
       " 'partition',\n",
       " 'removeprefix',\n",
       " 'removesuffix',\n",
       " 'replace',\n",
       " 'rfind',\n",
       " 'rindex',\n",
       " 'rjust',\n",
       " 'rpartition',\n",
       " 'rsplit',\n",
       " 'rstrip',\n",
       " 'split',\n",
       " 'splitlines',\n",
       " 'startswith',\n",
       " 'strip',\n",
       " 'swapcase',\n",
       " 'title',\n",
       " 'translate',\n",
       " 'upper',\n",
       " 'zfill']"
      ]
     },
     "execution_count": 76,
     "metadata": {},
     "output_type": "execute_result"
    }
   ],
   "source": [
    "S = 'Spam'\n",
    "dir(S)                  # Список атрибутов и методов"
   ]
  },
  {
   "cell_type": "code",
   "execution_count": null,
   "metadata": {},
   "outputs": [
    {
     "data": {
      "text/plain": [
       "'spamUj!'"
      ]
     },
     "execution_count": 77,
     "metadata": {},
     "output_type": "execute_result"
    }
   ],
   "source": [
    "S = 'spam'\n",
    "S.__add__('Uj!')"
   ]
  },
  {
   "cell_type": "code",
   "execution_count": null,
   "metadata": {},
   "outputs": [
    {
     "name": "stdout",
     "output_type": "stream",
     "text": [
      "Help on built-in function replace:\n",
      "\n",
      "replace(old, new, count=-1, /) method of builtins.str instance\n",
      "    Return a copy with all occurrences of substring old replaced by new.\n",
      "    \n",
      "      count\n",
      "        Maximum number of occurrences to replace.\n",
      "        -1 (the default value) means replace all occurrences.\n",
      "    \n",
      "    If the optional argument count is given, only the first count occurrences are\n",
      "    replaced.\n",
      "\n"
     ]
    }
   ],
   "source": [
    "help(S.replace)                 # Вызов описания метода"
   ]
  },
  {
   "cell_type": "code",
   "execution_count": null,
   "metadata": {},
   "outputs": [
    {
     "data": {
      "text/plain": [
       "['__add__',\n",
       " '__class__',\n",
       " '__contains__',\n",
       " '__delattr__',\n",
       " '__dir__',\n",
       " '__doc__',\n",
       " '__eq__',\n",
       " '__format__',\n",
       " '__ge__',\n",
       " '__getattribute__',\n",
       " '__getitem__',\n",
       " '__getnewargs__',\n",
       " '__gt__',\n",
       " '__hash__',\n",
       " '__init__',\n",
       " '__init_subclass__',\n",
       " '__iter__',\n",
       " '__le__',\n",
       " '__len__',\n",
       " '__lt__',\n",
       " '__mod__',\n",
       " '__mul__',\n",
       " '__ne__',\n",
       " '__new__',\n",
       " '__reduce__',\n",
       " '__reduce_ex__',\n",
       " '__repr__',\n",
       " '__rmod__',\n",
       " '__rmul__',\n",
       " '__setattr__',\n",
       " '__sizeof__',\n",
       " '__str__',\n",
       " '__subclasshook__',\n",
       " 'capitalize',\n",
       " 'casefold',\n",
       " 'center',\n",
       " 'count',\n",
       " 'encode',\n",
       " 'endswith',\n",
       " 'expandtabs',\n",
       " 'find',\n",
       " 'format',\n",
       " 'format_map',\n",
       " 'index',\n",
       " 'isalnum',\n",
       " 'isalpha',\n",
       " 'isascii',\n",
       " 'isdecimal',\n",
       " 'isdigit',\n",
       " 'isidentifier',\n",
       " 'islower',\n",
       " 'isnumeric',\n",
       " 'isprintable',\n",
       " 'isspace',\n",
       " 'istitle',\n",
       " 'isupper',\n",
       " 'join',\n",
       " 'ljust',\n",
       " 'lower',\n",
       " 'lstrip',\n",
       " 'maketrans',\n",
       " 'partition',\n",
       " 'removeprefix',\n",
       " 'removesuffix',\n",
       " 'replace',\n",
       " 'rfind',\n",
       " 'rindex',\n",
       " 'rjust',\n",
       " 'rpartition',\n",
       " 'rsplit',\n",
       " 'rstrip',\n",
       " 'split',\n",
       " 'splitlines',\n",
       " 'startswith',\n",
       " 'strip',\n",
       " 'swapcase',\n",
       " 'title',\n",
       " 'translate',\n",
       " 'upper',\n",
       " 'zfill']"
      ]
     },
     "execution_count": 79,
     "metadata": {},
     "output_type": "execute_result"
    }
   ],
   "source": [
    "dir(str)          # На вход подаем не реальный объект, а тип данных"
   ]
  },
  {
   "cell_type": "code",
   "execution_count": null,
   "metadata": {},
   "outputs": [
    {
     "name": "stdout",
     "output_type": "stream",
     "text": [
      "Help on class str in module builtins:\n",
      "\n",
      "class str(object)\n",
      " |  str(object='') -> str\n",
      " |  str(bytes_or_buffer[, encoding[, errors]]) -> str\n",
      " |  \n",
      " |  Create a new string object from the given object. If encoding or\n",
      " |  errors is specified, then the object must expose a data buffer\n",
      " |  that will be decoded using the given encoding and error handler.\n",
      " |  Otherwise, returns the result of object.__str__() (if defined)\n",
      " |  or repr(object).\n",
      " |  encoding defaults to sys.getdefaultencoding().\n",
      " |  errors defaults to 'strict'.\n",
      " |  \n",
      " |  Methods defined here:\n",
      " |  \n",
      " |  __add__(self, value, /)\n",
      " |      Return self+value.\n",
      " |  \n",
      " |  __contains__(self, key, /)\n",
      " |      Return key in self.\n",
      " |  \n",
      " |  __eq__(self, value, /)\n",
      " |      Return self==value.\n",
      " |  \n",
      " |  __format__(self, format_spec, /)\n",
      " |      Return a formatted version of the string as described by format_spec.\n",
      " |  \n",
      " |  __ge__(self, value, /)\n",
      " |      Return self>=value.\n",
      " |  \n",
      " |  __getattribute__(self, name, /)\n",
      " |      Return getattr(self, name).\n",
      " |  \n",
      " |  __getitem__(self, key, /)\n",
      " |      Return self[key].\n",
      " |  \n",
      " |  __getnewargs__(...)\n",
      " |  \n",
      " |  __gt__(self, value, /)\n",
      " |      Return self>value.\n",
      " |  \n",
      " |  __hash__(self, /)\n",
      " |      Return hash(self).\n",
      " |  \n",
      " |  __iter__(self, /)\n",
      " |      Implement iter(self).\n",
      " |  \n",
      " |  __le__(self, value, /)\n",
      " |      Return self<=value.\n",
      " |  \n",
      " |  __len__(self, /)\n",
      " |      Return len(self).\n",
      " |  \n",
      " |  __lt__(self, value, /)\n",
      " |      Return self<value.\n",
      " |  \n",
      " |  __mod__(self, value, /)\n",
      " |      Return self%value.\n",
      " |  \n",
      " |  __mul__(self, value, /)\n",
      " |      Return self*value.\n",
      " |  \n",
      " |  __ne__(self, value, /)\n",
      " |      Return self!=value.\n",
      " |  \n",
      " |  __repr__(self, /)\n",
      " |      Return repr(self).\n",
      " |  \n",
      " |  __rmod__(self, value, /)\n",
      " |      Return value%self.\n",
      " |  \n",
      " |  __rmul__(self, value, /)\n",
      " |      Return value*self.\n",
      " |  \n",
      " |  __sizeof__(self, /)\n",
      " |      Return the size of the string in memory, in bytes.\n",
      " |  \n",
      " |  __str__(self, /)\n",
      " |      Return str(self).\n",
      " |  \n",
      " |  capitalize(self, /)\n",
      " |      Return a capitalized version of the string.\n",
      " |      \n",
      " |      More specifically, make the first character have upper case and the rest lower\n",
      " |      case.\n",
      " |  \n",
      " |  casefold(self, /)\n",
      " |      Return a version of the string suitable for caseless comparisons.\n",
      " |  \n",
      " |  center(self, width, fillchar=' ', /)\n",
      " |      Return a centered string of length width.\n",
      " |      \n",
      " |      Padding is done using the specified fill character (default is a space).\n",
      " |  \n",
      " |  count(...)\n",
      " |      S.count(sub[, start[, end]]) -> int\n",
      " |      \n",
      " |      Return the number of non-overlapping occurrences of substring sub in\n",
      " |      string S[start:end].  Optional arguments start and end are\n",
      " |      interpreted as in slice notation.\n",
      " |  \n",
      " |  encode(self, /, encoding='utf-8', errors='strict')\n",
      " |      Encode the string using the codec registered for encoding.\n",
      " |      \n",
      " |      encoding\n",
      " |        The encoding in which to encode the string.\n",
      " |      errors\n",
      " |        The error handling scheme to use for encoding errors.\n",
      " |        The default is 'strict' meaning that encoding errors raise a\n",
      " |        UnicodeEncodeError.  Other possible values are 'ignore', 'replace' and\n",
      " |        'xmlcharrefreplace' as well as any other name registered with\n",
      " |        codecs.register_error that can handle UnicodeEncodeErrors.\n",
      " |  \n",
      " |  endswith(...)\n",
      " |      S.endswith(suffix[, start[, end]]) -> bool\n",
      " |      \n",
      " |      Return True if S ends with the specified suffix, False otherwise.\n",
      " |      With optional start, test S beginning at that position.\n",
      " |      With optional end, stop comparing S at that position.\n",
      " |      suffix can also be a tuple of strings to try.\n",
      " |  \n",
      " |  expandtabs(self, /, tabsize=8)\n",
      " |      Return a copy where all tab characters are expanded using spaces.\n",
      " |      \n",
      " |      If tabsize is not given, a tab size of 8 characters is assumed.\n",
      " |  \n",
      " |  find(...)\n",
      " |      S.find(sub[, start[, end]]) -> int\n",
      " |      \n",
      " |      Return the lowest index in S where substring sub is found,\n",
      " |      such that sub is contained within S[start:end].  Optional\n",
      " |      arguments start and end are interpreted as in slice notation.\n",
      " |      \n",
      " |      Return -1 on failure.\n",
      " |  \n",
      " |  format(...)\n",
      " |      S.format(*args, **kwargs) -> str\n",
      " |      \n",
      " |      Return a formatted version of S, using substitutions from args and kwargs.\n",
      " |      The substitutions are identified by braces ('{' and '}').\n",
      " |  \n",
      " |  format_map(...)\n",
      " |      S.format_map(mapping) -> str\n",
      " |      \n",
      " |      Return a formatted version of S, using substitutions from mapping.\n",
      " |      The substitutions are identified by braces ('{' and '}').\n",
      " |  \n",
      " |  index(...)\n",
      " |      S.index(sub[, start[, end]]) -> int\n",
      " |      \n",
      " |      Return the lowest index in S where substring sub is found,\n",
      " |      such that sub is contained within S[start:end].  Optional\n",
      " |      arguments start and end are interpreted as in slice notation.\n",
      " |      \n",
      " |      Raises ValueError when the substring is not found.\n",
      " |  \n",
      " |  isalnum(self, /)\n",
      " |      Return True if the string is an alpha-numeric string, False otherwise.\n",
      " |      \n",
      " |      A string is alpha-numeric if all characters in the string are alpha-numeric and\n",
      " |      there is at least one character in the string.\n",
      " |  \n",
      " |  isalpha(self, /)\n",
      " |      Return True if the string is an alphabetic string, False otherwise.\n",
      " |      \n",
      " |      A string is alphabetic if all characters in the string are alphabetic and there\n",
      " |      is at least one character in the string.\n",
      " |  \n",
      " |  isascii(self, /)\n",
      " |      Return True if all characters in the string are ASCII, False otherwise.\n",
      " |      \n",
      " |      ASCII characters have code points in the range U+0000-U+007F.\n",
      " |      Empty string is ASCII too.\n",
      " |  \n",
      " |  isdecimal(self, /)\n",
      " |      Return True if the string is a decimal string, False otherwise.\n",
      " |      \n",
      " |      A string is a decimal string if all characters in the string are decimal and\n",
      " |      there is at least one character in the string.\n",
      " |  \n",
      " |  isdigit(self, /)\n",
      " |      Return True if the string is a digit string, False otherwise.\n",
      " |      \n",
      " |      A string is a digit string if all characters in the string are digits and there\n",
      " |      is at least one character in the string.\n",
      " |  \n",
      " |  isidentifier(self, /)\n",
      " |      Return True if the string is a valid Python identifier, False otherwise.\n",
      " |      \n",
      " |      Call keyword.iskeyword(s) to test whether string s is a reserved identifier,\n",
      " |      such as \"def\" or \"class\".\n",
      " |  \n",
      " |  islower(self, /)\n",
      " |      Return True if the string is a lowercase string, False otherwise.\n",
      " |      \n",
      " |      A string is lowercase if all cased characters in the string are lowercase and\n",
      " |      there is at least one cased character in the string.\n",
      " |  \n",
      " |  isnumeric(self, /)\n",
      " |      Return True if the string is a numeric string, False otherwise.\n",
      " |      \n",
      " |      A string is numeric if all characters in the string are numeric and there is at\n",
      " |      least one character in the string.\n",
      " |  \n",
      " |  isprintable(self, /)\n",
      " |      Return True if the string is printable, False otherwise.\n",
      " |      \n",
      " |      A string is printable if all of its characters are considered printable in\n",
      " |      repr() or if it is empty.\n",
      " |  \n",
      " |  isspace(self, /)\n",
      " |      Return True if the string is a whitespace string, False otherwise.\n",
      " |      \n",
      " |      A string is whitespace if all characters in the string are whitespace and there\n",
      " |      is at least one character in the string.\n",
      " |  \n",
      " |  istitle(self, /)\n",
      " |      Return True if the string is a title-cased string, False otherwise.\n",
      " |      \n",
      " |      In a title-cased string, upper- and title-case characters may only\n",
      " |      follow uncased characters and lowercase characters only cased ones.\n",
      " |  \n",
      " |  isupper(self, /)\n",
      " |      Return True if the string is an uppercase string, False otherwise.\n",
      " |      \n",
      " |      A string is uppercase if all cased characters in the string are uppercase and\n",
      " |      there is at least one cased character in the string.\n",
      " |  \n",
      " |  join(self, iterable, /)\n",
      " |      Concatenate any number of strings.\n",
      " |      \n",
      " |      The string whose method is called is inserted in between each given string.\n",
      " |      The result is returned as a new string.\n",
      " |      \n",
      " |      Example: '.'.join(['ab', 'pq', 'rs']) -> 'ab.pq.rs'\n",
      " |  \n",
      " |  ljust(self, width, fillchar=' ', /)\n",
      " |      Return a left-justified string of length width.\n",
      " |      \n",
      " |      Padding is done using the specified fill character (default is a space).\n",
      " |  \n",
      " |  lower(self, /)\n",
      " |      Return a copy of the string converted to lowercase.\n",
      " |  \n",
      " |  lstrip(self, chars=None, /)\n",
      " |      Return a copy of the string with leading whitespace removed.\n",
      " |      \n",
      " |      If chars is given and not None, remove characters in chars instead.\n",
      " |  \n",
      " |  partition(self, sep, /)\n",
      " |      Partition the string into three parts using the given separator.\n",
      " |      \n",
      " |      This will search for the separator in the string.  If the separator is found,\n",
      " |      returns a 3-tuple containing the part before the separator, the separator\n",
      " |      itself, and the part after it.\n",
      " |      \n",
      " |      If the separator is not found, returns a 3-tuple containing the original string\n",
      " |      and two empty strings.\n",
      " |  \n",
      " |  removeprefix(self, prefix, /)\n",
      " |      Return a str with the given prefix string removed if present.\n",
      " |      \n",
      " |      If the string starts with the prefix string, return string[len(prefix):].\n",
      " |      Otherwise, return a copy of the original string.\n",
      " |  \n",
      " |  removesuffix(self, suffix, /)\n",
      " |      Return a str with the given suffix string removed if present.\n",
      " |      \n",
      " |      If the string ends with the suffix string and that suffix is not empty,\n",
      " |      return string[:-len(suffix)]. Otherwise, return a copy of the original\n",
      " |      string.\n",
      " |  \n",
      " |  replace(self, old, new, count=-1, /)\n",
      " |      Return a copy with all occurrences of substring old replaced by new.\n",
      " |      \n",
      " |        count\n",
      " |          Maximum number of occurrences to replace.\n",
      " |          -1 (the default value) means replace all occurrences.\n",
      " |      \n",
      " |      If the optional argument count is given, only the first count occurrences are\n",
      " |      replaced.\n",
      " |  \n",
      " |  rfind(...)\n",
      " |      S.rfind(sub[, start[, end]]) -> int\n",
      " |      \n",
      " |      Return the highest index in S where substring sub is found,\n",
      " |      such that sub is contained within S[start:end].  Optional\n",
      " |      arguments start and end are interpreted as in slice notation.\n",
      " |      \n",
      " |      Return -1 on failure.\n",
      " |  \n",
      " |  rindex(...)\n",
      " |      S.rindex(sub[, start[, end]]) -> int\n",
      " |      \n",
      " |      Return the highest index in S where substring sub is found,\n",
      " |      such that sub is contained within S[start:end].  Optional\n",
      " |      arguments start and end are interpreted as in slice notation.\n",
      " |      \n",
      " |      Raises ValueError when the substring is not found.\n",
      " |  \n",
      " |  rjust(self, width, fillchar=' ', /)\n",
      " |      Return a right-justified string of length width.\n",
      " |      \n",
      " |      Padding is done using the specified fill character (default is a space).\n",
      " |  \n",
      " |  rpartition(self, sep, /)\n",
      " |      Partition the string into three parts using the given separator.\n",
      " |      \n",
      " |      This will search for the separator in the string, starting at the end. If\n",
      " |      the separator is found, returns a 3-tuple containing the part before the\n",
      " |      separator, the separator itself, and the part after it.\n",
      " |      \n",
      " |      If the separator is not found, returns a 3-tuple containing two empty strings\n",
      " |      and the original string.\n",
      " |  \n",
      " |  rsplit(self, /, sep=None, maxsplit=-1)\n",
      " |      Return a list of the substrings in the string, using sep as the separator string.\n",
      " |      \n",
      " |        sep\n",
      " |          The separator used to split the string.\n",
      " |      \n",
      " |          When set to None (the default value), will split on any whitespace\n",
      " |          character (including \\\\n \\\\r \\\\t \\\\f and spaces) and will discard\n",
      " |          empty strings from the result.\n",
      " |        maxsplit\n",
      " |          Maximum number of splits (starting from the left).\n",
      " |          -1 (the default value) means no limit.\n",
      " |      \n",
      " |      Splitting starts at the end of the string and works to the front.\n",
      " |  \n",
      " |  rstrip(self, chars=None, /)\n",
      " |      Return a copy of the string with trailing whitespace removed.\n",
      " |      \n",
      " |      If chars is given and not None, remove characters in chars instead.\n",
      " |  \n",
      " |  split(self, /, sep=None, maxsplit=-1)\n",
      " |      Return a list of the substrings in the string, using sep as the separator string.\n",
      " |      \n",
      " |        sep\n",
      " |          The separator used to split the string.\n",
      " |      \n",
      " |          When set to None (the default value), will split on any whitespace\n",
      " |          character (including \\\\n \\\\r \\\\t \\\\f and spaces) and will discard\n",
      " |          empty strings from the result.\n",
      " |        maxsplit\n",
      " |          Maximum number of splits (starting from the left).\n",
      " |          -1 (the default value) means no limit.\n",
      " |      \n",
      " |      Note, str.split() is mainly useful for data that has been intentionally\n",
      " |      delimited.  With natural text that includes punctuation, consider using\n",
      " |      the regular expression module.\n",
      " |  \n",
      " |  splitlines(self, /, keepends=False)\n",
      " |      Return a list of the lines in the string, breaking at line boundaries.\n",
      " |      \n",
      " |      Line breaks are not included in the resulting list unless keepends is given and\n",
      " |      true.\n",
      " |  \n",
      " |  startswith(...)\n",
      " |      S.startswith(prefix[, start[, end]]) -> bool\n",
      " |      \n",
      " |      Return True if S starts with the specified prefix, False otherwise.\n",
      " |      With optional start, test S beginning at that position.\n",
      " |      With optional end, stop comparing S at that position.\n",
      " |      prefix can also be a tuple of strings to try.\n",
      " |  \n",
      " |  strip(self, chars=None, /)\n",
      " |      Return a copy of the string with leading and trailing whitespace removed.\n",
      " |      \n",
      " |      If chars is given and not None, remove characters in chars instead.\n",
      " |  \n",
      " |  swapcase(self, /)\n",
      " |      Convert uppercase characters to lowercase and lowercase characters to uppercase.\n",
      " |  \n",
      " |  title(self, /)\n",
      " |      Return a version of the string where each word is titlecased.\n",
      " |      \n",
      " |      More specifically, words start with uppercased characters and all remaining\n",
      " |      cased characters have lower case.\n",
      " |  \n",
      " |  translate(self, table, /)\n",
      " |      Replace each character in the string using the given translation table.\n",
      " |      \n",
      " |        table\n",
      " |          Translation table, which must be a mapping of Unicode ordinals to\n",
      " |          Unicode ordinals, strings, or None.\n",
      " |      \n",
      " |      The table must implement lookup/indexing via __getitem__, for instance a\n",
      " |      dictionary or list.  If this operation raises LookupError, the character is\n",
      " |      left untouched.  Characters mapped to None are deleted.\n",
      " |  \n",
      " |  upper(self, /)\n",
      " |      Return a copy of the string converted to uppercase.\n",
      " |  \n",
      " |  zfill(self, width, /)\n",
      " |      Pad a numeric string with zeros on the left, to fill a field of the given width.\n",
      " |      \n",
      " |      The string is never truncated.\n",
      " |  \n",
      " |  ----------------------------------------------------------------------\n",
      " |  Static methods defined here:\n",
      " |  \n",
      " |  __new__(*args, **kwargs) from builtins.type\n",
      " |      Create and return a new object.  See help(type) for accurate signature.\n",
      " |  \n",
      " |  maketrans(...)\n",
      " |      Return a translation table usable for str.translate().\n",
      " |      \n",
      " |      If there is only one argument, it must be a dictionary mapping Unicode\n",
      " |      ordinals (integers) or characters to Unicode ordinals, strings or None.\n",
      " |      Character keys will be then converted to ordinals.\n",
      " |      If there are two arguments, they must be strings of equal length, and\n",
      " |      in the resulting dictionary, each character in x will be mapped to the\n",
      " |      character at the same position in y. If there is a third argument, it\n",
      " |      must be a string, whose characters will be mapped to None in the result.\n",
      "\n"
     ]
    }
   ],
   "source": [
    "help(str)                # Выдает описание класса"
   ]
  },
  {
   "cell_type": "markdown",
   "metadata": {},
   "source": [
    "### Специальные символы"
   ]
  },
  {
   "cell_type": "code",
   "execution_count": null,
   "metadata": {},
   "outputs": [
    {
     "data": {
      "text/plain": [
       "5"
      ]
     },
     "execution_count": 81,
     "metadata": {},
     "output_type": "execute_result"
    }
   ],
   "source": [
    "S = 'A\\nB\\tC'\n",
    "len(S)                              # здесь \\n и \\t являются одним символом (конец строки и табуляции)       "
   ]
  },
  {
   "cell_type": "code",
   "execution_count": null,
   "metadata": {},
   "outputs": [
    {
     "data": {
      "text/plain": [
       "10"
      ]
     },
     "execution_count": 84,
     "metadata": {},
     "output_type": "execute_result"
    }
   ],
   "source": [
    "ord('\\n')                             # \\n - один символ, кодируемый как десятичное значение 10"
   ]
  },
  {
   "cell_type": "code",
   "execution_count": null,
   "metadata": {},
   "outputs": [
    {
     "data": {
      "text/plain": [
       "5"
      ]
     },
     "execution_count": 85,
     "metadata": {},
     "output_type": "execute_result"
    }
   ],
   "source": [
    "S = 'A\\0B\\0C'                         # \\0 - байт с двоичными нулями, не завершает строку\n",
    "len(S)"
   ]
  },
  {
   "cell_type": "code",
   "execution_count": null,
   "metadata": {},
   "outputs": [
    {
     "data": {
      "text/plain": [
       "'A\\x00B\\x00C'"
      ]
     },
     "execution_count": 86,
     "metadata": {},
     "output_type": "execute_result"
    }
   ],
   "source": [
    "S"
   ]
  },
  {
   "cell_type": "code",
   "execution_count": null,
   "metadata": {},
   "outputs": [
    {
     "data": {
      "text/plain": [
       "'\\naaaaaaaaaaaaaaaaa\\nbbb\\'\\'\\'bbbbbbbbbbbbbb\"\"bbbbbbb\\'b\\ncccccccccccccccccc\\n'"
      ]
     },
     "execution_count": 94,
     "metadata": {},
     "output_type": "execute_result"
    }
   ],
   "source": [
    "# тройные кавычки позволяют объединять строки вместе с символом конца строки\n",
    "\n",
    "msg = \"\"\"\n",
    "aaaaaaaaaaaaaaaaa\n",
    "bbb'''bbbbbbbbbbbbbb\"\"bbbbbbb'b\n",
    "cccccccccccccccccc\n",
    "\"\"\"\n",
    "msg"
   ]
  },
  {
   "cell_type": "code",
   "execution_count": null,
   "metadata": {},
   "outputs": [
    {
     "data": {
      "text/plain": [
       "'C:\\\\text\\\\new'"
      ]
     },
     "execution_count": 88,
     "metadata": {},
     "output_type": "execute_result"
    }
   ],
   "source": [
    "path = r'C:\\text\\new'            # неформатируемые литералы\n",
    "path"
   ]
  },
  {
   "cell_type": "markdown",
   "metadata": {},
   "source": [
    "### Сопоставление с образцом"
   ]
  },
  {
   "cell_type": "code",
   "execution_count": null,
   "metadata": {},
   "outputs": [
    {
     "data": {
      "text/plain": [
       "'Python'"
      ]
     },
     "execution_count": 159,
     "metadata": {},
     "output_type": "execute_result"
    }
   ],
   "source": [
    "import re\n",
    "match = re.match('Hello[ \\t]*(.*) world', 'Hello         Python world')\n",
    "match.group(1)"
   ]
  },
  {
   "cell_type": "code",
   "execution_count": null,
   "metadata": {},
   "outputs": [
    {
     "data": {
      "text/plain": [
       "('usr', 'home', 'lunberjack')"
      ]
     },
     "execution_count": 160,
     "metadata": {},
     "output_type": "execute_result"
    }
   ],
   "source": [
    "match = re.match('[/:](.*)[/:](.*)[/:](.*)', '/usr/home:lunberjack')\n",
    "match.groups()"
   ]
  },
  {
   "cell_type": "code",
   "execution_count": null,
   "metadata": {},
   "outputs": [
    {
     "data": {
      "text/plain": [
       "['', '', 'usr', 'home', 'lumberjack']"
      ]
     },
     "execution_count": 161,
     "metadata": {},
     "output_type": "execute_result"
    }
   ],
   "source": [
    "re.split('[/:]', '//usr/home/lumberjack')"
   ]
  },
  {
   "cell_type": "markdown",
   "metadata": {},
   "source": [
    "### Unicode"
   ]
  },
  {
   "cell_type": "code",
   "execution_count": null,
   "metadata": {},
   "outputs": [
    {
     "data": {
      "text/plain": [
       "'spÄm'"
      ]
     },
     "execution_count": 111,
     "metadata": {},
     "output_type": "execute_result"
    }
   ],
   "source": [
    "'sp\\xc4m'"
   ]
  },
  {
   "cell_type": "code",
   "execution_count": null,
   "metadata": {},
   "outputs": [
    {
     "data": {
      "text/plain": [
       "b'a\\x01c'"
      ]
     },
     "execution_count": 112,
     "metadata": {},
     "output_type": "execute_result"
    }
   ],
   "source": [
    "b'a\\x01c'"
   ]
  },
  {
   "cell_type": "code",
   "execution_count": null,
   "metadata": {},
   "outputs": [
    {
     "data": {
      "text/plain": [
       "'spÄm'"
      ]
     },
     "execution_count": 113,
     "metadata": {},
     "output_type": "execute_result"
    }
   ],
   "source": [
    "u'sp\\u00c4m'"
   ]
  },
  {
   "cell_type": "code",
   "execution_count": null,
   "metadata": {},
   "outputs": [
    {
     "data": {
      "text/plain": [
       "')'"
      ]
     },
     "execution_count": 115,
     "metadata": {},
     "output_type": "execute_result"
    }
   ],
   "source": [
    "'\\x29'"
   ]
  },
  {
   "cell_type": "code",
   "execution_count": null,
   "metadata": {},
   "outputs": [
    {
     "data": {
      "text/plain": [
       "'@'"
      ]
     },
     "execution_count": 116,
     "metadata": {},
     "output_type": "execute_result"
    }
   ],
   "source": [
    "'\\x40'"
   ]
  },
  {
   "cell_type": "code",
   "execution_count": null,
   "metadata": {},
   "outputs": [
    {
     "data": {
      "text/plain": [
       "b'xy'"
      ]
     },
     "execution_count": 119,
     "metadata": {},
     "output_type": "execute_result"
    }
   ],
   "source": [
    "'x'.encode() + b'y'"
   ]
  },
  {
   "cell_type": "code",
   "execution_count": null,
   "metadata": {},
   "outputs": [
    {
     "data": {
      "text/plain": [
       "'xy'"
      ]
     },
     "execution_count": 120,
     "metadata": {},
     "output_type": "execute_result"
    }
   ],
   "source": [
    "'x' + b'y'.decode()"
   ]
  },
  {
   "cell_type": "markdown",
   "metadata": {},
   "source": [
    "## Списки (изменяемые)"
   ]
  },
  {
   "cell_type": "code",
   "execution_count": null,
   "metadata": {},
   "outputs": [
    {
     "data": {
      "text/plain": [
       "3"
      ]
     },
     "execution_count": 126,
     "metadata": {},
     "output_type": "execute_result"
    }
   ],
   "source": [
    "L = [123, 'spam', 1.23]\n",
    "len(L)"
   ]
  },
  {
   "cell_type": "code",
   "execution_count": null,
   "metadata": {},
   "outputs": [
    {
     "data": {
      "text/plain": [
       "123"
      ]
     },
     "execution_count": 127,
     "metadata": {},
     "output_type": "execute_result"
    }
   ],
   "source": [
    "L[0]"
   ]
  },
  {
   "cell_type": "code",
   "execution_count": null,
   "metadata": {},
   "outputs": [
    {
     "data": {
      "text/plain": [
       "[123, 'spam']"
      ]
     },
     "execution_count": 129,
     "metadata": {},
     "output_type": "execute_result"
    }
   ],
   "source": [
    "L[:-1]"
   ]
  },
  {
   "cell_type": "code",
   "execution_count": null,
   "metadata": {},
   "outputs": [
    {
     "data": {
      "text/plain": [
       "[123, 'spam', 1.23, 4, 5, 6]"
      ]
     },
     "execution_count": 130,
     "metadata": {},
     "output_type": "execute_result"
    }
   ],
   "source": [
    "L + [4, 5, 6]"
   ]
  },
  {
   "cell_type": "code",
   "execution_count": null,
   "metadata": {},
   "outputs": [
    {
     "data": {
      "text/plain": [
       "[123, 'spam', 1.23, 123, 'spam', 1.23]"
      ]
     },
     "execution_count": 131,
     "metadata": {},
     "output_type": "execute_result"
    }
   ],
   "source": [
    "L * 2"
   ]
  },
  {
   "cell_type": "code",
   "execution_count": null,
   "metadata": {},
   "outputs": [
    {
     "data": {
      "text/plain": [
       "[123, 'spam', 1.23]"
      ]
     },
     "execution_count": 132,
     "metadata": {},
     "output_type": "execute_result"
    }
   ],
   "source": [
    "L                   # Исходный список не изменился, несмотря на то, что это изменяемый тип"
   ]
  },
  {
   "cell_type": "markdown",
   "metadata": {},
   "source": [
    "### Операции специфичные для списка"
   ]
  },
  {
   "cell_type": "code",
   "execution_count": null,
   "metadata": {},
   "outputs": [
    {
     "data": {
      "text/plain": [
       "[123, 'spam', 1.23, 'NI']"
      ]
     },
     "execution_count": 133,
     "metadata": {},
     "output_type": "execute_result"
    }
   ],
   "source": [
    "L.append('NI')                # Увеличение: добавление объекта в конец списка\n",
    "L"
   ]
  },
  {
   "cell_type": "code",
   "execution_count": null,
   "metadata": {},
   "outputs": [
    {
     "data": {
      "text/plain": [
       "1.23"
      ]
     },
     "execution_count": 134,
     "metadata": {},
     "output_type": "execute_result"
    }
   ],
   "source": [
    "L.pop(2) \n",
    "                     # Уменьшение: удаление элемента из середины"
   ]
  },
  {
   "cell_type": "code",
   "execution_count": null,
   "metadata": {},
   "outputs": [
    {
     "data": {
      "text/plain": [
       "[123, 'spam', 'NI']"
      ]
     },
     "execution_count": 135,
     "metadata": {},
     "output_type": "execute_result"
    }
   ],
   "source": [
    "L"
   ]
  },
  {
   "cell_type": "code",
   "execution_count": null,
   "metadata": {},
   "outputs": [
    {
     "data": {
      "text/plain": [
       "['aa', 'bb', 'cc']"
      ]
     },
     "execution_count": 136,
     "metadata": {},
     "output_type": "execute_result"
    }
   ],
   "source": [
    "M = ['bb', 'aa', 'cc']             # Поскольку списки - это изменяемые объекты, то большиноство его методов модифицирует его \n",
    "M.sort()\n",
    "M"
   ]
  },
  {
   "cell_type": "code",
   "execution_count": null,
   "metadata": {},
   "outputs": [
    {
     "data": {
      "text/plain": [
       "['cc', 'bb', 'aa']"
      ]
     },
     "execution_count": 137,
     "metadata": {},
     "output_type": "execute_result"
    }
   ],
   "source": [
    "M.reverse()       \n",
    "M"
   ]
  },
  {
   "cell_type": "code",
   "execution_count": null,
   "metadata": {},
   "outputs": [
    {
     "data": {
      "text/plain": [
       "[[1, 2, 3], [4, 5, 6], [7, 8, 9]]"
      ]
     },
     "execution_count": 138,
     "metadata": {},
     "output_type": "execute_result"
    }
   ],
   "source": [
    "MATR = [[1, 2, 3],\n",
    "        [4, 5, 6],\n",
    "        [7, 8 ,9]]\n",
    "MATR"
   ]
  },
  {
   "cell_type": "code",
   "execution_count": null,
   "metadata": {},
   "outputs": [
    {
     "data": {
      "text/plain": [
       "[4, 5, 6]"
      ]
     },
     "execution_count": 141,
     "metadata": {},
     "output_type": "execute_result"
    }
   ],
   "source": [
    "MATR[1]           # Доступ к второй строке"
   ]
  },
  {
   "cell_type": "code",
   "execution_count": null,
   "metadata": {},
   "outputs": [],
   "source": [
    "MATR[1][2]             # Доступ к третьему элементу второй строки "
   ]
  },
  {
   "cell_type": "markdown",
   "metadata": {},
   "source": [
    "### Списковые включения"
   ]
  },
  {
   "cell_type": "code",
   "execution_count": null,
   "metadata": {},
   "outputs": [
    {
     "data": {
      "text/plain": [
       "[2, 5, 8]"
      ]
     },
     "execution_count": 143,
     "metadata": {},
     "output_type": "execute_result"
    }
   ],
   "source": [
    "col2 = [row[1] for row in MATR]     # list comprehension for column 2\n",
    "col2"
   ]
  },
  {
   "cell_type": "code",
   "execution_count": null,
   "metadata": {},
   "outputs": [
    {
     "data": {
      "text/plain": [
       "[3, 6, 9]"
      ]
     },
     "execution_count": 144,
     "metadata": {},
     "output_type": "execute_result"
    }
   ],
   "source": [
    "[row[1] + 1 for row in MATR]        # Добавил 1 к каждому элементу во втором столбце"
   ]
  },
  {
   "cell_type": "code",
   "execution_count": null,
   "metadata": {},
   "outputs": [
    {
     "data": {
      "text/plain": [
       "[2, 8]"
      ]
     },
     "execution_count": 145,
     "metadata": {},
     "output_type": "execute_result"
    }
   ],
   "source": [
    "[row[1] for row in MATR  if row[1] % 2 == 0]      # Отфильтровал четные элементы во втором столбце"
   ]
  },
  {
   "cell_type": "code",
   "execution_count": null,
   "metadata": {},
   "outputs": [
    {
     "data": {
      "text/plain": [
       "[1, 5, 9]"
      ]
     },
     "execution_count": 146,
     "metadata": {},
     "output_type": "execute_result"
    }
   ],
   "source": [
    "diag = [MATR[i][i] for i in [0, 1, 2]]            # диагональ матрицы \n",
    "diag"
   ]
  },
  {
   "cell_type": "code",
   "execution_count": null,
   "metadata": {},
   "outputs": [
    {
     "data": {
      "text/plain": [
       "['ss', 'pp', 'aa', 'mm']"
      ]
     },
     "execution_count": 147,
     "metadata": {},
     "output_type": "execute_result"
    }
   ],
   "source": [
    "doubles = [c * 2 for c in 'spam']                 # списковые включения можно использовать для иттерируемых объектов, например строк\n",
    "doubles"
   ]
  },
  {
   "cell_type": "code",
   "execution_count": null,
   "metadata": {},
   "outputs": [
    {
     "data": {
      "text/plain": [
       "[0, 1, 2, 3]"
      ]
     },
     "execution_count": 149,
     "metadata": {},
     "output_type": "execute_result"
    }
   ],
   "source": [
    "list(range(4))            # для отображения последовательности range использует list"
   ]
  },
  {
   "cell_type": "code",
   "execution_count": null,
   "metadata": {},
   "outputs": [
    {
     "data": {
      "text/plain": [
       "[-6, -4, -2, 0, 2, 4, 6]"
      ]
     },
     "execution_count": 150,
     "metadata": {},
     "output_type": "execute_result"
    }
   ],
   "source": [
    "list(range(-6, 7, 2))          # от -6 до 6 с шагом 2"
   ]
  },
  {
   "cell_type": "code",
   "execution_count": null,
   "metadata": {},
   "outputs": [
    {
     "data": {
      "text/plain": [
       "[[0, 0], [1, 1], [4, 8], [9, 27]]"
      ]
     },
     "execution_count": 153,
     "metadata": {},
     "output_type": "execute_result"
    }
   ],
   "source": [
    "[[x**2, x**3] for x in range(4)]"
   ]
  },
  {
   "cell_type": "code",
   "execution_count": null,
   "metadata": {},
   "outputs": [
    {
     "data": {
      "text/plain": [
       "[[2, 1.0, 4], [4, 2.0, 8], [6, 3.0, 12]]"
      ]
     },
     "execution_count": 154,
     "metadata": {},
     "output_type": "execute_result"
    }
   ],
   "source": [
    "[[x, x/2, x*2] for x in range(-6, 7, 2) if x>0]"
   ]
  },
  {
   "cell_type": "code",
   "execution_count": null,
   "metadata": {},
   "outputs": [
    {
     "data": {
      "text/plain": [
       "6"
      ]
     },
     "execution_count": 155,
     "metadata": {},
     "output_type": "execute_result"
    }
   ],
   "source": [
    "G = (sum(row) for row in MATR)             # Генеретор производящий результат по требованию, используются круглые скобки\n",
    "next(G)                                    # Требование"
   ]
  },
  {
   "cell_type": "code",
   "execution_count": null,
   "metadata": {},
   "outputs": [
    {
     "data": {
      "text/plain": [
       "15"
      ]
     },
     "execution_count": 156,
     "metadata": {},
     "output_type": "execute_result"
    }
   ],
   "source": [
    "next(G)                                    # Следующее требование"
   ]
  },
  {
   "cell_type": "code",
   "execution_count": null,
   "metadata": {},
   "outputs": [
    {
     "data": {
      "text/plain": [
       "[6, 15, 24]"
      ]
     },
     "execution_count": 157,
     "metadata": {},
     "output_type": "execute_result"
    }
   ],
   "source": [
    "[sum(row) for row in MATR]                 # Поместили генератор в список"
   ]
  },
  {
   "cell_type": "code",
   "execution_count": null,
   "metadata": {},
   "outputs": [
    {
     "data": {
      "text/plain": [
       "6"
      ]
     },
     "execution_count": 160,
     "metadata": {},
     "output_type": "execute_result"
    }
   ],
   "source": [
    "d = map(sum, MATR)                         # Отобразили sum на элементы MATR те строки матрицы\n",
    "next(d)"
   ]
  },
  {
   "cell_type": "code",
   "execution_count": null,
   "metadata": {},
   "outputs": [
    {
     "data": {
      "text/plain": [
       "{6, 15, 24}"
      ]
     },
     "execution_count": 161,
     "metadata": {},
     "output_type": "execute_result"
    }
   ],
   "source": [
    "{sum(row) for row in MATR}                # используем списковое включение для создания множества"
   ]
  },
  {
   "cell_type": "code",
   "execution_count": null,
   "metadata": {},
   "outputs": [
    {
     "data": {
      "text/plain": [
       "{0: 6, 1: 15, 2: 24}"
      ]
     },
     "execution_count": 162,
     "metadata": {},
     "output_type": "execute_result"
    }
   ],
   "source": [
    "{i : sum(MATR[i]) for i in range(3)}      # исплоьзуем списковое включение для создания словаря"
   ]
  },
  {
   "cell_type": "code",
   "execution_count": null,
   "metadata": {},
   "outputs": [
    {
     "data": {
      "text/plain": [
       "[115, 112, 97, 109]"
      ]
     },
     "execution_count": 163,
     "metadata": {},
     "output_type": "execute_result"
    }
   ],
   "source": [
    "[ord(x) for x in 'spam']"
   ]
  },
  {
   "cell_type": "code",
   "execution_count": null,
   "metadata": {},
   "outputs": [
    {
     "data": {
      "text/plain": [
       "{97, 109, 112, 115}"
      ]
     },
     "execution_count": 164,
     "metadata": {},
     "output_type": "execute_result"
    }
   ],
   "source": [
    "{ord(x) for x in 'spaam'}         "
   ]
  },
  {
   "cell_type": "code",
   "execution_count": null,
   "metadata": {},
   "outputs": [
    {
     "data": {
      "text/plain": [
       "{'s': 115, 'p': 112, 'a': 97, 'm': 109}"
      ]
     },
     "execution_count": 165,
     "metadata": {},
     "output_type": "execute_result"
    }
   ],
   "source": [
    "{x: ord(x) for x in 'spaam'}"
   ]
  },
  {
   "cell_type": "code",
   "execution_count": null,
   "metadata": {},
   "outputs": [
    {
     "data": {
      "text/plain": [
       "<generator object <genexpr> at 0x000001A101FD3610>"
      ]
     },
     "execution_count": 166,
     "metadata": {},
     "output_type": "execute_result"
    }
   ],
   "source": [
    "(ord(x) for x in 'spaam')"
   ]
  },
  {
   "cell_type": "markdown",
   "metadata": {},
   "source": [
    "## Словари (изменяемые)"
   ]
  },
  {
   "cell_type": "code",
   "execution_count": null,
   "metadata": {},
   "outputs": [
    {
     "data": {
      "text/plain": [
       "'Spam'"
      ]
     },
     "execution_count": 173,
     "metadata": {},
     "output_type": "execute_result"
    }
   ],
   "source": [
    "D = {'food': 'Spam', 'quantity': 4, 'color': 'pink'}\n",
    "D['food']                                                     # Извлечь значение по ключу"
   ]
  },
  {
   "cell_type": "code",
   "execution_count": null,
   "metadata": {},
   "outputs": [
    {
     "data": {
      "text/plain": [
       "{'food': 'Spam', 'quantity': 5, 'color': 'pink'}"
      ]
     },
     "execution_count": 174,
     "metadata": {},
     "output_type": "execute_result"
    }
   ],
   "source": [
    "D['quantity'] +=1                              # Добавили 1 к значению по ключу\n",
    "D"
   ]
  },
  {
   "cell_type": "code",
   "execution_count": null,
   "metadata": {},
   "outputs": [
    {
     "data": {
      "text/plain": [
       "{'name': 'Bob', 'job': 'dev', 'age': 40, 12: 13}"
      ]
     },
     "execution_count": 176,
     "metadata": {},
     "output_type": "execute_result"
    }
   ],
   "source": [
    "D = {}\n",
    "D['name'] = 'Bob'                             # Присваивание приводит к созданию ключей\n",
    "D['job'] = 'dev'\n",
    "D['age'] = 40\n",
    "D[12] = 13\n",
    "D"
   ]
  },
  {
   "cell_type": "code",
   "execution_count": null,
   "metadata": {},
   "outputs": [
    {
     "data": {
      "text/plain": [
       "{'name': 'Bob', 'job': 'dev', 'age': 40}"
      ]
     },
     "execution_count": 180,
     "metadata": {},
     "output_type": "execute_result"
    }
   ],
   "source": [
    "bob1 = dict (name = 'Bob' , job ='dev', age = 40)                 # вариант созданя словаря через dict\n",
    "bob1"
   ]
  },
  {
   "cell_type": "code",
   "execution_count": null,
   "metadata": {},
   "outputs": [
    {
     "data": {
      "text/plain": [
       "{'name': 'Bob', 'job': 'dev', 'age': 40}"
      ]
     },
     "execution_count": 182,
     "metadata": {},
     "output_type": "execute_result"
    }
   ],
   "source": [
    "bob2 = dict(zip(['name', 'job', 'age'], ['Bob', 'dev', 40, 3]))      # связывание вместе\n",
    "bob2"
   ]
  },
  {
   "cell_type": "code",
   "execution_count": null,
   "metadata": {},
   "outputs": [
    {
     "data": {
      "text/plain": [
       "{'name': {'first': 'Bob', 'last': 'Smith'}, 'job': ['dev', 'mgr'], 'age': 40.5}"
      ]
     },
     "execution_count": 185,
     "metadata": {},
     "output_type": "execute_result"
    }
   ],
   "source": [
    "rec = {'name': {'first': 'Bob', 'last': 'Smith'},         # вложенный словарь\n",
    "        'job': ['dev', 'mgr'],\n",
    "        'age': 40.5}\n",
    "rec"
   ]
  },
  {
   "cell_type": "code",
   "execution_count": null,
   "metadata": {},
   "outputs": [
    {
     "data": {
      "text/plain": [
       "'Smith'"
      ]
     },
     "execution_count": 186,
     "metadata": {},
     "output_type": "execute_result"
    }
   ],
   "source": [
    "rec['name']['last']        # Индексация во вложенном словаре"
   ]
  },
  {
   "cell_type": "code",
   "execution_count": null,
   "metadata": {},
   "outputs": [
    {
     "data": {
      "text/plain": [
       "'janitor'"
      ]
     },
     "execution_count": 189,
     "metadata": {},
     "output_type": "execute_result"
    }
   ],
   "source": [
    "rec['job'][-1]          # Доступ к элементам вложенного в словарь списка"
   ]
  },
  {
   "cell_type": "code",
   "execution_count": null,
   "metadata": {},
   "outputs": [
    {
     "data": {
      "text/plain": [
       "{'name': {'first': 'Bob', 'last': 'Smith'},\n",
       " 'job': ['dev', 'mgr', 'janitor'],\n",
       " 'age': 40.5}"
      ]
     },
     "execution_count": 188,
     "metadata": {},
     "output_type": "execute_result"
    }
   ],
   "source": [
    "rec['job'].append('janitor')   # Расширение вложенного в словарь списка должностей\n",
    "rec"
   ]
  },
  {
   "cell_type": "markdown",
   "metadata": {},
   "source": [
    "### Недостающие ключи: проверки if"
   ]
  },
  {
   "cell_type": "code",
   "execution_count": null,
   "metadata": {},
   "outputs": [
    {
     "data": {
      "text/plain": [
       "{'a': 1, 'b': 2, 'c': 3}"
      ]
     },
     "execution_count": 190,
     "metadata": {},
     "output_type": "execute_result"
    }
   ],
   "source": [
    "D = {'a' : 1, 'b' : 2, 'c' : 3}\n",
    "D"
   ]
  },
  {
   "cell_type": "code",
   "execution_count": null,
   "metadata": {},
   "outputs": [
    {
     "ename": "KeyError",
     "evalue": "'f'",
     "output_type": "error",
     "traceback": [
      "\u001b[1;31m---------------------------------------------------------------------------\u001b[0m",
      "\u001b[1;31mKeyError\u001b[0m                                  Traceback (most recent call last)",
      "\u001b[1;32mc:\\Users\\k-pro\\OneDrive\\Desktop\\k-project\\LutzM.ipynb Cell 113\u001b[0m line \u001b[0;36m1\n\u001b[1;32m----> <a href='vscode-notebook-cell:/c%3A/Users/k-pro/OneDrive/Desktop/k-project/LutzM.ipynb#Y230sZmlsZQ%3D%3D?line=0'>1</a>\u001b[0m D[\u001b[39m'\u001b[39;49m\u001b[39mf\u001b[39;49m\u001b[39m'\u001b[39;49m]\n",
      "\u001b[1;31mKeyError\u001b[0m: 'f'"
     ]
    }
   ],
   "source": [
    "D['f']"
   ]
  },
  {
   "cell_type": "code",
   "execution_count": null,
   "metadata": {},
   "outputs": [
    {
     "data": {
      "text/plain": [
       "False"
      ]
     },
     "execution_count": 192,
     "metadata": {},
     "output_type": "execute_result"
    }
   ],
   "source": [
    "'f' in D"
   ]
  },
  {
   "cell_type": "code",
   "execution_count": null,
   "metadata": {},
   "outputs": [
    {
     "name": "stdout",
     "output_type": "stream",
     "text": [
      "missing\n"
     ]
    }
   ],
   "source": [
    "if not 'f' in D:\n",
    "    print('missing')"
   ]
  },
  {
   "cell_type": "code",
   "execution_count": null,
   "metadata": {},
   "outputs": [
    {
     "data": {
      "text/plain": [
       "0"
      ]
     },
     "execution_count": 197,
     "metadata": {},
     "output_type": "execute_result"
    }
   ],
   "source": [
    "value = D.get('f', 0)  # Индекс со стандартным вариантом get\n",
    "value"
   ]
  },
  {
   "cell_type": "code",
   "execution_count": null,
   "metadata": {},
   "outputs": [
    {
     "data": {
      "text/plain": [
       "0"
      ]
     },
     "execution_count": 195,
     "metadata": {},
     "output_type": "execute_result"
    }
   ],
   "source": [
    "value = D['x'] if 'x' in D else 0    # Форма выражения if/else\n",
    "value"
   ]
  },
  {
   "cell_type": "markdown",
   "metadata": {},
   "source": [
    "### Сортировка ключей: циклы for"
   ]
  },
  {
   "cell_type": "code",
   "execution_count": null,
   "metadata": {},
   "outputs": [],
   "source": [
    "D = {'a' : 1, 'c' : 3, 'b' : 2}"
   ]
  },
  {
   "cell_type": "code",
   "execution_count": null,
   "metadata": {},
   "outputs": [
    {
     "data": {
      "text/plain": [
       "['a', 'c', 'b']"
      ]
     },
     "execution_count": 220,
     "metadata": {},
     "output_type": "execute_result"
    }
   ],
   "source": [
    "Ks = list(D.keys())\n",
    "Ks"
   ]
  },
  {
   "cell_type": "code",
   "execution_count": null,
   "metadata": {},
   "outputs": [
    {
     "data": {
      "text/plain": [
       "['a', 'b', 'c']"
      ]
     },
     "execution_count": 221,
     "metadata": {},
     "output_type": "execute_result"
    }
   ],
   "source": [
    "Ks.sort()                                  # Сортируем список\n",
    "Ks"
   ]
  },
  {
   "cell_type": "code",
   "execution_count": null,
   "metadata": {},
   "outputs": [
    {
     "name": "stdout",
     "output_type": "stream",
     "text": [
      "a => 1\n",
      "b => 2\n",
      "c => 3\n"
     ]
    }
   ],
   "source": [
    "for key in sorted(D):\n",
    "    print (key, '=>', D[key])"
   ]
  },
  {
   "cell_type": "code",
   "execution_count": null,
   "metadata": {},
   "outputs": [
    {
     "data": {
      "text/plain": [
       "['a', 'b', 'c']"
      ]
     },
     "execution_count": 224,
     "metadata": {},
     "output_type": "execute_result"
    }
   ],
   "source": [
    "sorted(D)"
   ]
  },
  {
   "cell_type": "code",
   "execution_count": null,
   "metadata": {},
   "outputs": [
    {
     "name": "stdout",
     "output_type": "stream",
     "text": [
      "Help on built-in function sorted in module builtins:\n",
      "\n",
      "sorted(iterable, /, *, key=None, reverse=False)\n",
      "    Return a new list containing all items from the iterable in ascending order.\n",
      "    \n",
      "    A custom key function can be supplied to customize the sort order, and the\n",
      "    reverse flag can be set to request the result in descending order.\n",
      "\n"
     ]
    }
   ],
   "source": [
    "help(sorted)"
   ]
  },
  {
   "cell_type": "markdown",
   "metadata": {},
   "source": [
    "## Кортежи и все остальное"
   ]
  },
  {
   "cell_type": "markdown",
   "metadata": {},
   "source": [
    "### Кортежи (неизменяемые)"
   ]
  },
  {
   "cell_type": "code",
   "execution_count": null,
   "metadata": {},
   "outputs": [],
   "source": [
    "T = (1, 2, 3, 4)                # Кортеж из 4 элементов"
   ]
  },
  {
   "cell_type": "code",
   "execution_count": null,
   "metadata": {},
   "outputs": [
    {
     "data": {
      "text/plain": [
       "4"
      ]
     },
     "execution_count": 257,
     "metadata": {},
     "output_type": "execute_result"
    }
   ],
   "source": [
    "len(T)                         # Длина "
   ]
  },
  {
   "cell_type": "code",
   "execution_count": null,
   "metadata": {},
   "outputs": [
    {
     "data": {
      "text/plain": [
       "(1, 2, 3, 4, 4, 5, 6)"
      ]
     },
     "execution_count": 258,
     "metadata": {},
     "output_type": "execute_result"
    }
   ],
   "source": [
    "T = T + (4, 5, 6)\n",
    "T                # конкатенация"
   ]
  },
  {
   "cell_type": "code",
   "execution_count": null,
   "metadata": {},
   "outputs": [
    {
     "data": {
      "text/plain": [
       "1"
      ]
     },
     "execution_count": 259,
     "metadata": {},
     "output_type": "execute_result"
    }
   ],
   "source": [
    "T[0]                     # Индексация, нарезание и тд."
   ]
  },
  {
   "cell_type": "code",
   "execution_count": null,
   "metadata": {},
   "outputs": [
    {
     "data": {
      "text/plain": [
       "3"
      ]
     },
     "execution_count": 260,
     "metadata": {},
     "output_type": "execute_result"
    }
   ],
   "source": [
    "T.index(4)             # 4 обнаруживается по смещению 3"
   ]
  },
  {
   "cell_type": "code",
   "execution_count": null,
   "metadata": {},
   "outputs": [
    {
     "data": {
      "text/plain": [
       "2"
      ]
     },
     "execution_count": 261,
     "metadata": {},
     "output_type": "execute_result"
    }
   ],
   "source": [
    "T.count(4)                # 4 обнаруживается два раза"
   ]
  },
  {
   "cell_type": "code",
   "execution_count": null,
   "metadata": {},
   "outputs": [
    {
     "ename": "TypeError",
     "evalue": "'tuple' object does not support item assignment",
     "output_type": "error",
     "traceback": [
      "\u001b[1;31m---------------------------------------------------------------------------\u001b[0m",
      "\u001b[1;31mTypeError\u001b[0m                                 Traceback (most recent call last)",
      "\u001b[1;32mc:\\Users\\k-pro\\OneDrive\\Desktop\\k-project\\LutzM.ipynb Cell 133\u001b[0m line \u001b[0;36m1\n\u001b[1;32m----> <a href='vscode-notebook-cell:/c%3A/Users/k-pro/OneDrive/Desktop/k-project/LutzM.ipynb#Y261sZmlsZQ%3D%3D?line=0'>1</a>\u001b[0m T[\u001b[39m0\u001b[39;49m] \u001b[39m=\u001b[39m \u001b[39m2\u001b[39m\n",
      "\u001b[1;31mTypeError\u001b[0m: 'tuple' object does not support item assignment"
     ]
    }
   ],
   "source": [
    "T[0] = 2               # Неизменяемость"
   ]
  },
  {
   "cell_type": "code",
   "execution_count": null,
   "metadata": {},
   "outputs": [
    {
     "data": {
      "text/plain": [
       "(2, 2, 3, 4, 4, 5, 6)"
      ]
     },
     "execution_count": 263,
     "metadata": {},
     "output_type": "execute_result"
    }
   ],
   "source": [
    "T = (2,) + T[1:]        # Кортеж из одного элемента с хвостовой запятой\n",
    "T"
   ]
  },
  {
   "cell_type": "code",
   "execution_count": null,
   "metadata": {},
   "outputs": [
    {
     "data": {
      "text/plain": [
       "3.0"
      ]
     },
     "execution_count": 264,
     "metadata": {},
     "output_type": "execute_result"
    }
   ],
   "source": [
    "T = 'spam', 3.0, [11, 22, 33]             # Круглые скобки можно опускать\n",
    "T[1]"
   ]
  },
  {
   "cell_type": "code",
   "execution_count": null,
   "metadata": {},
   "outputs": [
    {
     "data": {
      "text/plain": [
       "tuple"
      ]
     },
     "execution_count": 265,
     "metadata": {},
     "output_type": "execute_result"
    }
   ],
   "source": [
    "type(T)"
   ]
  },
  {
   "cell_type": "markdown",
   "metadata": {},
   "source": [
    "### Файлы"
   ]
  },
  {
   "cell_type": "code",
   "execution_count": null,
   "metadata": {},
   "outputs": [],
   "source": [
    "f = open('data.txt', 'w')          # СОздание файла в режиме обработки - запись\n",
    "f.write('Hello\\n')                 # Записали строку символов\n",
    "f.write('world\\n')\n",
    "f.close()                          # Закрыть для сбрасывание буфера вывода на диск\n"
   ]
  },
  {
   "cell_type": "code",
   "execution_count": null,
   "metadata": {},
   "outputs": [
    {
     "data": {
      "text/plain": [
       "'Hello\\nworld\\n'"
      ]
     },
     "execution_count": 269,
     "metadata": {},
     "output_type": "execute_result"
    }
   ],
   "source": [
    "f = open('data.txt')               # 'r' (чтение) -режим по умолчанию, если не указывать специально\n",
    "text = f.read()                    # Прочитать все содержимое файла в строку\n",
    "text"
   ]
  },
  {
   "cell_type": "code",
   "execution_count": null,
   "metadata": {},
   "outputs": [
    {
     "name": "stdout",
     "output_type": "stream",
     "text": [
      "Hello\n",
      "world\n",
      "\n"
     ]
    }
   ],
   "source": [
    "print(text)"
   ]
  },
  {
   "cell_type": "code",
   "execution_count": null,
   "metadata": {},
   "outputs": [
    {
     "data": {
      "text/plain": [
       "['Hello', 'world']"
      ]
     },
     "execution_count": 271,
     "metadata": {},
     "output_type": "execute_result"
    }
   ],
   "source": [
    "text.split()                      # СОдержимое файла-всегда строка"
   ]
  },
  {
   "cell_type": "code",
   "execution_count": null,
   "metadata": {},
   "outputs": [
    {
     "data": {
      "text/plain": [
       "'world\\n'"
      ]
     },
     "execution_count": 282,
     "metadata": {},
     "output_type": "execute_result"
    }
   ],
   "source": [
    "f = open('data.txt')    \n",
    "textline = f.readline()\n",
    "textline = f.readline()              # Считывает  по одной строке за один раз\n",
    "textline"
   ]
  },
  {
   "cell_type": "code",
   "execution_count": null,
   "metadata": {},
   "outputs": [
    {
     "name": "stdout",
     "output_type": "stream",
     "text": [
      "Hello\n",
      "\n",
      "world\n",
      "\n"
     ]
    }
   ],
   "source": [
    "for line in open('data.txt'):          # Файлы предлагают итератор, который автомтически производит чтение строка за строкой\n",
    "    print(line)"
   ]
  },
  {
   "cell_type": "code",
   "execution_count": null,
   "metadata": {},
   "outputs": [
    {
     "data": {
      "text/plain": [
       "['_CHUNK_SIZE',\n",
       " '__class__',\n",
       " '__del__',\n",
       " '__delattr__',\n",
       " '__dict__',\n",
       " '__dir__',\n",
       " '__doc__',\n",
       " '__enter__',\n",
       " '__eq__',\n",
       " '__exit__',\n",
       " '__format__',\n",
       " '__ge__',\n",
       " '__getattribute__',\n",
       " '__gt__',\n",
       " '__hash__',\n",
       " '__init__',\n",
       " '__init_subclass__',\n",
       " '__iter__',\n",
       " '__le__',\n",
       " '__lt__',\n",
       " '__ne__',\n",
       " '__new__',\n",
       " '__next__',\n",
       " '__reduce__',\n",
       " '__reduce_ex__',\n",
       " '__repr__',\n",
       " '__setattr__',\n",
       " '__sizeof__',\n",
       " '__str__',\n",
       " '__subclasshook__',\n",
       " '_checkClosed',\n",
       " '_checkReadable',\n",
       " '_checkSeekable',\n",
       " '_checkWritable',\n",
       " '_finalizing',\n",
       " 'buffer',\n",
       " 'close',\n",
       " 'closed',\n",
       " 'detach',\n",
       " 'encoding',\n",
       " 'errors',\n",
       " 'fileno',\n",
       " 'flush',\n",
       " 'isatty',\n",
       " 'line_buffering',\n",
       " 'mode',\n",
       " 'name',\n",
       " 'newlines',\n",
       " 'read',\n",
       " 'readable',\n",
       " 'readline',\n",
       " 'readlines',\n",
       " 'reconfigure',\n",
       " 'seek',\n",
       " 'seekable',\n",
       " 'tell',\n",
       " 'truncate',\n",
       " 'writable',\n",
       " 'write',\n",
       " 'write_through',\n",
       " 'writelines']"
      ]
     },
     "execution_count": 284,
     "metadata": {},
     "output_type": "execute_result"
    }
   ],
   "source": [
    "dir(f)"
   ]
  },
  {
   "cell_type": "code",
   "execution_count": null,
   "metadata": {},
   "outputs": [
    {
     "name": "stdout",
     "output_type": "stream",
     "text": [
      "Help on built-in function seek:\n",
      "\n",
      "seek(cookie, whence=0, /) method of _io.TextIOWrapper instance\n",
      "    Change stream position.\n",
      "    \n",
      "    Change the stream position to the given byte offset. The offset is\n",
      "    interpreted relative to the position indicated by whence.  Values\n",
      "    for whence are:\n",
      "    \n",
      "    * 0 -- start of stream (the default); offset should be zero or positive\n",
      "    * 1 -- current stream position; offset may be negative\n",
      "    * 2 -- end of stream; offset is usually negative\n",
      "    \n",
      "    Return the new absolute position.\n",
      "\n"
     ]
    }
   ],
   "source": [
    "help(f.seek)"
   ]
  },
  {
   "cell_type": "code",
   "execution_count": null,
   "metadata": {},
   "outputs": [
    {
     "name": "stdout",
     "output_type": "stream",
     "text": [
      "b'lo\\r\\n'\n",
      "b'orld\\r\\n'\n"
     ]
    }
   ],
   "source": [
    "f = open('data.txt', 'rb')    # указываем байтовое представление\n",
    "f.seek(3, 0)                     # смещаем на три байта от начала файла методом seek\n",
    "line = f.readline()              # считываем оставшуюся часть строки\n",
    "print(line)                      \n",
    "f.seek(1, 1)                    # смещаем на 1 байт от текущего положения (начало второй строки)\n",
    "line = f.readline()             # считываем отавшуюся часть строки\n",
    "print(line)"
   ]
  },
  {
   "cell_type": "markdown",
   "metadata": {},
   "source": [
    "#### Двоичные файлы"
   ]
  },
  {
   "cell_type": "code",
   "execution_count": null,
   "metadata": {},
   "outputs": [
    {
     "data": {
      "text/plain": [
       "b'\\x00\\x00\\x00\\x07spam\\x00\\x08'"
      ]
     },
     "execution_count": 328,
     "metadata": {},
     "output_type": "execute_result"
    }
   ],
   "source": [
    "import struct\n",
    "packed = struct.pack('>i4sh', 7, b'spam', 8)   # Создали упакованные двоичные данные\n",
    "packed"
   ]
  },
  {
   "cell_type": "code",
   "execution_count": null,
   "metadata": {},
   "outputs": [],
   "source": [
    "file = open('data.bin', 'wb')      # Открываем двоичный файл для записи\n",
    "file.write(packed)                 # Запсиали упакованные двоичные данные\n",
    "file.close()"
   ]
  },
  {
   "cell_type": "code",
   "execution_count": null,
   "metadata": {},
   "outputs": [
    {
     "data": {
      "text/plain": [
       "b'\\x00\\x00\\x00\\x07spam\\x00\\x08'"
      ]
     },
     "execution_count": 330,
     "metadata": {},
     "output_type": "execute_result"
    }
   ],
   "source": [
    "data = open('data.bin', 'rb').read() # Открываем и читаем двоичный файл\n",
    "data                                 # 10 байт неизмененные"
   ]
  },
  {
   "cell_type": "code",
   "execution_count": null,
   "metadata": {},
   "outputs": [
    {
     "data": {
      "text/plain": [
       "b'\\x00\\x07spam'"
      ]
     },
     "execution_count": 331,
     "metadata": {},
     "output_type": "execute_result"
    }
   ],
   "source": [
    "data[2:8]                  # Срез байтов"
   ]
  },
  {
   "cell_type": "code",
   "execution_count": null,
   "metadata": {},
   "outputs": [
    {
     "data": {
      "text/plain": [
       "[0, 0, 0, 7, 115, 112, 97, 109, 0, 8]"
      ]
     },
     "execution_count": 332,
     "metadata": {},
     "output_type": "execute_result"
    }
   ],
   "source": [
    "list(data)                 # последовательность 8-битных байтов"
   ]
  },
  {
   "cell_type": "code",
   "execution_count": null,
   "metadata": {},
   "outputs": [
    {
     "data": {
      "text/plain": [
       "(7, b'spam', 8)"
      ]
     },
     "execution_count": 334,
     "metadata": {},
     "output_type": "execute_result"
    }
   ],
   "source": [
    "struct.unpack('>i4sh', data)         # Снова распаковать объекты"
   ]
  },
  {
   "cell_type": "markdown",
   "metadata": {},
   "source": [
    "#### Файлы Unicode"
   ]
  },
  {
   "cell_type": "code",
   "execution_count": null,
   "metadata": {},
   "outputs": [
    {
     "data": {
      "text/plain": [
       "'spÄm'"
      ]
     },
     "execution_count": 335,
     "metadata": {},
     "output_type": "execute_result"
    }
   ],
   "source": [
    "S = 'sp\\xc4m'            # Текст Unicode, отличающийся от ASCII\n",
    "S"
   ]
  },
  {
   "cell_type": "code",
   "execution_count": null,
   "metadata": {},
   "outputs": [
    {
     "data": {
      "text/plain": [
       "'Ä'"
      ]
     },
     "execution_count": 336,
     "metadata": {},
     "output_type": "execute_result"
    }
   ],
   "source": [
    "S[2]"
   ]
  },
  {
   "cell_type": "code",
   "execution_count": null,
   "metadata": {},
   "outputs": [],
   "source": [
    "file = open('unidata.txt', 'w', encoding = 'utf-8')    # Записать текст UTF-8"
   ]
  },
  {
   "cell_type": "code",
   "execution_count": null,
   "metadata": {},
   "outputs": [
    {
     "data": {
      "text/plain": [
       "4"
      ]
     },
     "execution_count": 338,
     "metadata": {},
     "output_type": "execute_result"
    }
   ],
   "source": [
    "file.write(S)                # Записано 4 символа"
   ]
  },
  {
   "cell_type": "code",
   "execution_count": null,
   "metadata": {},
   "outputs": [],
   "source": [
    "file.close()"
   ]
  },
  {
   "cell_type": "code",
   "execution_count": null,
   "metadata": {},
   "outputs": [
    {
     "data": {
      "text/plain": [
       "'spÄm'"
      ]
     },
     "execution_count": 340,
     "metadata": {},
     "output_type": "execute_result"
    }
   ],
   "source": [
    "text = open('unidata.txt', encoding='utf-8').read() # Прочитать текст UTF-8\n",
    "text"
   ]
  },
  {
   "cell_type": "code",
   "execution_count": null,
   "metadata": {},
   "outputs": [
    {
     "data": {
      "text/plain": [
       "b'sp\\xc3\\x84m'"
      ]
     },
     "execution_count": 341,
     "metadata": {},
     "output_type": "execute_result"
    }
   ],
   "source": [
    "raw = open('unidata.txt', 'rb').read()                  #Читать закодированные байты\n",
    "raw"
   ]
  },
  {
   "cell_type": "code",
   "execution_count": null,
   "metadata": {},
   "outputs": [
    {
     "data": {
      "text/plain": [
       "5"
      ]
     },
     "execution_count": 342,
     "metadata": {},
     "output_type": "execute_result"
    }
   ],
   "source": [
    "len(raw)                                         # 5 байтов в кодировке UTF-8"
   ]
  },
  {
   "cell_type": "code",
   "execution_count": null,
   "metadata": {},
   "outputs": [
    {
     "data": {
      "text/plain": [
       "b'sp\\xc3\\x84m'"
      ]
     },
     "execution_count": 343,
     "metadata": {},
     "output_type": "execute_result"
    }
   ],
   "source": [
    "text.encode('utf-8')                # Кодирование вручную"
   ]
  },
  {
   "cell_type": "code",
   "execution_count": null,
   "metadata": {},
   "outputs": [
    {
     "data": {
      "text/plain": [
       "'spÄm'"
      ]
     },
     "execution_count": 344,
     "metadata": {},
     "output_type": "execute_result"
    }
   ],
   "source": [
    "raw.decode('utf-8')               # Раскодирование вручную"
   ]
  },
  {
   "cell_type": "code",
   "execution_count": null,
   "metadata": {},
   "outputs": [
    {
     "data": {
      "text/plain": [
       "b'sp\\xc4m'"
      ]
     },
     "execution_count": 345,
     "metadata": {},
     "output_type": "execute_result"
    }
   ],
   "source": [
    "text.encode('latin-1')           # другая кодировка"
   ]
  },
  {
   "cell_type": "code",
   "execution_count": null,
   "metadata": {},
   "outputs": [
    {
     "data": {
      "text/plain": [
       "b'\\xff\\xfes\\x00p\\x00\\xc4\\x00m\\x00'"
      ]
     },
     "execution_count": 346,
     "metadata": {},
     "output_type": "execute_result"
    }
   ],
   "source": [
    "text.encode('utf-16')                 # другая кодировка"
   ]
  },
  {
   "cell_type": "code",
   "execution_count": null,
   "metadata": {},
   "outputs": [
    {
     "data": {
      "text/plain": [
       "(4, 10)"
      ]
     },
     "execution_count": 347,
     "metadata": {},
     "output_type": "execute_result"
    }
   ],
   "source": [
    "len(text.encode('latin-1') ), len(text.encode('utf-16'))"
   ]
  },
  {
   "cell_type": "code",
   "execution_count": null,
   "metadata": {},
   "outputs": [
    {
     "data": {
      "text/plain": [
       "'spÄm'"
      ]
     },
     "execution_count": 348,
     "metadata": {},
     "output_type": "execute_result"
    }
   ],
   "source": [
    "b'\\xff\\xfes\\x00p\\x00\\xc4\\x00m\\x00'.decode('utf-16')          # Декодируются в ту же самую строку 'spAm'"
   ]
  },
  {
   "cell_type": "markdown",
   "metadata": {},
   "source": [
    "## Множества"
   ]
  },
  {
   "cell_type": "code",
   "execution_count": null,
   "metadata": {},
   "outputs": [
    {
     "data": {
      "text/plain": [
       "{'a', 'm', 'p', 's'}"
      ]
     },
     "execution_count": 349,
     "metadata": {},
     "output_type": "execute_result"
    }
   ],
   "source": [
    "X = set('spam')          # Создать множество из последовательности\n",
    "X"
   ]
  },
  {
   "cell_type": "code",
   "execution_count": null,
   "metadata": {},
   "outputs": [
    {
     "data": {
      "text/plain": [
       "{'a', 'h', 'm'}"
      ]
     },
     "execution_count": 350,
     "metadata": {},
     "output_type": "execute_result"
    }
   ],
   "source": [
    "Y = {'h', 'a', 'm'}\n",
    "Y"
   ]
  },
  {
   "cell_type": "code",
   "execution_count": null,
   "metadata": {},
   "outputs": [
    {
     "data": {
      "text/plain": [
       "({'a', 'm', 'p', 's'}, {'a', 'h', 'm'})"
      ]
     },
     "execution_count": 351,
     "metadata": {},
     "output_type": "execute_result"
    }
   ],
   "source": [
    "X, Y                 # Кортеж из двух множест"
   ]
  },
  {
   "cell_type": "code",
   "execution_count": null,
   "metadata": {},
   "outputs": [
    {
     "data": {
      "text/plain": [
       "{'a', 'm'}"
      ]
     },
     "execution_count": 352,
     "metadata": {},
     "output_type": "execute_result"
    }
   ],
   "source": [
    "X & Y                # пересечение множест"
   ]
  },
  {
   "cell_type": "code",
   "execution_count": null,
   "metadata": {},
   "outputs": [
    {
     "data": {
      "text/plain": [
       "{'a', 'h', 'm', 'p', 's'}"
      ]
     },
     "execution_count": 353,
     "metadata": {},
     "output_type": "execute_result"
    }
   ],
   "source": [
    "X | Y                 # Объединение"
   ]
  },
  {
   "cell_type": "code",
   "execution_count": null,
   "metadata": {},
   "outputs": [
    {
     "data": {
      "text/plain": [
       "{'p', 's'}"
      ]
     },
     "execution_count": 354,
     "metadata": {},
     "output_type": "execute_result"
    }
   ],
   "source": [
    "X - Y                 # Разность"
   ]
  },
  {
   "cell_type": "code",
   "execution_count": null,
   "metadata": {},
   "outputs": [
    {
     "data": {
      "text/plain": [
       "False"
      ]
     },
     "execution_count": 355,
     "metadata": {},
     "output_type": "execute_result"
    }
   ],
   "source": [
    "X > Y                 # Надмножество"
   ]
  },
  {
   "cell_type": "code",
   "execution_count": null,
   "metadata": {},
   "outputs": [],
   "source": [
    "{n ** 2 for n in [1, 2, 3, 4]}             # Включения множест"
   ]
  },
  {
   "cell_type": "code",
   "execution_count": null,
   "metadata": {},
   "outputs": [
    {
     "data": {
      "text/plain": [
       "[1, 2, 3, 4]"
      ]
     },
     "execution_count": 356,
     "metadata": {},
     "output_type": "execute_result"
    }
   ],
   "source": [
    "list(set([1, 2, 1, 3, 1, 4]))           # Фильтрация дубликатов"
   ]
  },
  {
   "cell_type": "code",
   "execution_count": null,
   "metadata": {},
   "outputs": [
    {
     "data": {
      "text/plain": [
       "{'p', 's'}"
      ]
     },
     "execution_count": 357,
     "metadata": {},
     "output_type": "execute_result"
    }
   ],
   "source": [
    "set('spam') - set('ham')                 # Нахождение разности в коллекциях"
   ]
  },
  {
   "cell_type": "code",
   "execution_count": null,
   "metadata": {},
   "outputs": [
    {
     "data": {
      "text/plain": [
       "True"
      ]
     },
     "execution_count": 358,
     "metadata": {},
     "output_type": "execute_result"
    }
   ],
   "source": [
    "set('spam') == set('aspm')                        # Нейтральная к порядку проверка"
   ]
  },
  {
   "cell_type": "code",
   "execution_count": null,
   "metadata": {},
   "outputs": [
    {
     "data": {
      "text/plain": [
       "True"
      ]
     },
     "execution_count": 359,
     "metadata": {},
     "output_type": "execute_result"
    }
   ],
   "source": [
    "'p' in set('spam')                             # Проверка членства"
   ]
  },
  {
   "cell_type": "markdown",
   "metadata": {},
   "source": [
    "## Десятичные и дробные числа"
   ]
  },
  {
   "cell_type": "code",
   "execution_count": null,
   "metadata": {},
   "outputs": [
    {
     "data": {
      "text/plain": [
       "0.3333333333333333"
      ]
     },
     "execution_count": 360,
     "metadata": {},
     "output_type": "execute_result"
    }
   ],
   "source": [
    "1/3"
   ]
  },
  {
   "cell_type": "code",
   "execution_count": null,
   "metadata": {},
   "outputs": [
    {
     "data": {
      "text/plain": [
       "1.1666666666666665"
      ]
     },
     "execution_count": 361,
     "metadata": {},
     "output_type": "execute_result"
    }
   ],
   "source": [
    "(2/3) + (1/2)"
   ]
  },
  {
   "cell_type": "code",
   "execution_count": null,
   "metadata": {},
   "outputs": [
    {
     "data": {
      "text/plain": [
       "Decimal('4.141')"
      ]
     },
     "execution_count": 362,
     "metadata": {},
     "output_type": "execute_result"
    }
   ],
   "source": [
    "import decimal\n",
    "d = decimal.Decimal('3.141')\n",
    "d + 1"
   ]
  },
  {
   "cell_type": "code",
   "execution_count": null,
   "metadata": {},
   "outputs": [
    {
     "data": {
      "text/plain": [
       "Decimal('0.33')"
      ]
     },
     "execution_count": 363,
     "metadata": {},
     "output_type": "execute_result"
    }
   ],
   "source": [
    "decimal.getcontext().prec = 2\n",
    "decimal.Decimal('1.00') / decimal.Decimal('3.00')"
   ]
  },
  {
   "cell_type": "code",
   "execution_count": null,
   "metadata": {},
   "outputs": [
    {
     "data": {
      "text/plain": [
       "Fraction(5, 3)"
      ]
     },
     "execution_count": 364,
     "metadata": {},
     "output_type": "execute_result"
    }
   ],
   "source": [
    "from fractions import Fraction\n",
    "f = Fraction(2, 3)\n",
    "f + 1"
   ]
  },
  {
   "cell_type": "code",
   "execution_count": null,
   "metadata": {},
   "outputs": [
    {
     "data": {
      "text/plain": [
       "Fraction(7, 6)"
      ]
     },
     "execution_count": 365,
     "metadata": {},
     "output_type": "execute_result"
    }
   ],
   "source": [
    "f + Fraction(1, 2)"
   ]
  },
  {
   "cell_type": "markdown",
   "metadata": {},
   "source": [
    "## Булевские значение  и прочее"
   ]
  },
  {
   "cell_type": "code",
   "execution_count": null,
   "metadata": {},
   "outputs": [
    {
     "data": {
      "text/plain": [
       "(False, True)"
      ]
     },
     "execution_count": 366,
     "metadata": {},
     "output_type": "execute_result"
    }
   ],
   "source": [
    "1 > 2, 1 < 2"
   ]
  },
  {
   "cell_type": "code",
   "execution_count": null,
   "metadata": {},
   "outputs": [
    {
     "data": {
      "text/plain": [
       "True"
      ]
     },
     "execution_count": 367,
     "metadata": {},
     "output_type": "execute_result"
    }
   ],
   "source": [
    "bool('spam')"
   ]
  },
  {
   "cell_type": "code",
   "execution_count": null,
   "metadata": {},
   "outputs": [
    {
     "name": "stdout",
     "output_type": "stream",
     "text": [
      "None\n"
     ]
    }
   ],
   "source": [
    "X = None\n",
    "print(X)"
   ]
  },
  {
   "cell_type": "code",
   "execution_count": null,
   "metadata": {},
   "outputs": [
    {
     "data": {
      "text/plain": [
       "[None,\n",
       " None,\n",
       " None,\n",
       " None,\n",
       " None,\n",
       " None,\n",
       " None,\n",
       " None,\n",
       " None,\n",
       " None,\n",
       " None,\n",
       " None,\n",
       " None,\n",
       " None,\n",
       " None,\n",
       " None,\n",
       " None,\n",
       " None,\n",
       " None,\n",
       " None,\n",
       " None,\n",
       " None,\n",
       " None,\n",
       " None,\n",
       " None,\n",
       " None,\n",
       " None,\n",
       " None,\n",
       " None,\n",
       " None,\n",
       " None,\n",
       " None,\n",
       " None,\n",
       " None,\n",
       " None,\n",
       " None,\n",
       " None,\n",
       " None,\n",
       " None,\n",
       " None,\n",
       " None,\n",
       " None,\n",
       " None,\n",
       " None,\n",
       " None,\n",
       " None,\n",
       " None,\n",
       " None,\n",
       " None,\n",
       " None,\n",
       " None,\n",
       " None,\n",
       " None,\n",
       " None,\n",
       " None,\n",
       " None,\n",
       " None,\n",
       " None,\n",
       " None,\n",
       " None,\n",
       " None,\n",
       " None,\n",
       " None,\n",
       " None,\n",
       " None,\n",
       " None,\n",
       " None,\n",
       " None,\n",
       " None,\n",
       " None,\n",
       " None,\n",
       " None,\n",
       " None,\n",
       " None,\n",
       " None,\n",
       " None,\n",
       " None,\n",
       " None,\n",
       " None,\n",
       " None,\n",
       " None,\n",
       " None,\n",
       " None,\n",
       " None,\n",
       " None,\n",
       " None,\n",
       " None,\n",
       " None,\n",
       " None,\n",
       " None,\n",
       " None,\n",
       " None,\n",
       " None,\n",
       " None,\n",
       " None,\n",
       " None,\n",
       " None,\n",
       " None,\n",
       " None,\n",
       " None]"
      ]
     },
     "execution_count": 369,
     "metadata": {},
     "output_type": "execute_result"
    }
   ],
   "source": [
    "L = [None]*100\n",
    "L"
   ]
  },
  {
   "cell_type": "code",
   "execution_count": null,
   "metadata": {},
   "outputs": [
    {
     "data": {
      "text/plain": [
       "list"
      ]
     },
     "execution_count": 370,
     "metadata": {},
     "output_type": "execute_result"
    }
   ],
   "source": [
    "type(L)"
   ]
  },
  {
   "cell_type": "code",
   "execution_count": null,
   "metadata": {},
   "outputs": [
    {
     "data": {
      "text/plain": [
       "type"
      ]
     },
     "execution_count": 371,
     "metadata": {},
     "output_type": "execute_result"
    }
   ],
   "source": [
    "type(type(L))"
   ]
  },
  {
   "cell_type": "code",
   "execution_count": null,
   "metadata": {},
   "outputs": [
    {
     "name": "stdout",
     "output_type": "stream",
     "text": [
      "yes\n"
     ]
    }
   ],
   "source": [
    "if type(L) == type([]):                  # Проверка типа\n",
    "    print('yes')"
   ]
  },
  {
   "cell_type": "code",
   "execution_count": null,
   "metadata": {},
   "outputs": [
    {
     "name": "stdout",
     "output_type": "stream",
     "text": [
      "yes\n"
     ]
    }
   ],
   "source": [
    "if type(L) == list:                      # Использование имени типа\n",
    "    print('yes')"
   ]
  },
  {
   "cell_type": "code",
   "execution_count": null,
   "metadata": {},
   "outputs": [
    {
     "name": "stdout",
     "output_type": "stream",
     "text": [
      "yes\n"
     ]
    }
   ],
   "source": [
    "if isinstance(L, list):                 # Объектно-ориентированная проверка\n",
    "    print('yes')"
   ]
  },
  {
   "cell_type": "code",
   "execution_count": null,
   "metadata": {},
   "outputs": [],
   "source": [
    "class Worker:\n",
    "    def __init__(self, name, pay):\n",
    "        self.name = name\n",
    "        self.pay = pay\n",
    "\n",
    "    def lastName(self):\n",
    "        return self.name.split()[-1]\n",
    "    \n",
    "    def giveRaise(self, percent):\n",
    "        self.pay *= (1.0 + percent)"
   ]
  },
  {
   "cell_type": "code",
   "execution_count": null,
   "metadata": {},
   "outputs": [],
   "source": [
    "bob = Worker('Bob Smith', 50000)\n",
    "sue = Worker('Sue Jones', 60000)"
   ]
  },
  {
   "cell_type": "code",
   "execution_count": null,
   "metadata": {},
   "outputs": [
    {
     "data": {
      "text/plain": [
       "'Smith'"
      ]
     },
     "execution_count": 385,
     "metadata": {},
     "output_type": "execute_result"
    }
   ],
   "source": [
    "bob.lastName()"
   ]
  },
  {
   "cell_type": "code",
   "execution_count": null,
   "metadata": {},
   "outputs": [
    {
     "data": {
      "text/plain": [
       "66000.0"
      ]
     },
     "execution_count": 386,
     "metadata": {},
     "output_type": "execute_result"
    }
   ],
   "source": [
    "sue.giveRaise(.10)\n",
    "sue.pay"
   ]
  },
  {
   "cell_type": "markdown",
   "metadata": {},
   "source": [
    "## Упражнения 2"
   ]
  },
  {
   "cell_type": "code",
   "execution_count": null,
   "metadata": {},
   "outputs": [
    {
     "data": {
      "text/plain": [
       "65536"
      ]
     },
     "execution_count": 1,
     "metadata": {},
     "output_type": "execute_result"
    }
   ],
   "source": [
    "2 ** 16"
   ]
  },
  {
   "cell_type": "code",
   "execution_count": null,
   "metadata": {},
   "outputs": [
    {
     "data": {
      "text/plain": [
       "(0.4, 0.4)"
      ]
     },
     "execution_count": 2,
     "metadata": {},
     "output_type": "execute_result"
    }
   ],
   "source": [
    "2 / 5, 2 / 5.0"
   ]
  },
  {
   "cell_type": "code",
   "execution_count": null,
   "metadata": {},
   "outputs": [
    {
     "data": {
      "text/plain": [
       "'spameggs'"
      ]
     },
     "execution_count": 3,
     "metadata": {},
     "output_type": "execute_result"
    }
   ],
   "source": [
    "\"spam\" + \"eggs\""
   ]
  },
  {
   "cell_type": "code",
   "execution_count": null,
   "metadata": {},
   "outputs": [
    {
     "data": {
      "text/plain": [
       "'eggsham'"
      ]
     },
     "execution_count": 5,
     "metadata": {},
     "output_type": "execute_result"
    }
   ],
   "source": [
    "S = 'ham'\n",
    "\"eggs\" + S"
   ]
  },
  {
   "cell_type": "code",
   "execution_count": null,
   "metadata": {},
   "outputs": [
    {
     "data": {
      "text/plain": [
       "'hamhamhamhamham'"
      ]
     },
     "execution_count": 6,
     "metadata": {},
     "output_type": "execute_result"
    }
   ],
   "source": [
    "S * 5"
   ]
  },
  {
   "cell_type": "code",
   "execution_count": null,
   "metadata": {},
   "outputs": [
    {
     "data": {
      "text/plain": [
       "''"
      ]
     },
     "execution_count": 7,
     "metadata": {},
     "output_type": "execute_result"
    }
   ],
   "source": [
    "S[:0]"
   ]
  },
  {
   "cell_type": "code",
   "execution_count": null,
   "metadata": {},
   "outputs": [
    {
     "data": {
      "text/plain": [
       "'green eggs and ham'"
      ]
     },
     "execution_count": 9,
     "metadata": {},
     "output_type": "execute_result"
    }
   ],
   "source": [
    "\"green %s and %s\" % (\"eggs\", S)"
   ]
  },
  {
   "cell_type": "code",
   "execution_count": null,
   "metadata": {},
   "outputs": [
    {
     "data": {
      "text/plain": [
       "'green eggs and ham'"
      ]
     },
     "execution_count": 10,
     "metadata": {},
     "output_type": "execute_result"
    }
   ],
   "source": [
    "'green {0} and {1}'.format('eggs', S)"
   ]
  },
  {
   "cell_type": "code",
   "execution_count": null,
   "metadata": {},
   "outputs": [
    {
     "data": {
      "text/plain": [
       "'x'"
      ]
     },
     "execution_count": 11,
     "metadata": {},
     "output_type": "execute_result"
    }
   ],
   "source": [
    "('x',)[0]"
   ]
  },
  {
   "cell_type": "code",
   "execution_count": null,
   "metadata": {},
   "outputs": [
    {
     "data": {
      "text/plain": [
       "'y'"
      ]
     },
     "execution_count": 12,
     "metadata": {},
     "output_type": "execute_result"
    }
   ],
   "source": [
    "('x', 'y')[1]"
   ]
  },
  {
   "cell_type": "code",
   "execution_count": null,
   "metadata": {},
   "outputs": [
    {
     "data": {
      "text/plain": [
       "([1, 2, 3, 4, 5, 6], [1, 2, 3, 4, 5, 6], [], 5, [5, 6])"
      ]
     },
     "execution_count": 14,
     "metadata": {},
     "output_type": "execute_result"
    }
   ],
   "source": [
    "L = [1, 2, 3] + [4, 5, 6]\n",
    "L, L[:], L[:0], L[-2], L[-2:]"
   ]
  },
  {
   "cell_type": "code",
   "execution_count": null,
   "metadata": {},
   "outputs": [
    {
     "data": {
      "text/plain": [
       "[3, 4]"
      ]
     },
     "execution_count": 15,
     "metadata": {},
     "output_type": "execute_result"
    }
   ],
   "source": [
    "([1, 2, 3] + [4, 5, 6])[2:4]"
   ]
  },
  {
   "cell_type": "code",
   "execution_count": null,
   "metadata": {},
   "outputs": [
    {
     "data": {
      "text/plain": [
       "[3, 4]"
      ]
     },
     "execution_count": 16,
     "metadata": {},
     "output_type": "execute_result"
    }
   ],
   "source": [
    "[L[2], L[3]]"
   ]
  },
  {
   "cell_type": "code",
   "execution_count": null,
   "metadata": {},
   "outputs": [
    {
     "data": {
      "text/plain": [
       "[6, 5, 4, 3, 2, 1]"
      ]
     },
     "execution_count": 28,
     "metadata": {},
     "output_type": "execute_result"
    }
   ],
   "source": [
    "L.reverse(); L"
   ]
  },
  {
   "cell_type": "code",
   "execution_count": null,
   "metadata": {},
   "outputs": [
    {
     "data": {
      "text/plain": [
       "[1, 2, 3, 4, 5, 6]"
      ]
     },
     "execution_count": 29,
     "metadata": {},
     "output_type": "execute_result"
    }
   ],
   "source": [
    "L.sort(); L"
   ]
  },
  {
   "cell_type": "code",
   "execution_count": null,
   "metadata": {},
   "outputs": [
    {
     "data": {
      "text/plain": [
       "3"
      ]
     },
     "execution_count": 30,
     "metadata": {},
     "output_type": "execute_result"
    }
   ],
   "source": [
    "L.index(4)"
   ]
  },
  {
   "cell_type": "code",
   "execution_count": null,
   "metadata": {},
   "outputs": [
    {
     "data": {
      "text/plain": [
       "2"
      ]
     },
     "execution_count": 31,
     "metadata": {},
     "output_type": "execute_result"
    }
   ],
   "source": [
    "{'a':1, 'b':2}['b']"
   ]
  },
  {
   "cell_type": "code",
   "execution_count": null,
   "metadata": {},
   "outputs": [
    {
     "data": {
      "text/plain": [
       "1"
      ]
     },
     "execution_count": 32,
     "metadata": {},
     "output_type": "execute_result"
    }
   ],
   "source": [
    "D = {'x':1, 'y':2, 'z':3}\n",
    "D['w'] = 0\n",
    "D['x'] + D['w']"
   ]
  },
  {
   "cell_type": "code",
   "execution_count": null,
   "metadata": {},
   "outputs": [
    {
     "data": {
      "text/plain": [
       "{'x': 1, 'y': 2, 'z': 3, 'w': 0}"
      ]
     },
     "execution_count": 33,
     "metadata": {},
     "output_type": "execute_result"
    }
   ],
   "source": [
    "D"
   ]
  },
  {
   "cell_type": "code",
   "execution_count": null,
   "metadata": {},
   "outputs": [
    {
     "data": {
      "text/plain": [
       "(['x', 'y', 'z', 'w', (1, 2, 3)], [1, 2, 3, 0, 4], True)"
      ]
     },
     "execution_count": 35,
     "metadata": {},
     "output_type": "execute_result"
    }
   ],
   "source": [
    "D[(1, 2, 3)] = 4\n",
    "list(D.keys()), list(D.values()), (1, 2, 3) in D"
   ]
  },
  {
   "cell_type": "code",
   "execution_count": null,
   "metadata": {},
   "outputs": [
    {
     "ename": "IndexError",
     "evalue": "list index out of range",
     "output_type": "error",
     "traceback": [
      "\u001b[1;31m---------------------------------------------------------------------------\u001b[0m",
      "\u001b[1;31mIndexError\u001b[0m                                Traceback (most recent call last)",
      "\u001b[1;32mc:\\Users\\k-pro\\OneDrive\\Desktop\\k-project\\LutzM.ipynb Cell 224\u001b[0m line \u001b[0;36m2\n\u001b[0;32m      <a href='vscode-notebook-cell:/c%3A/Users/k-pro/OneDrive/Desktop/k-project/LutzM.ipynb#Y440sZmlsZQ%3D%3D?line=0'>1</a>\u001b[0m L \u001b[39m=\u001b[39m [\u001b[39m0\u001b[39m, \u001b[39m1\u001b[39m, \u001b[39m2\u001b[39m, \u001b[39m3\u001b[39m]\n\u001b[1;32m----> <a href='vscode-notebook-cell:/c%3A/Users/k-pro/OneDrive/Desktop/k-project/LutzM.ipynb#Y440sZmlsZQ%3D%3D?line=1'>2</a>\u001b[0m L[\u001b[39m4\u001b[39;49m]\n",
      "\u001b[1;31mIndexError\u001b[0m: list index out of range"
     ]
    }
   ],
   "source": [
    "L = [0, 1, 2, 3]\n",
    "L[4]"
   ]
  },
  {
   "cell_type": "code",
   "execution_count": null,
   "metadata": {},
   "outputs": [
    {
     "data": {
      "text/plain": [
       "[0, 1, 2, 3]"
      ]
     },
     "execution_count": 53,
     "metadata": {},
     "output_type": "execute_result"
    }
   ],
   "source": [
    "L[-1000:100]"
   ]
  },
  {
   "cell_type": "code",
   "execution_count": null,
   "metadata": {},
   "outputs": [
    {
     "data": {
      "text/plain": [
       "[]"
      ]
     },
     "execution_count": 54,
     "metadata": {},
     "output_type": "execute_result"
    }
   ],
   "source": [
    "L[3:1]"
   ]
  },
  {
   "cell_type": "code",
   "execution_count": null,
   "metadata": {},
   "outputs": [
    {
     "data": {
      "text/plain": [
       "[0, 1, 2, '?', 3]"
      ]
     },
     "execution_count": 55,
     "metadata": {},
     "output_type": "execute_result"
    }
   ],
   "source": [
    "L[3:1]=['?']\n",
    "L"
   ]
  },
  {
   "cell_type": "code",
   "execution_count": null,
   "metadata": {},
   "outputs": [
    {
     "data": {
      "text/plain": [
       "['?', 2]"
      ]
     },
     "execution_count": 56,
     "metadata": {},
     "output_type": "execute_result"
    }
   ],
   "source": [
    "L[3:1:-1]"
   ]
  },
  {
   "cell_type": "code",
   "execution_count": null,
   "metadata": {},
   "outputs": [
    {
     "data": {
      "text/plain": [
       "[0, 1, [], 3]"
      ]
     },
     "execution_count": 61,
     "metadata": {},
     "output_type": "execute_result"
    }
   ],
   "source": [
    "L = [0, 1, 2, 3]\n",
    "L[2] = []\n",
    "L"
   ]
  },
  {
   "cell_type": "code",
   "execution_count": null,
   "metadata": {},
   "outputs": [
    {
     "data": {
      "text/plain": [
       "[0, 1, 3]"
      ]
     },
     "execution_count": 62,
     "metadata": {},
     "output_type": "execute_result"
    }
   ],
   "source": [
    "L[2:3] = []\n",
    "L"
   ]
  },
  {
   "cell_type": "code",
   "execution_count": null,
   "metadata": {},
   "outputs": [
    {
     "data": {
      "text/plain": [
       "[1, 3]"
      ]
     },
     "execution_count": 63,
     "metadata": {},
     "output_type": "execute_result"
    }
   ],
   "source": [
    "del L[0]\n",
    "L"
   ]
  },
  {
   "cell_type": "code",
   "execution_count": null,
   "metadata": {},
   "outputs": [
    {
     "data": {
      "text/plain": [
       "[1]"
      ]
     },
     "execution_count": 64,
     "metadata": {},
     "output_type": "execute_result"
    }
   ],
   "source": [
    "del L[1:]\n",
    "L"
   ]
  },
  {
   "cell_type": "code",
   "execution_count": null,
   "metadata": {},
   "outputs": [
    {
     "ename": "TypeError",
     "evalue": "can only assign an iterable",
     "output_type": "error",
     "traceback": [
      "\u001b[1;31m---------------------------------------------------------------------------\u001b[0m",
      "\u001b[1;31mTypeError\u001b[0m                                 Traceback (most recent call last)",
      "\u001b[1;32mc:\\Users\\k-pro\\OneDrive\\Desktop\\k-project\\LutzM.ipynb Cell 233\u001b[0m line \u001b[0;36m2\n\u001b[0;32m      <a href='vscode-notebook-cell:/c%3A/Users/k-pro/OneDrive/Desktop/k-project/LutzM.ipynb#Y452sZmlsZQ%3D%3D?line=0'>1</a>\u001b[0m L \u001b[39m=\u001b[39m [\u001b[39m0\u001b[39m, \u001b[39m1\u001b[39m, \u001b[39m2\u001b[39m, \u001b[39m3\u001b[39m]\n\u001b[1;32m----> <a href='vscode-notebook-cell:/c%3A/Users/k-pro/OneDrive/Desktop/k-project/LutzM.ipynb#Y452sZmlsZQ%3D%3D?line=1'>2</a>\u001b[0m L[\u001b[39m1\u001b[39;49m:\u001b[39m2\u001b[39;49m] \u001b[39m=\u001b[39m\u001b[39m1\u001b[39m\n\u001b[0;32m      <a href='vscode-notebook-cell:/c%3A/Users/k-pro/OneDrive/Desktop/k-project/LutzM.ipynb#Y452sZmlsZQ%3D%3D?line=2'>3</a>\u001b[0m L\n",
      "\u001b[1;31mTypeError\u001b[0m: can only assign an iterable"
     ]
    }
   ],
   "source": [
    "L = [0, 1, 2, 3]\n",
    "L[1:2] =1\n",
    "L"
   ]
  },
  {
   "cell_type": "code",
   "execution_count": null,
   "metadata": {},
   "outputs": [],
   "source": [
    "X = 'spam'\n",
    "Y = 'eggs'\n",
    "X, Y = Y, X"
   ]
  },
  {
   "cell_type": "code",
   "execution_count": null,
   "metadata": {},
   "outputs": [
    {
     "data": {
      "text/plain": [
       "'eggs'"
      ]
     },
     "execution_count": 67,
     "metadata": {},
     "output_type": "execute_result"
    }
   ],
   "source": [
    "X"
   ]
  },
  {
   "cell_type": "code",
   "execution_count": null,
   "metadata": {},
   "outputs": [
    {
     "data": {
      "text/plain": [
       "'spam'"
      ]
     },
     "execution_count": 68,
     "metadata": {},
     "output_type": "execute_result"
    }
   ],
   "source": [
    "Y"
   ]
  },
  {
   "cell_type": "code",
   "execution_count": null,
   "metadata": {},
   "outputs": [
    {
     "data": {
      "text/plain": [
       "{1: 'a', 2: 'b'}"
      ]
     },
     "execution_count": 69,
     "metadata": {},
     "output_type": "execute_result"
    }
   ],
   "source": [
    "D = {}\n",
    "D[1] = 'a'\n",
    "D[2] = 'b'\n",
    "D"
   ]
  },
  {
   "cell_type": "code",
   "execution_count": null,
   "metadata": {},
   "outputs": [
    {
     "data": {
      "text/plain": [
       "{1: 'a', 2: 'b', (1, 2, 3): 'C'}"
      ]
     },
     "execution_count": 70,
     "metadata": {},
     "output_type": "execute_result"
    }
   ],
   "source": [
    "D[(1, 2, 3)] = 'C'\n",
    "D"
   ]
  },
  {
   "cell_type": "code",
   "execution_count": null,
   "metadata": {},
   "outputs": [
    {
     "ename": "KeyError",
     "evalue": "'d'",
     "output_type": "error",
     "traceback": [
      "\u001b[1;31m---------------------------------------------------------------------------\u001b[0m",
      "\u001b[1;31mKeyError\u001b[0m                                  Traceback (most recent call last)",
      "\u001b[1;32mc:\\Users\\k-pro\\OneDrive\\Desktop\\k-project\\LutzM.ipynb Cell 239\u001b[0m line \u001b[0;36m2\n\u001b[0;32m      <a href='vscode-notebook-cell:/c%3A/Users/k-pro/OneDrive/Desktop/k-project/LutzM.ipynb#Y462sZmlsZQ%3D%3D?line=0'>1</a>\u001b[0m D \u001b[39m=\u001b[39m {\u001b[39m'\u001b[39m\u001b[39ma\u001b[39m\u001b[39m'\u001b[39m: \u001b[39m1\u001b[39m, \u001b[39m'\u001b[39m\u001b[39mb\u001b[39m\u001b[39m'\u001b[39m : \u001b[39m2\u001b[39m, \u001b[39m'\u001b[39m\u001b[39mc\u001b[39m\u001b[39m'\u001b[39m : \u001b[39m3\u001b[39m}\n\u001b[1;32m----> <a href='vscode-notebook-cell:/c%3A/Users/k-pro/OneDrive/Desktop/k-project/LutzM.ipynb#Y462sZmlsZQ%3D%3D?line=1'>2</a>\u001b[0m D[\u001b[39m'\u001b[39;49m\u001b[39md\u001b[39;49m\u001b[39m'\u001b[39;49m]\n",
      "\u001b[1;31mKeyError\u001b[0m: 'd'"
     ]
    }
   ],
   "source": [
    "D = {'a': 1, 'b' : 2, 'c' : 3}\n",
    "D['d']"
   ]
  },
  {
   "cell_type": "code",
   "execution_count": null,
   "metadata": {},
   "outputs": [
    {
     "data": {
      "text/plain": [
       "{'a': 1, 'b': 2, 'c': 3, 'd': 4}"
      ]
     },
     "execution_count": 74,
     "metadata": {},
     "output_type": "execute_result"
    }
   ],
   "source": [
    "D['d'] = 4\n",
    "D"
   ]
  },
  {
   "cell_type": "code",
   "execution_count": null,
   "metadata": {},
   "outputs": [
    {
     "data": {
      "text/plain": [
       "'s'"
      ]
     },
     "execution_count": 76,
     "metadata": {},
     "output_type": "execute_result"
    }
   ],
   "source": [
    "S = 'spam'\n",
    "S[0][0][0]"
   ]
  },
  {
   "cell_type": "code",
   "execution_count": null,
   "metadata": {},
   "outputs": [
    {
     "data": {
      "text/plain": [
       "'s'"
      ]
     },
     "execution_count": 78,
     "metadata": {},
     "output_type": "execute_result"
    }
   ],
   "source": [
    "['s', 'p'][0][0]"
   ]
  },
  {
   "cell_type": "markdown",
   "metadata": {},
   "source": [
    "# Часть 3. Операторы и синтаксис"
   ]
  },
  {
   "cell_type": "code",
   "execution_count": null,
   "metadata": {},
   "outputs": [
    {
     "name": "stdout",
     "output_type": "stream",
     "text": [
      "3\n"
     ]
    }
   ],
   "source": [
    "a = 1; b = 2; print(a + b) # Три оператора в одной строке"
   ]
  },
  {
   "cell_type": "code",
   "execution_count": null,
   "metadata": {},
   "outputs": [
    {
     "data": {
      "text/plain": [
       "10"
      ]
     },
     "execution_count": 89,
     "metadata": {},
     "output_type": "execute_result"
    }
   ],
   "source": [
    "X = (1 + 3 +                  # Круглые скобки дают возможность перенести оперетор на следующую строку\n",
    "     2 + 4)\n",
    "X"
   ]
  },
  {
   "cell_type": "code",
   "execution_count": null,
   "metadata": {},
   "outputs": [
    {
     "data": {
      "text/plain": [
       "10"
      ]
     },
     "execution_count": 90,
     "metadata": {},
     "output_type": "execute_result"
    }
   ],
   "source": [
    "# Обратный слэш дает возможность переноса на следующую строку, но это устаревший ненадежный вариант\n",
    "X = 1 + 2 + \\\n",
    "3 + 4\n",
    "X"
   ]
  },
  {
   "cell_type": "code",
   "execution_count": null,
   "metadata": {},
   "outputs": [
    {
     "name": "stdout",
     "output_type": "stream",
     "text": [
      "144\n",
      "Bad! Bad! Bad! Bad! Bad! Bad! Bad! Bad! \n",
      "Bye\n"
     ]
    }
   ],
   "source": [
    "while True:\n",
    "    reply = input('Enter text:')\n",
    "    if reply == 'stop': break\n",
    "    elif not reply.isdigit():\n",
    "        print('Bad! ' * 8)\n",
    "    else:\n",
    "        print(int(reply) ** 2)\n",
    "print ('Bye')"
   ]
  },
  {
   "cell_type": "code",
   "execution_count": null,
   "metadata": {},
   "outputs": [
    {
     "data": {
      "text/plain": [
       "'3.10.7 (tags/v3.10.7:6cc6b13, Sep  5 2022, 14:08:36) [MSC v.1933 64 bit (AMD64)]'"
      ]
     },
     "execution_count": 84,
     "metadata": {},
     "output_type": "execute_result"
    }
   ],
   "source": [
    "import sys\n",
    "sys.version"
   ]
  },
  {
   "cell_type": "code",
   "execution_count": null,
   "metadata": {},
   "outputs": [
    {
     "data": {
      "text/plain": [
       "(True, False)"
      ]
     },
     "execution_count": 170,
     "metadata": {},
     "output_type": "execute_result"
    }
   ],
   "source": [
    "S = '123'                                 \n",
    "T = 'xxx'\n",
    "S.isdigit(), T.isdigit()                        # Проверка строки на содержание только чисел"
   ]
  },
  {
   "cell_type": "code",
   "execution_count": null,
   "metadata": {},
   "outputs": [
    {
     "name": "stdout",
     "output_type": "stream",
     "text": [
      "Bye\n"
     ]
    }
   ],
   "source": [
    "while True:\n",
    "    reply = input('Enter text: ')\n",
    "    if reply == 'stop': break\n",
    "    try:                                       # Варинат с try-except-else\n",
    "        num = int(reply)\n",
    "    except:\n",
    "        print('Bad! ' * 8)\n",
    "    else:\n",
    "        print(num ** 2)\n",
    "print('Bye')"
   ]
  },
  {
   "cell_type": "markdown",
   "metadata": {},
   "source": [
    "## Глава 11. Операторы присваивания, выражений и вывода\n",
    "### Операторы присваивания"
   ]
  },
  {
   "cell_type": "code",
   "execution_count": null,
   "metadata": {},
   "outputs": [
    {
     "data": {
      "text/plain": [
       "42"
      ]
     },
     "execution_count": 23,
     "metadata": {},
     "output_type": "execute_result"
    }
   ],
   "source": [
    "spam = 'spam'\n",
    "spam, ham = 'spam', 'ham'\n",
    "[spam,ham] = ['yum', 'YUM']\n",
    "a, b, c, d = 'spam'\n",
    "*a, b = 'spam'               # расширенная распаковка последовательности\n",
    "spam = ham = 'lunch'         # групповое присваивание\n",
    "spams = 0\n",
    "spams += 42                  # дополненное присваивание\n",
    "spams"
   ]
  },
  {
   "cell_type": "code",
   "execution_count": null,
   "metadata": {},
   "outputs": [
    {
     "data": {
      "text/plain": [
       "('spam', 1)"
      ]
     },
     "execution_count": 24,
     "metadata": {},
     "output_type": "execute_result"
    }
   ],
   "source": [
    "nudge = 1\n",
    "wink = 'spam'\n",
    " \n",
    "nudge, wink = wink, nudge      # Удобный способ обмена значениями между двумя переменными без промежуточной третей переменной\n",
    "\n",
    "nudge, wink"
   ]
  },
  {
   "cell_type": "markdown",
   "metadata": {},
   "source": [
    "#### Присваивания последовательностей"
   ]
  },
  {
   "cell_type": "code",
   "execution_count": null,
   "metadata": {},
   "outputs": [
    {
     "data": {
      "text/plain": [
       "(1, 3)"
      ]
     },
     "execution_count": 25,
     "metadata": {},
     "output_type": "execute_result"
    }
   ],
   "source": [
    "[a, b, c] = (1, 2, 3)          # Присваивание кортежа значений списку имен\n",
    "a, c"
   ]
  },
  {
   "cell_type": "code",
   "execution_count": null,
   "metadata": {},
   "outputs": [
    {
     "data": {
      "text/plain": [
       "('A', 'C')"
      ]
     },
     "execution_count": 26,
     "metadata": {},
     "output_type": "execute_result"
    }
   ],
   "source": [
    "(a, b, c) = 'ABC'              # Присваивание строки символов кортежу имен\n",
    "a, c"
   ]
  },
  {
   "cell_type": "code",
   "execution_count": null,
   "metadata": {},
   "outputs": [
    {
     "data": {
      "text/plain": [
       "('S', 'M')"
      ]
     },
     "execution_count": 1,
     "metadata": {},
     "output_type": "execute_result"
    }
   ],
   "source": [
    "string = 'SPAM'\n",
    "a, b, c, d = string\n",
    "a, d"
   ]
  },
  {
   "cell_type": "code",
   "execution_count": null,
   "metadata": {},
   "outputs": [
    {
     "ename": "ValueError",
     "evalue": "too many values to unpack (expected 3)",
     "output_type": "error",
     "traceback": [
      "\u001b[1;31m---------------------------------------------------------------------------\u001b[0m",
      "\u001b[1;31mValueError\u001b[0m                                Traceback (most recent call last)",
      "\u001b[1;32mc:\\Users\\k-pro\\OneDrive\\Desktop\\k-project\\LutzM.ipynb Cell 258\u001b[0m line \u001b[0;36m1\n\u001b[1;32m----> <a href='vscode-notebook-cell:/c%3A/Users/k-pro/OneDrive/Desktop/k-project/LutzM.ipynb#Y515sZmlsZQ%3D%3D?line=0'>1</a>\u001b[0m a, b, c \u001b[39m=\u001b[39m string\n",
      "\u001b[1;31mValueError\u001b[0m: too many values to unpack (expected 3)"
     ]
    }
   ],
   "source": [
    "a, b, c = string                # пример ошибки при разных длинах последовательностей слева и справа"
   ]
  },
  {
   "cell_type": "code",
   "execution_count": null,
   "metadata": {},
   "outputs": [
    {
     "data": {
      "text/plain": [
       "('S', 'P', 'AM')"
      ]
     },
     "execution_count": 3,
     "metadata": {},
     "output_type": "execute_result"
    }
   ],
   "source": [
    "a, b, c = string[0], string[1], string[2:]   # Индексация и нарезание\n",
    "a, b, c"
   ]
  },
  {
   "cell_type": "code",
   "execution_count": null,
   "metadata": {},
   "outputs": [
    {
     "data": {
      "text/plain": [
       "('S', 'P', 'AM')"
      ]
     },
     "execution_count": 5,
     "metadata": {},
     "output_type": "execute_result"
    }
   ],
   "source": [
    "a, b, c = list(string[:2]) + [string[2:]]    # Нарезание и конкатенация\n",
    "a, b, c"
   ]
  },
  {
   "cell_type": "code",
   "execution_count": null,
   "metadata": {},
   "outputs": [
    {
     "data": {
      "text/plain": [
       "('S', 'P', 'AM')"
      ]
     },
     "execution_count": 6,
     "metadata": {},
     "output_type": "execute_result"
    }
   ],
   "source": [
    "(a, b), c = string[:2], string[2:]     # Вложенные последовательности\n",
    "a, b, c"
   ]
  },
  {
   "cell_type": "code",
   "execution_count": null,
   "metadata": {},
   "outputs": [
    {
     "name": "stdout",
     "output_type": "stream",
     "text": [
      "(1, 2, 3, 1, 2, 3)\n",
      "(4, 5, 6, 4, 5, 6)\n"
     ]
    }
   ],
   "source": [
    "for (a, b, c) in [(1, 2, 3), (4, 5, 6)]: print((a, b, c) * 2)    # Присваивание в цикле"
   ]
  },
  {
   "cell_type": "code",
   "execution_count": null,
   "metadata": {},
   "outputs": [
    {
     "data": {
      "text/plain": [
       "(0, 2)"
      ]
     },
     "execution_count": 10,
     "metadata": {},
     "output_type": "execute_result"
    }
   ],
   "source": [
    "red, green, blue = range(3)\n",
    "red, blue"
   ]
  },
  {
   "cell_type": "code",
   "execution_count": null,
   "metadata": {},
   "outputs": [
    {
     "name": "stdout",
     "output_type": "stream",
     "text": [
      "1 [2, 3, 4]\n",
      "2 [3, 4]\n",
      "3 [4]\n",
      "4 []\n"
     ]
    }
   ],
   "source": [
    "L = [1, 2, 3, 4]                                     # Разбиение последовательности на голову и остальное)))\n",
    "while L:\n",
    "    front, L = L[0], L[1:]\n",
    "    print(front, L)"
   ]
  },
  {
   "cell_type": "code",
   "execution_count": null,
   "metadata": {},
   "outputs": [
    {
     "name": "stdout",
     "output_type": "stream",
     "text": [
      "1 [2, 3, 4]\n",
      "2 [3, 4]\n",
      "3 [4]\n",
      "4 []\n"
     ]
    }
   ],
   "source": [
    "L = [1, 2, 3, 4]                                     # Разбиение последовательности на голову и остальное)))\n",
    "while L:\n",
    "    front = L.pop(0)                                 # С использованием метода меняющего последовательность inplace\n",
    "    print(front, L)"
   ]
  },
  {
   "cell_type": "code",
   "execution_count": null,
   "metadata": {},
   "outputs": [
    {
     "name": "stdout",
     "output_type": "stream",
     "text": [
      "1 [2, 3, 4]\n",
      "2 [3, 4]\n",
      "3 [4]\n",
      "4 []\n"
     ]
    }
   ],
   "source": [
    "L = [1, 2, 3, 4]                                     # Разбиение последовательности на голову и остальное)))\n",
    "while L:\n",
    "    front, *L= L                                     # Расширенная распаковка\n",
    "    print(front, L)"
   ]
  },
  {
   "cell_type": "markdown",
   "metadata": {},
   "source": [
    "#### Расширенная распаковка"
   ]
  },
  {
   "cell_type": "code",
   "execution_count": null,
   "metadata": {},
   "outputs": [
    {
     "data": {
      "text/plain": [
       "[2, 3, 4]"
      ]
     },
     "execution_count": 17,
     "metadata": {},
     "output_type": "execute_result"
    }
   ],
   "source": [
    "seq = [1, 2, 3, 4]\n",
    "\n",
    "a, *b = seq\n",
    "b"
   ]
  },
  {
   "cell_type": "code",
   "execution_count": null,
   "metadata": {},
   "outputs": [
    {
     "data": {
      "text/plain": [
       "[1, 2, 3]"
      ]
     },
     "execution_count": 18,
     "metadata": {},
     "output_type": "execute_result"
    }
   ],
   "source": [
    "seq = [1, 2, 3, 4]\n",
    "\n",
    "*a, b = seq\n",
    "a"
   ]
  },
  {
   "cell_type": "code",
   "execution_count": null,
   "metadata": {},
   "outputs": [
    {
     "data": {
      "text/plain": [
       "[2, 3]"
      ]
     },
     "execution_count": 19,
     "metadata": {},
     "output_type": "execute_result"
    }
   ],
   "source": [
    "seq = [1, 2, 3, 4]\n",
    "\n",
    "a, *b , c= seq\n",
    "b"
   ]
  },
  {
   "cell_type": "code",
   "execution_count": null,
   "metadata": {},
   "outputs": [
    {
     "data": {
      "text/plain": [
       "[3, 4]"
      ]
     },
     "execution_count": 20,
     "metadata": {},
     "output_type": "execute_result"
    }
   ],
   "source": [
    "seq = [1, 2, 3, 4]\n",
    "\n",
    "a, b, *c = seq\n",
    "c"
   ]
  },
  {
   "cell_type": "code",
   "execution_count": null,
   "metadata": {},
   "outputs": [
    {
     "data": {
      "text/plain": [
       "('s', ['p', 'a', 'm'])"
      ]
     },
     "execution_count": 21,
     "metadata": {},
     "output_type": "execute_result"
    }
   ],
   "source": [
    "a, *b = 'spam'\n",
    "a, b"
   ]
  },
  {
   "cell_type": "code",
   "execution_count": null,
   "metadata": {},
   "outputs": [
    {
     "data": {
      "text/plain": [
       "('s', ['p', 'a'], 'm')"
      ]
     },
     "execution_count": 22,
     "metadata": {},
     "output_type": "execute_result"
    }
   ],
   "source": [
    "a, *b, c = 'spam'\n",
    "a, b, c"
   ]
  },
  {
   "cell_type": "code",
   "execution_count": null,
   "metadata": {},
   "outputs": [
    {
     "data": {
      "text/plain": [
       "(0, [1, 2], 3)"
      ]
     },
     "execution_count": 23,
     "metadata": {},
     "output_type": "execute_result"
    }
   ],
   "source": [
    "a, *b, c = range(4)\n",
    "a, b, c"
   ]
  },
  {
   "cell_type": "code",
   "execution_count": null,
   "metadata": {},
   "outputs": [
    {
     "name": "stdout",
     "output_type": "stream",
     "text": [
      "1 2 3 [4]\n"
     ]
    }
   ],
   "source": [
    "seq = [1, 2, 3, 4]\n",
    "a, b, c, *d = seq\n",
    "print (a, b, c, d)"
   ]
  },
  {
   "cell_type": "code",
   "execution_count": null,
   "metadata": {},
   "outputs": [
    {
     "name": "stdout",
     "output_type": "stream",
     "text": [
      "1 2 3 4 []\n"
     ]
    }
   ],
   "source": [
    "seq = [1, 2, 3, 4]\n",
    "a, b, c, d, *e = seq\n",
    "print (a, b, c, d, e)"
   ]
  },
  {
   "cell_type": "code",
   "execution_count": null,
   "metadata": {},
   "outputs": [
    {
     "name": "stdout",
     "output_type": "stream",
     "text": [
      "1 2 3 4 []\n"
     ]
    }
   ],
   "source": [
    "seq = [1, 2, 3, 4]\n",
    "a, b, *e, c, d = seq\n",
    "print (a, b, c, d, e)"
   ]
  },
  {
   "cell_type": "code",
   "execution_count": null,
   "metadata": {},
   "outputs": [
    {
     "ename": "SyntaxError",
     "evalue": "multiple starred expressions in assignment (1879892548.py, line 2)",
     "output_type": "error",
     "traceback": [
      "\u001b[1;36m  Cell \u001b[1;32mIn[27], line 2\u001b[1;36m\u001b[0m\n\u001b[1;33m    a, *b, c, *d = seq\u001b[0m\n\u001b[1;37m    ^\u001b[0m\n\u001b[1;31mSyntaxError\u001b[0m\u001b[1;31m:\u001b[0m multiple starred expressions in assignment\n"
     ]
    }
   ],
   "source": [
    "seq = [1, 2, 3, 4]                 # ошибка с двумя символами со звездочкой\n",
    "a, *b, c, *d = seq\n"
   ]
  },
  {
   "cell_type": "code",
   "execution_count": null,
   "metadata": {},
   "outputs": [
    {
     "ename": "ValueError",
     "evalue": "too many values to unpack (expected 2)",
     "output_type": "error",
     "traceback": [
      "\u001b[1;31m---------------------------------------------------------------------------\u001b[0m",
      "\u001b[1;31mValueError\u001b[0m                                Traceback (most recent call last)",
      "\u001b[1;32mc:\\Users\\k-pro\\OneDrive\\Desktop\\k-project\\LutzM.ipynb Cell 278\u001b[0m line \u001b[0;36m2\n\u001b[0;32m      <a href='vscode-notebook-cell:/c%3A/Users/k-pro/OneDrive/Desktop/k-project/LutzM.ipynb#Y545sZmlsZQ%3D%3D?line=0'>1</a>\u001b[0m seq \u001b[39m=\u001b[39m [\u001b[39m1\u001b[39m, \u001b[39m2\u001b[39m, \u001b[39m3\u001b[39m, \u001b[39m4\u001b[39m] \n\u001b[1;32m----> <a href='vscode-notebook-cell:/c%3A/Users/k-pro/OneDrive/Desktop/k-project/LutzM.ipynb#Y545sZmlsZQ%3D%3D?line=1'>2</a>\u001b[0m a, b \u001b[39m=\u001b[39m seq\n",
      "\u001b[1;31mValueError\u001b[0m: too many values to unpack (expected 2)"
     ]
    }
   ],
   "source": [
    "seq = [1, 2, 3, 4]                 # Ошибка когда слишком мало символов для распкаовки\n",
    "a, b = seq"
   ]
  },
  {
   "cell_type": "code",
   "execution_count": null,
   "metadata": {},
   "outputs": [
    {
     "ename": "SyntaxError",
     "evalue": "starred assignment target must be in a list or tuple (146097869.py, line 2)",
     "output_type": "error",
     "traceback": [
      "\u001b[1;36m  Cell \u001b[1;32mIn[29], line 2\u001b[1;36m\u001b[0m\n\u001b[1;33m    *a = seq\u001b[0m\n\u001b[1;37m    ^\u001b[0m\n\u001b[1;31mSyntaxError\u001b[0m\u001b[1;31m:\u001b[0m starred assignment target must be in a list or tuple\n"
     ]
    }
   ],
   "source": [
    "seq = [1, 2, 3, 4]                 # Ошибка когда имя со звездочкой не находиться в списке или кортеже\n",
    "*a = seq"
   ]
  },
  {
   "cell_type": "code",
   "execution_count": null,
   "metadata": {},
   "outputs": [
    {
     "data": {
      "text/plain": [
       "[1, 2, 3, 4]"
      ]
     },
     "execution_count": 32,
     "metadata": {},
     "output_type": "execute_result"
    }
   ],
   "source": [
    "seq = [1, 2, 3, 4]                 # Обход предыдущей ошибки\n",
    "*a, = seq\n",
    "a"
   ]
  },
  {
   "cell_type": "code",
   "execution_count": null,
   "metadata": {},
   "outputs": [
    {
     "name": "stdout",
     "output_type": "stream",
     "text": [
      "1 [2, 3] 4\n",
      "5 [6, 7] 8\n"
     ]
    }
   ],
   "source": [
    "for (a, *b, c) in [(1, 2, 3, 4), (5, 6, 7, 8)]: print(a, b, c)  # Пример цикла с распаковкой"
   ]
  },
  {
   "cell_type": "code",
   "execution_count": null,
   "metadata": {},
   "outputs": [
    {
     "name": "stdout",
     "output_type": "stream",
     "text": [
      "1 (2, 3) 4\n",
      "5 (6, 7) 8\n"
     ]
    }
   ],
   "source": [
    "for all in [(1, 2, 3, 4), (5, 6, 7, 8)]: print(all[0], all[1:3] , all[3])  # Пример цикла с нарезанием"
   ]
  },
  {
   "cell_type": "markdown",
   "metadata": {},
   "source": [
    "#### груповые присваивания и разделяемые ссылки"
   ]
  },
  {
   "cell_type": "code",
   "execution_count": null,
   "metadata": {},
   "outputs": [
    {
     "data": {
      "text/plain": [
       "(0, 1)"
      ]
     },
     "execution_count": 3,
     "metadata": {},
     "output_type": "execute_result"
    }
   ],
   "source": [
    "a = b = 0                   # пример когда обе переменные указывают на неизменяемый объект\n",
    "b = b + 1\n",
    "a, b"
   ]
  },
  {
   "cell_type": "code",
   "execution_count": null,
   "metadata": {},
   "outputs": [
    {
     "data": {
      "text/plain": [
       "([42], [42])"
      ]
     },
     "execution_count": 5,
     "metadata": {},
     "output_type": "execute_result"
    }
   ],
   "source": [
    "a = b = []                  # Пример когда обе переменные указывают на изменяемый объект\n",
    "b.append(42)\n",
    "a, b"
   ]
  },
  {
   "cell_type": "code",
   "execution_count": null,
   "metadata": {},
   "outputs": [
    {
     "data": {
      "text/plain": [
       "([], [42])"
      ]
     },
     "execution_count": 6,
     "metadata": {},
     "output_type": "execute_result"
    }
   ],
   "source": [
    "a = []                        # Пример когда обе переменные не разделяют один и тот же объект\n",
    "b = []\n",
    "b.append(42)\n",
    "a, b"
   ]
  },
  {
   "cell_type": "code",
   "execution_count": null,
   "metadata": {},
   "outputs": [],
   "source": [
    "a, b = [], []              # Пример когда обе переменные не разделяют один и тот же объект"
   ]
  },
  {
   "cell_type": "markdown",
   "metadata": {},
   "source": [
    "#### Дополненные присваивания"
   ]
  },
  {
   "cell_type": "code",
   "execution_count": null,
   "metadata": {},
   "outputs": [],
   "source": [
    "X = X + Y               # Традиционная форма\n",
    "X += Y                  # Более новая дополненная форма бинарной операции\n",
    "X *= Y\n",
    "X %= Y\n",
    "X &= Y\n",
    "X ^= Y\n",
    "X <<= Y\n",
    "X -= Y\n",
    "X /= Y\n",
    "X **= Y\n",
    "X |= Y\n",
    "X >>= Y                  # Сдвигает вправо и присваивает\n",
    "X //= Y                  # деление с округлением в меньшую сторону"
   ]
  },
  {
   "cell_type": "code",
   "execution_count": null,
   "metadata": {},
   "outputs": [
    {
     "data": {
      "text/plain": [
       "[1, 2, 3]"
      ]
     },
     "execution_count": 12,
     "metadata": {},
     "output_type": "execute_result"
    }
   ],
   "source": [
    "L = [1, 2]\n",
    "L = L + [3]                    # Конкатенация: медленнее\n",
    "L"
   ]
  },
  {
   "cell_type": "code",
   "execution_count": null,
   "metadata": {},
   "outputs": [
    {
     "data": {
      "text/plain": [
       "[1, 2, 3, 4]"
      ]
     },
     "execution_count": 13,
     "metadata": {},
     "output_type": "execute_result"
    }
   ],
   "source": [
    "L.append(4)                   # Выполняется inplace\n",
    "L"
   ]
  },
  {
   "cell_type": "code",
   "execution_count": null,
   "metadata": {},
   "outputs": [
    {
     "data": {
      "text/plain": [
       "[1, 2, 3, 4, 5, 6]"
      ]
     },
     "execution_count": 14,
     "metadata": {},
     "output_type": "execute_result"
    }
   ],
   "source": [
    "L.extend([5,6])                # выполняется inplace\n",
    "L"
   ]
  },
  {
   "cell_type": "code",
   "execution_count": null,
   "metadata": {},
   "outputs": [
    {
     "data": {
      "text/plain": [
       "[1, 2, 3, 4, 5, 6, 7, 8]"
      ]
     },
     "execution_count": 15,
     "metadata": {},
     "output_type": "execute_result"
    }
   ],
   "source": [
    "L += [7, 8]                   # дополненое присваивание\n",
    "L"
   ]
  },
  {
   "cell_type": "code",
   "execution_count": null,
   "metadata": {},
   "outputs": [
    {
     "data": {
      "text/plain": [
       "['s', 'p', 'a', 'm']"
      ]
     },
     "execution_count": 16,
     "metadata": {},
     "output_type": "execute_result"
    }
   ],
   "source": [
    "L = []                                \n",
    "L += 'spam'                             # Дополненое присваивание допускает любую последовательность\n",
    "L"
   ]
  },
  {
   "cell_type": "code",
   "execution_count": null,
   "metadata": {},
   "outputs": [
    {
     "ename": "TypeError",
     "evalue": "can only concatenate list (not \"str\") to list",
     "output_type": "error",
     "traceback": [
      "\u001b[1;31m---------------------------------------------------------------------------\u001b[0m",
      "\u001b[1;31mTypeError\u001b[0m                                 Traceback (most recent call last)",
      "\u001b[1;32mc:\\Users\\k-pro\\OneDrive\\Desktop\\k-project\\LutzM.ipynb Cell 297\u001b[0m line \u001b[0;36m1\n\u001b[1;32m----> <a href='vscode-notebook-cell:/c%3A/Users/k-pro/OneDrive/Desktop/k-project/LutzM.ipynb#Y602sZmlsZQ%3D%3D?line=0'>1</a>\u001b[0m L \u001b[39m=\u001b[39m L \u001b[39m+\u001b[39;49m \u001b[39m'\u001b[39;49m\u001b[39mspam\u001b[39;49m\u001b[39m'\u001b[39;49m                       \u001b[39m# А обчное + не допускает!\u001b[39;00m\n",
      "\u001b[1;31mTypeError\u001b[0m: can only concatenate list (not \"str\") to list"
     ]
    }
   ],
   "source": [
    "L = L + 'spam'                       # А обчное + не допускает! Ошибка"
   ]
  },
  {
   "cell_type": "code",
   "execution_count": null,
   "metadata": {},
   "outputs": [
    {
     "data": {
      "text/plain": [
       "([1, 2, 3, 4], [1, 2])"
      ]
     },
     "execution_count": 18,
     "metadata": {},
     "output_type": "execute_result"
    }
   ],
   "source": [
    "L = [1 ,2]\n",
    "M = L\n",
    "L = L + [3, 4]                           # Конкатенация создает новый объект\n",
    "L, M"
   ]
  },
  {
   "cell_type": "code",
   "execution_count": null,
   "metadata": {},
   "outputs": [
    {
     "data": {
      "text/plain": [
       "([1, 2, 3, 4], [1, 2, 3, 4])"
      ]
     },
     "execution_count": 19,
     "metadata": {},
     "output_type": "execute_result"
    }
   ],
   "source": [
    "L = [1 ,2]\n",
    "M = L\n",
    "L += [3, 4]                           # Но += делает все inplace, поэтому M видит эти изменения!!!\n",
    "L, M"
   ]
  },
  {
   "cell_type": "markdown",
   "metadata": {},
   "source": [
    "### Операторыв выражения"
   ]
  },
  {
   "cell_type": "code",
   "execution_count": null,
   "metadata": {},
   "outputs": [],
   "source": [
    "spam(eggs, ham)             # выражение вызова функции\n",
    "spam.ham(eggs)              # выражение вызова методов\n",
    "spam                        # выражение вывода переменных\n",
    "print(a, b, c, sep = ' ')   # выражение вывода результатов операций\n",
    "yield x ** 2                # выражение выдачи значений в операторах выражений"
   ]
  },
  {
   "cell_type": "code",
   "execution_count": null,
   "metadata": {},
   "outputs": [
    {
     "name": "stdout",
     "output_type": "stream",
     "text": [
      "spam\n",
      "None\n"
     ]
    }
   ],
   "source": [
    "x = print('spam')\n",
    "print(x)"
   ]
  },
  {
   "cell_type": "code",
   "execution_count": null,
   "metadata": {},
   "outputs": [
    {
     "data": {
      "text/plain": [
       "[1, 2, 3]"
      ]
     },
     "execution_count": 5,
     "metadata": {},
     "output_type": "execute_result"
    }
   ],
   "source": [
    "L = [1,2]\n",
    "L.append(3)\n",
    "L"
   ]
  },
  {
   "cell_type": "code",
   "execution_count": null,
   "metadata": {},
   "outputs": [],
   "source": [
    "L = L.append(4)                       # Пример ошибки новичка, тк append изменяет L inplace и возвращает None\n",
    "L"
   ]
  },
  {
   "cell_type": "markdown",
   "metadata": {},
   "source": [
    "### Операции вывода"
   ]
  },
  {
   "cell_type": "code",
   "execution_count": null,
   "metadata": {},
   "outputs": [
    {
     "name": "stdout",
     "output_type": "stream",
     "text": [
      "\n"
     ]
    }
   ],
   "source": [
    "print()             # Отображение пустой строки"
   ]
  },
  {
   "cell_type": "code",
   "execution_count": null,
   "metadata": {},
   "outputs": [
    {
     "name": "stdout",
     "output_type": "stream",
     "text": [
      "spam 99 ['eggs']\n"
     ]
    }
   ],
   "source": [
    "x = 'spam'\n",
    "y = 99\n",
    "z = ['eggs']\n",
    "\n",
    "print(x, y, z)             # Вывод трех объектов со стандратными значениями аргументов"
   ]
  },
  {
   "cell_type": "code",
   "execution_count": null,
   "metadata": {},
   "outputs": [
    {
     "name": "stdout",
     "output_type": "stream",
     "text": [
      "spam99['eggs']\n"
     ]
    }
   ],
   "source": [
    "print(x, y, z, sep = '')           # Подавить разделитель"
   ]
  },
  {
   "cell_type": "code",
   "execution_count": null,
   "metadata": {},
   "outputs": [
    {
     "name": "stdout",
     "output_type": "stream",
     "text": [
      "spam, 99, ['eggs']\n"
     ]
    }
   ],
   "source": [
    "print(x, y, z, sep = ', ')                   # Специальный разделитель"
   ]
  },
  {
   "cell_type": "code",
   "execution_count": null,
   "metadata": {},
   "outputs": [
    {
     "name": "stdout",
     "output_type": "stream",
     "text": [
      "spam 99 ['eggs']spam 99 ['eggs']\n"
     ]
    }
   ],
   "source": [
    "print(x, y, z, end = ''); print (x, y, z)        # Два оператора print, выводящие в одну строку"
   ]
  },
  {
   "cell_type": "code",
   "execution_count": null,
   "metadata": {},
   "outputs": [
    {
     "name": "stdout",
     "output_type": "stream",
     "text": [
      "spam 99 ['eggs']...\n"
     ]
    }
   ],
   "source": [
    "print(x, y, z, end = '...\\n')                    # Специальный конец строки"
   ]
  },
  {
   "cell_type": "code",
   "execution_count": null,
   "metadata": {},
   "outputs": [
    {
     "name": "stdout",
     "output_type": "stream",
     "text": [
      "spam...99...['eggs']!\n"
     ]
    }
   ],
   "source": [
    "print(x, y, z, end = '!\\n', sep = '...')     "
   ]
  },
  {
   "cell_type": "code",
   "execution_count": null,
   "metadata": {},
   "outputs": [
    {
     "name": "stdout",
     "output_type": "stream",
     "text": [
      "spam 99 ['eggs']\n"
     ]
    }
   ],
   "source": [
    "print(x, y, z, sep='...', file=open('data.txt', 'w')) # Вывод в файл\n",
    "print(x, y, z)                                        # возврат к stdout"
   ]
  },
  {
   "cell_type": "code",
   "execution_count": null,
   "metadata": {},
   "outputs": [
    {
     "name": "stdout",
     "output_type": "stream",
     "text": [
      "spam...99...['eggs']\n",
      "\n"
     ]
    }
   ],
   "source": [
    "print(open('data.txt').read())                        # Отображение текста файла"
   ]
  },
  {
   "cell_type": "code",
   "execution_count": null,
   "metadata": {},
   "outputs": [
    {
     "name": "stdout",
     "output_type": "stream",
     "text": [
      "Result: 3.1416, 00042\n"
     ]
    }
   ],
   "source": [
    "print('%s: %-.4f, %05d' % ('Result', 3.14159, 42))            # Строковые инструменты  для форматирования"
   ]
  },
  {
   "cell_type": "markdown",
   "metadata": {},
   "source": [
    "#### Перенаправление потока вывода"
   ]
  },
  {
   "cell_type": "code",
   "execution_count": null,
   "metadata": {},
   "outputs": [
    {
     "name": "stdout",
     "output_type": "stream",
     "text": [
      "hello world\n"
     ]
    }
   ],
   "source": [
    "print('hello world')                             # Вывод строкового объекта"
   ]
  },
  {
   "cell_type": "code",
   "execution_count": null,
   "metadata": {},
   "outputs": [
    {
     "data": {
      "text/plain": [
       "'hello world'"
      ]
     },
     "execution_count": 23,
     "metadata": {},
     "output_type": "execute_result"
    }
   ],
   "source": [
    "'hello world'                                # Интерактивная подсказка"
   ]
  },
  {
   "cell_type": "code",
   "execution_count": null,
   "metadata": {},
   "outputs": [
    {
     "name": "stdout",
     "output_type": "stream",
     "text": [
      "hello world\n"
     ]
    },
    {
     "data": {
      "text/plain": [
       "12"
      ]
     },
     "execution_count": 27,
     "metadata": {},
     "output_type": "execute_result"
    }
   ],
   "source": [
    "import sys\n",
    "sys.stdout.write('hello world\\n')                # Вывод сложным способом"
   ]
  },
  {
   "cell_type": "code",
   "execution_count": null,
   "metadata": {},
   "outputs": [],
   "source": [
    "import sys\n",
    "sys.stdout = open('log.txt', 'a')                # Перенаправление вывода в файл\n",
    "print('hi new file!)')"
   ]
  },
  {
   "cell_type": "code",
   "execution_count": null,
   "metadata": {},
   "outputs": [],
   "source": [
    "print('thanks')\n",
    "sys.stdout.close()"
   ]
  },
  {
   "cell_type": "code",
   "execution_count": null,
   "metadata": {},
   "outputs": [
    {
     "name": "stdout",
     "output_type": "stream",
     "text": [
      "foo\n"
     ]
    }
   ],
   "source": [
    "print('foo')"
   ]
  },
  {
   "cell_type": "code",
   "execution_count": null,
   "metadata": {},
   "outputs": [
    {
     "name": "stdout",
     "output_type": "stream",
     "text": [
      "welcome back!)))\n"
     ]
    }
   ],
   "source": [
    "import sys\n",
    "temp = sys.stdout                           # Сохранение с целью восстановления в будущем\n",
    "sys.stdout = open('log.txt', 'a')           # перенаправление вывода в файл\n",
    "print('spam')\n",
    "print(1, 2, 3)\n",
    "sys.stdout.close()                          # сброс вывода на диск\n",
    "sys.stdout = temp                           # восстановление исходного потока\n",
    "\n",
    "print('welcome back!)))')\n"
   ]
  },
  {
   "cell_type": "code",
   "execution_count": null,
   "metadata": {},
   "outputs": [
    {
     "name": "stdout",
     "output_type": "stream",
     "text": [
      "bla-bla-bla\n"
     ]
    }
   ],
   "source": [
    "log = open('log.txt', 'a')                  \n",
    "print('bla', file=log)                      # вывод в файл\n",
    "print('bla-bla-bla')                        # вывод в исходный stdout"
   ]
  },
  {
   "cell_type": "code",
   "execution_count": null,
   "metadata": {},
   "outputs": [
    {
     "name": "stdout",
     "output_type": "stream",
     "text": [
      "4 5 6\n",
      "1 2 3\n",
      "\n"
     ]
    }
   ],
   "source": [
    "log = open('log.txt', 'w')                # перенаправление в объект (обязательно имеет метод write, как у файлового объекта)\n",
    "print(1, 2, 3, file=log)\n",
    "log.close()\n",
    "print(4, 5, 6)\n",
    "print(open('log.txt').read())"
   ]
  },
  {
   "cell_type": "code",
   "execution_count": null,
   "metadata": {},
   "outputs": [
    {
     "name": "stderr",
     "output_type": "stream",
     "text": [
      "bad bad bad bad bad bad bad bad \n"
     ]
    },
    {
     "data": {
      "text/plain": [
       "33"
      ]
     },
     "execution_count": 11,
     "metadata": {},
     "output_type": "execute_result"
    }
   ],
   "source": [
    "import sys\n",
    "sys.stderr.write(('bad ' * 8) + '\\n')                  # вывод в поток ошибок"
   ]
  },
  {
   "cell_type": "code",
   "execution_count": null,
   "metadata": {},
   "outputs": [
    {
     "name": "stderr",
     "output_type": "stream",
     "text": [
      "bad bad bad bad bad bad bad bad \n"
     ]
    }
   ],
   "source": [
    "print('bad ' * 8, file = sys.stderr)                 # вывод в поток ошибок через print"
   ]
  },
  {
   "cell_type": "code",
   "execution_count": null,
   "metadata": {},
   "outputs": [
    {
     "name": "stdout",
     "output_type": "stream",
     "text": [
      "1 2\n"
     ]
    }
   ],
   "source": [
    "X = 1; Y = 2\n",
    "print(X, Y)                       # Вывод легкий способ"
   ]
  },
  {
   "cell_type": "code",
   "execution_count": null,
   "metadata": {},
   "outputs": [
    {
     "name": "stdout",
     "output_type": "stream",
     "text": [
      "1 2\n"
     ]
    },
    {
     "data": {
      "text/plain": [
       "4"
      ]
     },
     "execution_count": 14,
     "metadata": {},
     "output_type": "execute_result"
    }
   ],
   "source": [
    "import sys\n",
    "sys.stdout.write(str(X) + ' ' + str(Y) + '\\n')              # Вывод сложный способ"
   ]
  },
  {
   "cell_type": "code",
   "execution_count": null,
   "metadata": {},
   "outputs": [],
   "source": [
    "print(X, Y, file=open('temp1', 'w'))                    # Перенаправление вывода в файл"
   ]
  },
  {
   "cell_type": "code",
   "execution_count": null,
   "metadata": {},
   "outputs": [
    {
     "data": {
      "text/plain": [
       "4"
      ]
     },
     "execution_count": 16,
     "metadata": {},
     "output_type": "execute_result"
    }
   ],
   "source": [
    "open('temp2', 'w').write(str(X) + ' ' + str(Y) + '\\n')       # отправка вручную в файл"
   ]
  },
  {
   "cell_type": "code",
   "execution_count": null,
   "metadata": {},
   "outputs": [
    {
     "name": "stdout",
     "output_type": "stream",
     "text": [
      "b'1 2\\r\\n'\n"
     ]
    }
   ],
   "source": [
    "print(open('temp1', 'rb').read())                   # Двоичный режим для вывода байтов"
   ]
  },
  {
   "cell_type": "code",
   "execution_count": null,
   "metadata": {},
   "outputs": [],
   "source": [
    "print(open('temp2', 'rb').read())"
   ]
  },
  {
   "cell_type": "code",
   "execution_count": null,
   "metadata": {},
   "outputs": [
    {
     "name": "stdout",
     "output_type": "stream",
     "text": [
      "spam ham eggs\n"
     ]
    }
   ],
   "source": [
    "print('%s %s %s' % ('spam', 'ham', 'eggs'))             # нейтрализация отличия отображения между 2 и 3 версиями"
   ]
  },
  {
   "cell_type": "code",
   "execution_count": null,
   "metadata": {},
   "outputs": [
    {
     "name": "stdout",
     "output_type": "stream",
     "text": [
      "spam ham eggs\n"
     ]
    }
   ],
   "source": [
    "print('{0} {1} {2}'. format('spam', 'ham', 'eggs'))          # нейтрализация отличия отображения между 2 и 3 версиями"
   ]
  },
  {
   "cell_type": "code",
   "execution_count": null,
   "metadata": {},
   "outputs": [
    {
     "name": "stdout",
     "output_type": "stream",
     "text": [
      "answer: 42\n"
     ]
    }
   ],
   "source": [
    "print('answer: ' + str(42))                            # нейтрализация отличия отображения между 2 и 3 версиями"
   ]
  },
  {
   "cell_type": "markdown",
   "metadata": {},
   "source": [
    "## Глава 12. Проверки if и правила синтаксиса"
   ]
  },
  {
   "cell_type": "code",
   "execution_count": null,
   "metadata": {},
   "outputs": [
    {
     "name": "stdout",
     "output_type": "stream",
     "text": [
      "true\n"
     ]
    }
   ],
   "source": [
    "if 1:\n",
    "    print('true')"
   ]
  },
  {
   "cell_type": "code",
   "execution_count": null,
   "metadata": {},
   "outputs": [
    {
     "name": "stdout",
     "output_type": "stream",
     "text": [
      "false\n"
     ]
    }
   ],
   "source": [
    "if not 1:\n",
    "    print('true')\n",
    "else:\n",
    "    print('false')"
   ]
  },
  {
   "cell_type": "markdown",
   "metadata": {},
   "source": [
    "### Множественное ветвление"
   ]
  },
  {
   "cell_type": "code",
   "execution_count": null,
   "metadata": {},
   "outputs": [
    {
     "name": "stdout",
     "output_type": "stream",
     "text": [
      "run away!!!\n"
     ]
    }
   ],
   "source": [
    "x = 'killer rabbit'\n",
    "if x == 'roger':\n",
    "    print('shave and haircut')\n",
    "elif x == 'bugs':\n",
    "    print(\"what's up doc?\")\n",
    "else:\n",
    "    print('run away!!!')"
   ]
  },
  {
   "cell_type": "code",
   "execution_count": null,
   "metadata": {},
   "outputs": [
    {
     "name": "stdout",
     "output_type": "stream",
     "text": [
      "1.99\n"
     ]
    }
   ],
   "source": [
    "choice = 'ham'\n",
    "print({'spam': 1.25,                                       # Аналаог switch на основе словаря\n",
    "       'ham': 1.99,                                      # для получения стандартного значения используется has_key или get\n",
    "       'eggs': 0.99,\n",
    "       'bacon': 1.10}[choice])"
   ]
  },
  {
   "cell_type": "code",
   "execution_count": null,
   "metadata": {},
   "outputs": [
    {
     "name": "stdout",
     "output_type": "stream",
     "text": [
      "1.99\n"
     ]
    }
   ],
   "source": [
    "if choice == 'spam':                                  # Эквиввалентный оператор if\n",
    "    print(1.25)\n",
    "elif choice == 'ham':\n",
    "    print(1.99)\n",
    "elif choice == 'eggs':\n",
    "    print(0.99)\n",
    "elif choice == 'bacon':\n",
    "    print(1.10)\n",
    "else:\n",
    "    print('Bad choice')"
   ]
  },
  {
   "cell_type": "code",
   "execution_count": null,
   "metadata": {},
   "outputs": [
    {
     "name": "stdout",
     "output_type": "stream",
     "text": [
      "1.25\n",
      "Bad choice\n"
     ]
    }
   ],
   "source": [
    "branch = {'spam': 1.25,\n",
    "          'ham': 1.99,\n",
    "          'eggs': 0.99}\n",
    "print(branch.get('spam', 'Bad choice'))\n",
    "print(branch.get('bacon', 'Bad choice'))"
   ]
  },
  {
   "cell_type": "code",
   "execution_count": null,
   "metadata": {},
   "outputs": [
    {
     "name": "stdout",
     "output_type": "stream",
     "text": [
      "Bad choice\n"
     ]
    }
   ],
   "source": [
    "choice = 'bacon'\n",
    "try:\n",
    "    print(branch[choice])\n",
    "except KeyError:\n",
    "    print('Bad choice')"
   ]
  },
  {
   "cell_type": "code",
   "execution_count": null,
   "metadata": {},
   "outputs": [],
   "source": [
    "def function():...\n",
    "def default():...\n",
    "\n",
    "branch = {'spam': lambda:...,             # таблица объектов вызываемых функций\n",
    "          'ham': function,\n",
    "          'eggs': lambda:...}\n",
    "branch.get(choice, default)()"
   ]
  },
  {
   "cell_type": "markdown",
   "metadata": {},
   "source": [
    "### Особые случаи"
   ]
  },
  {
   "cell_type": "code",
   "execution_count": null,
   "metadata": {},
   "outputs": [
    {
     "data": {
      "text/plain": [
       "'\\naaaa\\nbbbb\\ncccc'"
      ]
     },
     "execution_count": 30,
     "metadata": {},
     "output_type": "execute_result"
    }
   ],
   "source": [
    "S = \"\"\"\n",
    "aaaa\n",
    "bbbb\n",
    "cccc\"\"\"\n",
    "S"
   ]
  },
  {
   "cell_type": "code",
   "execution_count": null,
   "metadata": {},
   "outputs": [
    {
     "data": {
      "text/plain": [
       "'aaabbbccc'"
      ]
     },
     "execution_count": 31,
     "metadata": {},
     "output_type": "execute_result"
    }
   ],
   "source": [
    "S = ('aaa'\n",
    "     'bbb'                        # Здесь комментарий игнорируется\n",
    "     'ccc')\n",
    "S"
   ]
  },
  {
   "cell_type": "markdown",
   "metadata": {},
   "source": [
    "### Булевские проверки"
   ]
  },
  {
   "cell_type": "code",
   "execution_count": null,
   "metadata": {},
   "outputs": [
    {
     "data": {
      "text/plain": [
       "(True, False)"
      ]
     },
     "execution_count": 32,
     "metadata": {},
     "output_type": "execute_result"
    }
   ],
   "source": [
    "2 < 3, 3 < 2"
   ]
  },
  {
   "cell_type": "code",
   "execution_count": null,
   "metadata": {},
   "outputs": [
    {
     "data": {
      "text/plain": [
       "(2, 3)"
      ]
     },
     "execution_count": 33,
     "metadata": {},
     "output_type": "execute_result"
    }
   ],
   "source": [
    "2 or 3, 3 or 2"
   ]
  },
  {
   "cell_type": "code",
   "execution_count": null,
   "metadata": {},
   "outputs": [
    {
     "data": {
      "text/plain": [
       "3"
      ]
     },
     "execution_count": 34,
     "metadata": {},
     "output_type": "execute_result"
    }
   ],
   "source": [
    "[] or 3"
   ]
  },
  {
   "cell_type": "code",
   "execution_count": null,
   "metadata": {},
   "outputs": [
    {
     "data": {
      "text/plain": [
       "{}"
      ]
     },
     "execution_count": 35,
     "metadata": {},
     "output_type": "execute_result"
    }
   ],
   "source": [
    "[] or {}"
   ]
  },
  {
   "cell_type": "code",
   "execution_count": null,
   "metadata": {},
   "outputs": [
    {
     "data": {
      "text/plain": [
       "(3, 2)"
      ]
     },
     "execution_count": 36,
     "metadata": {},
     "output_type": "execute_result"
    }
   ],
   "source": [
    "2 and 3, 3 and 2"
   ]
  },
  {
   "cell_type": "code",
   "execution_count": null,
   "metadata": {},
   "outputs": [
    {
     "data": {
      "text/plain": [
       "[]"
      ]
     },
     "execution_count": 37,
     "metadata": {},
     "output_type": "execute_result"
    }
   ],
   "source": [
    "[] and {}"
   ]
  },
  {
   "cell_type": "code",
   "execution_count": null,
   "metadata": {},
   "outputs": [
    {
     "data": {
      "text/plain": [
       "[]"
      ]
     },
     "execution_count": 38,
     "metadata": {},
     "output_type": "execute_result"
    }
   ],
   "source": [
    "3 and []"
   ]
  },
  {
   "cell_type": "code",
   "execution_count": null,
   "metadata": {},
   "outputs": [],
   "source": [
    "A = ((X and Y) or Z)                 # Использование укороченной оценки. Эквивалетно выражению ниже"
   ]
  },
  {
   "cell_type": "code",
   "execution_count": null,
   "metadata": {},
   "outputs": [],
   "source": [
    "A = Y if X else Z                    # Тернарное выражение"
   ]
  },
  {
   "cell_type": "code",
   "execution_count": null,
   "metadata": {},
   "outputs": [],
   "source": [
    "A = [Z, Y][bool(X)]                  "
   ]
  },
  {
   "cell_type": "code",
   "execution_count": null,
   "metadata": {},
   "outputs": [],
   "source": [
    "X = A or default"
   ]
  },
  {
   "cell_type": "code",
   "execution_count": null,
   "metadata": {},
   "outputs": [
    {
     "data": {
      "text/plain": [
       "[1, 2, 'spam', 'ham']"
      ]
     },
     "execution_count": 46,
     "metadata": {},
     "output_type": "execute_result"
    }
   ],
   "source": [
    "L = [1, 0, 2, 0, 'spam', '', 'ham']\n",
    "\n",
    "list(filter(bool, L))"
   ]
  },
  {
   "cell_type": "code",
   "execution_count": null,
   "metadata": {},
   "outputs": [
    {
     "data": {
      "text/plain": [
       "[1, 2, 'spam', 'ham']"
      ]
     },
     "execution_count": 41,
     "metadata": {},
     "output_type": "execute_result"
    }
   ],
   "source": [
    "L = [1, 0, 2, 0, 'spam', '', 'ham']\n",
    "\n",
    "[x for x in L if x]                                # Включение"
   ]
  },
  {
   "cell_type": "code",
   "execution_count": null,
   "metadata": {},
   "outputs": [
    {
     "data": {
      "text/plain": [
       "(True, False)"
      ]
     },
     "execution_count": 42,
     "metadata": {},
     "output_type": "execute_result"
    }
   ],
   "source": [
    "any(L), all(L)                    # проверяем является любое или все значения коллекции истинными"
   ]
  },
  {
   "cell_type": "markdown",
   "metadata": {},
   "source": [
    "## Глава 13. Циклы while и for"
   ]
  },
  {
   "cell_type": "code",
   "execution_count": null,
   "metadata": {},
   "outputs": [],
   "source": [
    "while проверка:           # Проверка цикла\n",
    "    операторы             # Тело цикла\n",
    "else:                     # Необязательная частьelse\n",
    "    операторы             # Выполняются, если не произведен выход из цикла с помощью break."
   ]
  },
  {
   "cell_type": "code",
   "execution_count": null,
   "metadata": {},
   "outputs": [
    {
     "name": "stdout",
     "output_type": "stream",
     "text": [
      "spam pam am m "
     ]
    }
   ],
   "source": [
    "x = 'spam'\n",
    "while x:\n",
    "    print(x, end=' ')\n",
    "    x = x[1:]"
   ]
  },
  {
   "cell_type": "code",
   "execution_count": null,
   "metadata": {},
   "outputs": [
    {
     "name": "stdout",
     "output_type": "stream",
     "text": [
      "0 1 2 3 4 5 6 7 8 9 "
     ]
    }
   ],
   "source": [
    "a = 0\n",
    "b = 10\n",
    "while a < b:\n",
    "    print(a, end=' ')\n",
    "    a += 1"
   ]
  },
  {
   "cell_type": "markdown",
   "metadata": {},
   "source": [
    "### Операторы breake, continue, pass и конструкция else цикла"
   ]
  },
  {
   "cell_type": "code",
   "execution_count": null,
   "metadata": {},
   "outputs": [],
   "source": [
    "while проверка:\n",
    "    операторы\n",
    "    if проверка: break                  # Выход из цикла с пропуском else, если есть\n",
    "    if проверка: continue               # Переход на проверку в начале цикла\n",
    "else:\n",
    "    операторы                           # Выполняется, если не было break"
   ]
  },
  {
   "cell_type": "code",
   "execution_count": null,
   "metadata": {},
   "outputs": [],
   "source": [
    "while True: pass                   # Бесконенчный цикл, который ничего не делает"
   ]
  },
  {
   "cell_type": "code",
   "execution_count": null,
   "metadata": {},
   "outputs": [],
   "source": [
    "def func1():\n",
    "    pass             # Временная заглушка для реального кода в будущем"
   ]
  },
  {
   "cell_type": "code",
   "execution_count": null,
   "metadata": {},
   "outputs": [],
   "source": [
    "def func1():\n",
    "    ...             # Временная заглушка для реального кода в будущем, альтернативный вариант"
   ]
  },
  {
   "cell_type": "code",
   "execution_count": null,
   "metadata": {},
   "outputs": [
    {
     "data": {
      "text/plain": [
       "Ellipsis"
      ]
     },
     "execution_count": 51,
     "metadata": {},
     "output_type": "execute_result"
    }
   ],
   "source": [
    "X = ...                    # Альтернатива None\n",
    "X"
   ]
  },
  {
   "cell_type": "code",
   "execution_count": null,
   "metadata": {},
   "outputs": [
    {
     "name": "stdout",
     "output_type": "stream",
     "text": [
      "8 6 4 2 0 "
     ]
    }
   ],
   "source": [
    "x = 10\n",
    "while x:\n",
    "    x -= 1\n",
    "    if x % 2 != 0: continue         # когда нечетное, то пропускаем\n",
    "    print(x, end=' ')"
   ]
  },
  {
   "cell_type": "code",
   "execution_count": null,
   "metadata": {},
   "outputs": [
    {
     "name": "stdout",
     "output_type": "stream",
     "text": [
      "8 6 4 2 0 "
     ]
    }
   ],
   "source": [
    "x = 10\n",
    "while x:\n",
    "    x = x-1\n",
    "    if x % 2 == 0:                       # Четное? Тогда вывести\n",
    "        print(x, end=' ')"
   ]
  },
  {
   "cell_type": "code",
   "execution_count": null,
   "metadata": {},
   "outputs": [
    {
     "name": "stdout",
     "output_type": "stream",
     "text": [
      "Hello bob => 4\n"
     ]
    }
   ],
   "source": [
    "while True:\n",
    "    name = input('Enter name: ')\n",
    "    if name == 'stop': break\n",
    "    age = input('Enter age: ')\n",
    "    print('Hello', name, '=>', int(age) ** 2)"
   ]
  },
  {
   "cell_type": "code",
   "execution_count": null,
   "metadata": {},
   "outputs": [
    {
     "name": "stdout",
     "output_type": "stream",
     "text": [
      "13 is prime\n"
     ]
    }
   ],
   "source": [
    "y = 13\n",
    "x = y // 2                             # деление пополам с окурглением в меньшую сторону\n",
    "while x > 1:\n",
    "    if y % x == 0:\n",
    "        print(y, 'has factor', x)\n",
    "        break\n",
    "    x -= 1\n",
    "else:                                  # Нормальный выход \n",
    "    print(y, 'is prime')      "
   ]
  },
  {
   "cell_type": "markdown",
   "metadata": {},
   "source": [
    "### Циклы for"
   ]
  },
  {
   "cell_type": "code",
   "execution_count": null,
   "metadata": {},
   "outputs": [],
   "source": [
    "for цель in объект:                    # Присваивает цели элементы объекта\n",
    "    операторы                          # Повторяемое тело цикла: использует цель\n",
    "else:                                  # Необязательная часть else\n",
    "    операторы                          # Если не встречался оператор break"
   ]
  },
  {
   "cell_type": "code",
   "execution_count": null,
   "metadata": {},
   "outputs": [
    {
     "name": "stdout",
     "output_type": "stream",
     "text": [
      "a => 1\n",
      "b => 2\n",
      "c => 3\n"
     ]
    }
   ],
   "source": [
    "D = {'a': 1, 'b': 2, 'c': 3}\n",
    "for key in D:\n",
    "    print(key, '=>', D[key])"
   ]
  },
  {
   "cell_type": "code",
   "execution_count": null,
   "metadata": {},
   "outputs": [
    {
     "data": {
      "text/plain": [
       "[('a', 1), ('b', 2), ('c', 3)]"
      ]
     },
     "execution_count": 63,
     "metadata": {},
     "output_type": "execute_result"
    }
   ],
   "source": [
    "list(D.items())"
   ]
  },
  {
   "cell_type": "code",
   "execution_count": null,
   "metadata": {},
   "outputs": [
    {
     "name": "stdout",
     "output_type": "stream",
     "text": [
      "1 2\n",
      "3 4\n",
      "5 6\n"
     ]
    }
   ],
   "source": [
    "T = [(1,2), (3,4), (5,6)]\n",
    "for both in T:\n",
    "    a,b = both\n",
    "    print(a,b)"
   ]
  },
  {
   "cell_type": "code",
   "execution_count": null,
   "metadata": {},
   "outputs": [
    {
     "name": "stdout",
     "output_type": "stream",
     "text": [
      "1 2 3\n",
      "X Y 6\n"
     ]
    }
   ],
   "source": [
    "for ((a, b), c) in [([1, 2], 3), ['XY', 6]]: print(a, b, c)"
   ]
  },
  {
   "cell_type": "code",
   "execution_count": null,
   "metadata": {},
   "outputs": [
    {
     "data": {
      "text/plain": [
       "['s', 'a', 'm']"
      ]
     },
     "execution_count": 67,
     "metadata": {},
     "output_type": "execute_result"
    }
   ],
   "source": [
    "seq1 = 'spam'\n",
    "seq2 = 'scam'\n",
    "[x for x in seq1 if x in seq2]          # Проверка сбор общих символов "
   ]
  },
  {
   "cell_type": "markdown",
   "metadata": {},
   "source": [
    "### Методики написания циклов"
   ]
  },
  {
   "cell_type": "markdown",
   "metadata": {},
   "source": [
    "#### Циклы с подсчетом: range"
   ]
  },
  {
   "cell_type": "code",
   "execution_count": null,
   "metadata": {},
   "outputs": [
    {
     "data": {
      "text/plain": [
       "([0, 1, 2, 3, 4], [2, 3, 4], [0, 2, 4, 6, 8])"
      ]
     },
     "execution_count": 1,
     "metadata": {},
     "output_type": "execute_result"
    }
   ],
   "source": [
    "list(range(5)), list(range(2, 5)), list(range(0, 10, 2))"
   ]
  },
  {
   "cell_type": "code",
   "execution_count": null,
   "metadata": {},
   "outputs": [
    {
     "data": {
      "text/plain": [
       "[-5, -4, -3, -2, -1, 0, 1, 2, 3, 4]"
      ]
     },
     "execution_count": 2,
     "metadata": {},
     "output_type": "execute_result"
    }
   ],
   "source": [
    "list(range(-5, 5))"
   ]
  },
  {
   "cell_type": "code",
   "execution_count": null,
   "metadata": {},
   "outputs": [
    {
     "data": {
      "text/plain": [
       "[5, 4, 3, 2, 1, 0, -1, -2, -3, -4]"
      ]
     },
     "execution_count": 3,
     "metadata": {},
     "output_type": "execute_result"
    }
   ],
   "source": [
    "list(range(5, -5, -1))"
   ]
  },
  {
   "cell_type": "code",
   "execution_count": null,
   "metadata": {},
   "outputs": [
    {
     "name": "stdout",
     "output_type": "stream",
     "text": [
      "0 Pythons\n",
      "1 Pythons\n",
      "2 Pythons\n"
     ]
    }
   ],
   "source": [
    "for i in range(3):\n",
    "    print(i, 'Pythons')"
   ]
  },
  {
   "cell_type": "markdown",
   "metadata": {},
   "source": [
    "#### Просмотр последовательностей: while и range или for"
   ]
  },
  {
   "cell_type": "code",
   "execution_count": null,
   "metadata": {},
   "outputs": [
    {
     "name": "stdout",
     "output_type": "stream",
     "text": [
      "s p a m "
     ]
    }
   ],
   "source": [
    "X = 'spam'\n",
    "for item in X: print(item, end= ' ')"
   ]
  },
  {
   "cell_type": "code",
   "execution_count": null,
   "metadata": {},
   "outputs": [
    {
     "name": "stdout",
     "output_type": "stream",
     "text": [
      "s p a m "
     ]
    }
   ],
   "source": [
    "i = 0\n",
    "while i < len(X):\n",
    "    print(X[i], end=' ')\n",
    "    i +=1"
   ]
  },
  {
   "cell_type": "code",
   "execution_count": null,
   "metadata": {},
   "outputs": [
    {
     "data": {
      "text/plain": [
       "4"
      ]
     },
     "execution_count": 5,
     "metadata": {},
     "output_type": "execute_result"
    }
   ],
   "source": [
    "X = 'spam'\n",
    "len(X)"
   ]
  },
  {
   "cell_type": "code",
   "execution_count": null,
   "metadata": {},
   "outputs": [
    {
     "data": {
      "text/plain": [
       "[0, 1, 2, 3]"
      ]
     },
     "execution_count": 6,
     "metadata": {},
     "output_type": "execute_result"
    }
   ],
   "source": [
    "list(range(len(X)))"
   ]
  },
  {
   "cell_type": "code",
   "execution_count": null,
   "metadata": {},
   "outputs": [
    {
     "name": "stdout",
     "output_type": "stream",
     "text": [
      "s p a m "
     ]
    }
   ],
   "source": [
    "for i in range(len(X)): print(X[i], end=' ')       # ручная итерация посредством range/len"
   ]
  },
  {
   "cell_type": "code",
   "execution_count": null,
   "metadata": {},
   "outputs": [
    {
     "name": "stdout",
     "output_type": "stream",
     "text": [
      "s p a m "
     ]
    }
   ],
   "source": [
    "for item in X: print(item, end=' ')                # по возможности применяйте простую итерацию"
   ]
  },
  {
   "cell_type": "markdown",
   "metadata": {},
   "source": [
    "#### тасование последовательностей"
   ]
  },
  {
   "cell_type": "code",
   "execution_count": null,
   "metadata": {},
   "outputs": [
    {
     "name": "stdout",
     "output_type": "stream",
     "text": [
      "pams amsp mspa spam "
     ]
    }
   ],
   "source": [
    "S = 'spam'\n",
    "for i in range(len(S)):                   # для счетчиков повторений 0..3\n",
    "    S = S[1:] + S[:1]                     # переместить начальный элемент в конец\n",
    "    print(S, end=' ')"
   ]
  },
  {
   "cell_type": "code",
   "execution_count": null,
   "metadata": {},
   "outputs": [
    {
     "name": "stdout",
     "output_type": "stream",
     "text": [
      "spam pams amsp mspa "
     ]
    }
   ],
   "source": [
    "S = 'spam'\n",
    "for i in range(len(S)):\n",
    "    X = S[i:] + S[:i]                  # другой вариант тасования. Работает на последовательности любого типа\n",
    "    print(X, end=' ')"
   ]
  },
  {
   "cell_type": "markdown",
   "metadata": {},
   "source": [
    "#### Неполный обход: range или срезы"
   ]
  },
  {
   "cell_type": "code",
   "execution_count": null,
   "metadata": {},
   "outputs": [
    {
     "name": "stdout",
     "output_type": "stream",
     "text": [
      "a c e g i k "
     ]
    }
   ],
   "source": [
    "S = 'abcdefghijk'\n",
    "for i in range(0, len(S), 2):               # Посещаем каждый второй элемент последовательности\n",
    "    print(S[i], end=' ')"
   ]
  },
  {
   "cell_type": "code",
   "execution_count": null,
   "metadata": {},
   "outputs": [
    {
     "name": "stdout",
     "output_type": "stream",
     "text": [
      "a c e g i k "
     ]
    }
   ],
   "source": [
    "S = 'abcdefghijk'\n",
    "for c in S[::2]:                            # тоже самое через нарезку со страйдом 2. Более простой вариант\n",
    "    print(c, end=' ')"
   ]
  },
  {
   "cell_type": "markdown",
   "metadata": {},
   "source": [
    "#### Изменение списков: range или включения"
   ]
  },
  {
   "cell_type": "code",
   "execution_count": null,
   "metadata": {},
   "outputs": [
    {
     "data": {
      "text/plain": [
       "[1, 2, 3, 4, 5]"
      ]
     },
     "execution_count": 21,
     "metadata": {},
     "output_type": "execute_result"
    }
   ],
   "source": [
    "L = [1, 2, 3, 4, 5]\n",
    "for x in L:\n",
    "    x += 1                             # Изменяет x, но не L\n",
    "L"
   ]
  },
  {
   "cell_type": "code",
   "execution_count": null,
   "metadata": {},
   "outputs": [
    {
     "data": {
      "text/plain": [
       "[2, 3, 4, 5, 6]"
      ]
     },
     "execution_count": 22,
     "metadata": {},
     "output_type": "execute_result"
    }
   ],
   "source": [
    "L = [1, 2, 3, 4, 5]\n",
    "for i in range(len(L)):\n",
    "    L[i] += 1                             # Изменяет L\n",
    "L"
   ]
  },
  {
   "cell_type": "code",
   "execution_count": null,
   "metadata": {},
   "outputs": [
    {
     "data": {
      "text/plain": [
       "[3, 4, 5, 6, 7]"
      ]
     },
     "execution_count": 23,
     "metadata": {},
     "output_type": "execute_result"
    }
   ],
   "source": [
    "i = 0\n",
    "while i < len(L):\n",
    "    L[i] += 1                            # тоже часое через while\n",
    "    i += 1\n",
    "L"
   ]
  },
  {
   "cell_type": "code",
   "execution_count": null,
   "metadata": {},
   "outputs": [
    {
     "data": {
      "text/plain": [
       "[4, 5, 6, 7, 8]"
      ]
     },
     "execution_count": 24,
     "metadata": {},
     "output_type": "execute_result"
    }
   ],
   "source": [
    "[x + 1 for x in L]                     # новый список"
   ]
  },
  {
   "cell_type": "markdown",
   "metadata": {},
   "source": [
    "#### Параллельные обходы: zip и map"
   ]
  },
  {
   "cell_type": "code",
   "execution_count": null,
   "metadata": {},
   "outputs": [
    {
     "data": {
      "text/plain": [
       "[(1, 5), (2, 6), (3, 7), (4, 8)]"
      ]
     },
     "execution_count": 25,
     "metadata": {},
     "output_type": "execute_result"
    }
   ],
   "source": [
    "L1 = [1, 2, 3, 4]\n",
    "L2 = [5, 6, 7, 8]\n",
    "list(zip(L1, L2))"
   ]
  },
  {
   "cell_type": "code",
   "execution_count": null,
   "metadata": {},
   "outputs": [
    {
     "name": "stdout",
     "output_type": "stream",
     "text": [
      "1 5 -- 6\n",
      "2 6 -- 8\n",
      "3 7 -- 10\n",
      "4 8 -- 12\n"
     ]
    }
   ],
   "source": [
    "for (x,y) in zip(L1, L2):\n",
    "    print(x, y, '--', x + y)"
   ]
  },
  {
   "cell_type": "code",
   "execution_count": null,
   "metadata": {},
   "outputs": [
    {
     "data": {
      "text/plain": [
       "[(1, 4, 7), (2, 5, 8), (3, 6, 9)]"
      ]
     },
     "execution_count": 27,
     "metadata": {},
     "output_type": "execute_result"
    }
   ],
   "source": [
    "T1, T2, T3 = (1, 2, 3), (4, 5, 6), (7, 8, 9)\n",
    "list(zip(T1, T2, T3))                                # три кортежа для трех элементов"
   ]
  },
  {
   "cell_type": "code",
   "execution_count": null,
   "metadata": {},
   "outputs": [],
   "source": [
    "S1 = 'abc'\n",
    "S2 = 'xyz123'\n",
    "list(zip(S1, S2))                                    # Усекает длинные строки по дллине более короткой\n",
    "[('a', 'x'), ('b', 'y'), ('c', 'z')]"
   ]
  },
  {
   "cell_type": "markdown",
   "metadata": {},
   "source": [
    "#### Создание словарей с помощью zip"
   ]
  },
  {
   "cell_type": "code",
   "execution_count": null,
   "metadata": {},
   "outputs": [
    {
     "data": {
      "text/plain": [
       "{'spam': 1, 'eggs': 3, 'toast': 5}"
      ]
     },
     "execution_count": 28,
     "metadata": {},
     "output_type": "execute_result"
    }
   ],
   "source": [
    "keys = ['spam', 'eggs', 'toast']\n",
    "vals = [1, 3, 5]\n",
    "\n",
    "D2 = {}\n",
    "for (k,v) in zip(keys, vals): D2[k] = v        # Сложный вариант\n",
    "D2"
   ]
  },
  {
   "cell_type": "code",
   "execution_count": null,
   "metadata": {},
   "outputs": [
    {
     "data": {
      "text/plain": [
       "{'spam': 1, 'eggs': 3, 'toast': 5}"
      ]
     },
     "execution_count": 29,
     "metadata": {},
     "output_type": "execute_result"
    }
   ],
   "source": [
    "D3 = dict(zip(keys, vals))                      # простой вариант\n",
    "D3"
   ]
  },
  {
   "cell_type": "code",
   "execution_count": null,
   "metadata": {},
   "outputs": [
    {
     "data": {
      "text/plain": [
       "{'spam': 1, 'eggs': 3, 'toast': 5}"
      ]
     },
     "execution_count": 30,
     "metadata": {},
     "output_type": "execute_result"
    }
   ],
   "source": [
    "{k: v for (k, v) in zip(keys, vals)}            # построение с помощью включения словаря"
   ]
  },
  {
   "cell_type": "markdown",
   "metadata": {},
   "source": [
    "#### Генерация смещений и элементов: enumerate"
   ]
  },
  {
   "cell_type": "code",
   "execution_count": null,
   "metadata": {},
   "outputs": [
    {
     "name": "stdout",
     "output_type": "stream",
     "text": [
      "s appears at offset 0\n",
      "p appears at offset 1\n",
      "a appears at offset 2\n",
      "m appears at offset 3\n"
     ]
    }
   ],
   "source": [
    "S = 'spam'\n",
    "offset = 0\n",
    "for item in S:\n",
    "    print(item, 'appears at offset', offset)\n",
    "    offset += 1"
   ]
  },
  {
   "cell_type": "code",
   "execution_count": null,
   "metadata": {},
   "outputs": [
    {
     "name": "stdout",
     "output_type": "stream",
     "text": [
      "s appears at offset 0\n",
      "p appears at offset 1\n",
      "a appears at offset 2\n",
      "m appears at offset 3\n"
     ]
    }
   ],
   "source": [
    "S = 'spam'\n",
    "for (offset, item) in enumerate(S):\n",
    "    print(item, 'appears at offset', offset)            # Вывод элемента и смещения используя enumerate"
   ]
  },
  {
   "cell_type": "code",
   "execution_count": null,
   "metadata": {},
   "outputs": [
    {
     "data": {
      "text/plain": [
       "<enumerate at 0x1ded8fc8180>"
      ]
     },
     "execution_count": 43,
     "metadata": {},
     "output_type": "execute_result"
    }
   ],
   "source": [
    "E = enumerate(S)\n",
    "E"
   ]
  },
  {
   "cell_type": "code",
   "execution_count": null,
   "metadata": {},
   "outputs": [
    {
     "data": {
      "text/plain": [
       "(0, 's')"
      ]
     },
     "execution_count": 44,
     "metadata": {},
     "output_type": "execute_result"
    }
   ],
   "source": [
    "next(E)"
   ]
  },
  {
   "cell_type": "code",
   "execution_count": null,
   "metadata": {},
   "outputs": [
    {
     "data": {
      "text/plain": [
       "['', 'p', 'aa', 'mmm']"
      ]
     },
     "execution_count": 45,
     "metadata": {},
     "output_type": "execute_result"
    }
   ],
   "source": [
    "[c * i for (i, c) in enumerate(S)]"
   ]
  },
  {
   "cell_type": "code",
   "execution_count": null,
   "metadata": {},
   "outputs": [
    {
     "name": "stdout",
     "output_type": "stream",
     "text": [
      "0) aaa\n",
      "1) bbb\n",
      "2) ccc\n"
     ]
    }
   ],
   "source": [
    "for (i, l) in enumerate(open('test.txt')):\n",
    "    print('%s) %s' % (i, l.rstrip()))"
   ]
  },
  {
   "cell_type": "markdown",
   "metadata": {},
   "source": [
    "#### Что потребует внимания: команды оболочки и другое"
   ]
  },
  {
   "cell_type": "code",
   "execution_count": null,
   "metadata": {},
   "outputs": [
    {
     "data": {
      "text/plain": [
       "' Том в устройстве C не имеет метки.\\n'"
      ]
     },
     "execution_count": 72,
     "metadata": {},
     "output_type": "execute_result"
    }
   ],
   "source": [
    "# Вывод строка за строкой\n",
    "import os\n",
    "F = os.popen('dir')\n",
    "F.readline().encode('cp1251').decode('cp866')  # Консоль Windows по умолчанию работает в кодировке cp866, а os.popen вывод консоли декодирует кодировкой cp1251."
   ]
  },
  {
   "cell_type": "code",
   "execution_count": null,
   "metadata": {},
   "outputs": [
    {
     "data": {
      "text/plain": [
       "' Том в устройстве C не имеет метки.\\n Серийный номер тома: CC19-873B\\n\\n Содержимое папки c:\\\\Users\\\\k-pro\\\\OneDrive\\\\Desktop\\\\k-project\\n\\n11.12.2023  16:21    <DIR>          .\\n16.11.2023  14:22    <DIR>          ..\\n16.11.2023  15:20    <DIR>          .venv\\n30.11.2023  21:30                10 data.bin\\n06.12.2023  16:13                22 data.txt\\n10.12.2023  02:40             9\\xa0190 leet_code_problems.ipynb\\n07.12.2023  13:16                 7 log.txt\\n11.12.2023  17:19           190\\xa0109 LutzM.ipynb\\n21.11.20'"
      ]
     },
     "execution_count": 71,
     "metadata": {},
     "output_type": "execute_result"
    }
   ],
   "source": [
    "#  Чтение блоками заданного размера\n",
    "F = os.popen('dir')\n",
    "F.read(500).encode('cp1251').decode('cp866')   # Консоль Windows по умолчанию работает в кодировке cp866, а os.popen вывод консоли декодирует кодировкой cp1251.\n",
    "                                               # вариант решения - закодировать обратно кодировкой cp1251, потом декодировать кодировкой cp866:"
   ]
  },
  {
   "cell_type": "code",
   "execution_count": null,
   "metadata": {},
   "outputs": [
    {
     "data": {
      "text/plain": [
       "' Том в устройстве C не имеет метки.\\n'"
      ]
     },
     "execution_count": 75,
     "metadata": {},
     "output_type": "execute_result"
    }
   ],
   "source": [
    "os.popen('dir').readlines()[0].encode('cp1251').decode('cp866')    # Чтение всех строк: индексация"
   ]
  },
  {
   "cell_type": "code",
   "execution_count": null,
   "metadata": {},
   "outputs": [
    {
     "data": {
      "text/plain": [
       "' Том в устройстве C не имеет метки.\\n Серийный номе'"
      ]
     },
     "execution_count": 79,
     "metadata": {},
     "output_type": "execute_result"
    }
   ],
   "source": [
    "os.popen('dir').read()[:50].encode('cp1251').decode('cp866')                   # чтение всего сразу: срез"
   ]
  },
  {
   "cell_type": "code",
   "execution_count": null,
   "metadata": {},
   "outputs": [
    {
     "name": "stdout",
     "output_type": "stream",
     "text": [
      " Том в устройстве C не имеет метки.\n",
      " Серийный номер тома: CC19-873B\n",
      "\n",
      " Содержимое папки c:\\Users\\k-pro\\OneDrive\\Desktop\\k-project\n",
      "\n",
      "11.12.2023  16:21    <DIR>          .\n",
      "16.11.2023  14:22    <DIR>          ..\n",
      "16.11.2023  15:20    <DIR>          .venv\n",
      "30.11.2023  21:30                10 data.bin\n",
      "06.12.2023  16:13                22 data.txt\n",
      "10.12.2023  02:40             9 190 leet_code_problems.ipynb\n",
      "07.12.2023  13:16                 7 log.txt\n",
      "11.12.2023  22:09           190 757 LutzM.ipynb\n",
      "21.11.2023  16:51           759 893 matplotlib.ipynb\n",
      "22.11.2023  11:42               427 neyron.ipynb\n",
      "22.11.2023  11:21                95 README.md\n",
      "07.12.2023  13:28                 5 temp1\n",
      "07.12.2023  13:29                 5 temp2\n",
      "11.12.2023  16:21                13 test.txt\n",
      "30.11.2023  21:35                 5 unidata.txt\n",
      "              12 файлов        960 429 байт\n",
      "               3 папок  650 676 162 560 байт свободно\n"
     ]
    }
   ],
   "source": [
    "for line in os.popen('dir'):\n",
    "    print(line.encode('cp1251').decode('cp866').rstrip())      # цикл с фаловым итератором строк"
   ]
  },
  {
   "cell_type": "code",
   "execution_count": null,
   "metadata": {},
   "outputs": [
    {
     "data": {
      "text/plain": [
       "0"
      ]
     },
     "execution_count": 87,
     "metadata": {},
     "output_type": "execute_result"
    }
   ],
   "source": [
    "os.system('systeminfo')                      # запускаем команду командной оболочки"
   ]
  },
  {
   "cell_type": "code",
   "execution_count": null,
   "metadata": {},
   "outputs": [
    {
     "name": "stdout",
     "output_type": "stream",
     "text": [
      "\n",
      "Имя узла:                         XAN\n",
      "Название ОС:                      Майкрософт Windows 11 Домашняя\n",
      "Версия ОС:                        10.0.22621 Н/Д построение 22621\n",
      "Изготовитель ОС:                  Microsoft Corporation\n",
      "Параметры ОС:                     Изолированная рабочая станция\n",
      "Сборка ОС:                        Multiprocessor Free\n",
      "Зарегистрированный владелец:      k-project@mail.ru\n",
      "Зарегистрированная организация:   Н/Д\n",
      "Код продукта:                     00326-10000-00000-AA952\n",
      "Дата установки:                   26.04.2023, 12:27:12\n",
      "Время загрузки системы:           10.12.2023, 2:47:10\n",
      "Изготовитель системы:             LENOVO\n",
      "Модель системы:                   21AHCTO1WW\n",
      "Тип системы:                      x64-based PC\n",
      "Процессор(ы):                     Число процессоров - 1.\n",
      "                                  [01]: Intel64 Family 6 Model 154 Stepping 3 GenuineIntel ~1457 МГц\n",
      "Версия BIOS:                      LENOVO N3BET56W (1.34 ), 27.04.2023\n",
      "Папка Windows:                    C:\\WINDOWS\n",
      "Системная папка:                  C:\\WINDOWS\\system32\n",
      "Устройство загрузки:              \\Device\\HarddiskVolume1\n",
      "Язык системы:                     ru;Русский\n",
      "Язык ввода:                       ru;Русский\n",
      "Часовой пояс:                     (UTC+03:00) Москва, Санкт-Петербург\n",
      "Полный объем физической памяти:   32 475 МБ\n",
      "Доступная физическая память:      18 713 МБ\n",
      "Виртуальная память: Макс. размер: 34 523 МБ\n",
      "Виртуальная память: Доступна:     15 453 МБ\n",
      "Виртуальная память: Используется: 19 070 МБ\n",
      "Расположение файла подкачки:      C:\\pagefile.sys\n",
      "Домен:                            WORKGROUP\n",
      "Сервер входа в сеть:              \\\\XAN\n",
      "Исправление(я):                   Число установленных исправлений - 5.\n",
      "                                  [01]: KB5032007\n",
      "                                  [02]: KB5012170\n",
      "                                  [03]: KB5026039\n",
      "                                  [04]: KB5032190\n",
      "                                  [05]: KB5032393\n",
      "Сетевые адаптеры:                 Число сетевых адаптеров - 4.\n",
      "                                  [01]: Generic Mobile Broadband Adapter\n",
      "                                        Имя подключения: Сеть мобильной связи\n",
      "                                        Состояние:       Носитель отключен\n",
      "                                  [02]: Intel(R) Ethernet Connection (16) I219-V\n",
      "                                        Имя подключения: Ethernet\n",
      "                                        Состояние:       Носитель отключен\n",
      "                                  [03]: Intel(R) Wi-Fi 6E AX211 160MHz\n",
      "                                        Имя подключения: Беспроводная сеть\n",
      "                                        DHCP включен:    Да\n",
      "                                        DHCP-сервер:     192.168.100.1\n",
      "                                        IP-адрес\n",
      "                                        [01]: 192.168.100.23\n",
      "                                        [02]: fe80::6c7e:c687:a33c:b937\n",
      "                                  [04]: Bluetooth Device (Personal Area Network)\n",
      "                                        Имя подключения: Сетевое подключение Bluetooth\n",
      "                                        Состояние:       Носитель отключен\n",
      "Требования Hyper-V:               Расширения режима мониторинга виртуальной машины: Да\n",
      "                                  Виртуализация включена во встроенном ПО: Нет\n",
      "                                  Преобразование адресов второго уровня: Да\n",
      "                                  Доступно предотвращение выполнения данных: Да\n"
     ]
    }
   ],
   "source": [
    "for line in os.popen('systeminfo'): print(line.encode('cp1251').decode('cp866').rstrip())    "
   ]
  },
  {
   "cell_type": "code",
   "execution_count": null,
   "metadata": {},
   "outputs": [
    {
     "name": "stdout",
     "output_type": "stream",
     "text": [
      "00000) \n",
      "00001) Имя узла:                         XAN\n",
      "00002) Название ОС:                      Майкрософт Windows 11 Домашняя\n",
      "00003) Версия ОС:                        10.0.22621 Н/Д построение 22621\n"
     ]
    }
   ],
   "source": [
    "for (i, line) in enumerate(os.popen('systeminfo')):\n",
    "    if i == 4: break\n",
    "    print('%05d) %s' % (i, line.rstrip().encode('cp1251').decode('cp866')))               # форматирование, ограниченное отображение"
   ]
  },
  {
   "cell_type": "code",
   "execution_count": null,
   "metadata": {},
   "outputs": [
    {
     "name": "stdout",
     "output_type": "stream",
     "text": [
      "x64-based PC\n"
     ]
    }
   ],
   "source": [
    "# Разбор для специфичесских строк, нейтральный к регистру символов\n",
    "for line in os.popen('systeminfo'):\n",
    "    parts = line.encode('cp1251').decode('cp866').split(':')\n",
    "    if parts and parts[0].lower() == 'тип системы':\n",
    "        print(parts[1].strip())"
   ]
  },
  {
   "cell_type": "code",
   "execution_count": null,
   "metadata": {},
   "outputs": [],
   "source": [
    "def awker (file, col):\n",
    "    return [line.rstrip().split()[col - 1] for line in open(file)]          # Извлечение 7-го столбуа из файла с разделителями - пробелами\n",
    "\n",
    "print (awker('input.txt', 7))                        # список строк\n",
    "print(','.join(awker('input.txt', 7)))               # поместить запятые между строками"
   ]
  },
  {
   "cell_type": "code",
   "execution_count": null,
   "metadata": {},
   "outputs": [
    {
     "name": "stdout",
     "output_type": "stream",
     "text": [
      "1,2,3,4\n"
     ]
    }
   ],
   "source": [
    "spisok = ['1', '2', '3', '4']\n",
    "print(','.join(spisok))"
   ]
  },
  {
   "cell_type": "code",
   "execution_count": null,
   "metadata": {},
   "outputs": [
    {
     "name": "stdout",
     "output_type": "stream",
     "text": [
      "b'<!DOCTYPE HTML PUBLIC \"-//W3C//DTD HTML 4.01 Transitional//EN\" \"http://www.w3.org/TR/html4/loose.dtd\">\\n'\n",
      "b'\\n'\n",
      "b'<!--GENHTML INSERT ^^ ================================================================-->\\n'\n",
      "b'<!--\\n'\n",
      "b'12/15: Add a doctype spec on line 1 so IE does fixed footer positioning at bottom.\\n'\n",
      "b'But use HTML 4 (not 5) spec, so images in tables look as they did with no doctype.\\n'\n",
      "b'Makes some things render diff (e.g, tables at top, and having hdrs), but no worse.\\n'\n",
      "b'More details: https://en.wikipedia.org/wiki/Quirks_mode#Comparison_of_document_types.\\n'\n",
      "b'-->\\n'\n",
      "b'<!--END INSERT========================================================================-->\\n'\n",
      "b'\\n'\n",
      "b'\\n'\n",
      "b'<HTML>\\n'\n",
      "b'\\n'\n",
      "b'<HEAD>\\n'\n",
      "b'\\n'\n",
      "b'<!--GENHTML INSERT====================================================================-->\\n'\n",
      "b'\\n'\n",
      "b'<meta http-equiv=\"Content-Type\" content=\"text/html; charset=UTF-8\">\\n'\n",
      "b'\\n'\n",
      "b'<!--\\n'\n",
      "b'For this file only: UTF-8 Unicode encoding, for non-ASCII or non-English characters.\\n'\n",
      "b'If omitted, browsers may guess, but often fall back on US-ASCII or user settings.\\n'\n",
      "b'Update Dec-2018: move the <meta> encoding declaration above this comment, and \\n'\n",
      "b'the _META_ genhtml tag to the top of <head> if needed, so <meta> is in the first \\n'\n",
      "b'1024 bytes of the file per HTML5 standard.  Nonconforming pages work fine in all \\n'\n",
      "b'20+ browsers tested, though Firefox issues a warning in its web console, and some\\n'\n",
      "b'may restart the page parse - a minor performance penalty.  Not an issue in thumbspage \\n'\n",
      "b\"output, app user guides, showcode pages, or unzipped programs' Apache index pages. \\n\"\n",
      "b'-->\\n'\n",
      "b'<!--END INSERT========================================================================-->\\n'\n",
      "b'\\n'\n",
      "b'\\n'\n",
      "b'<!--GENHTML INSERT====================================================================-->\\n'\n",
      "b'<!--\\n'\n",
      "b\"Recoded Aug-18 to use relative path, after broken by https:// conversion: can't mix \\n\"\n",
      "b'http:// page resources (see .htaccess note).  This required regenerating and uploading \\n'\n",
      "b'all .html files, but not hundreds of manual page edits - genhtml works!  Formerly \\n'\n",
      "b'used ICON-DEFAULT, which has now-dated docs on icon links and filetypes in general.\\n'\n",
      "b'An icon file in the root folder suffices on some (but not all) web servers.\\n'\n",
      "b'-->\\n'\n",
      "b'\\n'\n",
      "b'<link rel=\"shortcut icon\" type=\"image/x-icon\" href=\"favicon.ico\" />\\n'\n",
      "b'\\n'\n",
      "b'<!--END INSERT========================================================================-->\\n'\n",
      "b'\\n'\n",
      "b'\\n'\n",
      "b'<!--GENHTML INSERT====================================================================-->\\n'\n",
      "b'<!--\\n'\n",
      "b'7/6/14: Google Analytics JavaScript (JS) code in <HEAD> (normally) - in two flavors.\\n'\n",
      "b'Used only to prioritize high-traffic pages for dev work, iff JS and tracker enabled. \\n'\n",
      "b'\\n'\n",
      "b\"The former/defunct training site's id: ga('create', 'UA-52578333-1', 'auto').\\n\"\n",
      "b\"The book site's id, now used for all:  ga('create', 'UA-52579036-1', 'auto').\\n\"\n",
      "b'JS is also used if enabled for thumbspage galleries, Top buttons, TOCs, etc.\\n'\n",
      "b'\\n'\n",
      "b'Jun-2019: tell Google Analytics to anonymize IP address on receipt for privacy.\\n'\n",
      "b'More: https://developers.google.com/analytics/devguides/collection/analyticsjs/.\\n'\n",
      "b'\\n'\n",
      "b'Oct-2022: install a GA4 tag (i.e., script) alongside the prior UA tag.  UA tags\\n'\n",
      "b\"will stop collecting data in 2023.  It's okay to use both until the cutover (and\\n\"\n",
      "b'Google advises doing so), but the UA tag will be pointless after that and should\\n'\n",
      "b'be removed.  This handles genhtml-insert clients; others get tags by running\\n'\n",
      "b'insert-analytics.py in package-publishing scripts.  Also per Google: \"In Google \\n'\n",
      "b'Analytics 4, IP anonymization is not necessary since IP addresses are not logged\\n'\n",
      "b'or stored\".  Let\\'s hope so... -->\\n'\n",
      "b'\\n'\n",
      "b'\\n'\n",
      "b'<!-- 1) Universal Analytics tag (custom): stops collecting data on Jul-1-2023 -->\\n'\n",
      "b'\\n'\n",
      "b'<SCRIPT>\\n'\n",
      "b'  // Start async JS-file fetch, if not already cached\\n'\n",
      "b'\\n'\n",
      "b\"  (function(i,s,o,g,r,a,m){i['GoogleAnalyticsObject']=r;i[r]=i[r]||function(){\\n\"\n",
      "b'  (i[r].q=i[r].q||[]).push(arguments)},i[r].l=1*new Date();a=s.createElement(o),\\n'\n",
      "b'  m=s.getElementsByTagName(o)[0];a.async=1;a.src=g;m.parentNode.insertBefore(a,m)\\n'\n",
      "b\"  })(window,document,'script','//www.google-analytics.com/analytics.js','ga');\\n\"\n",
      "b'\\n'\n",
      "b'  // Queue actions to run in order after async JS-file fetch finished\\n'\n",
      "b'\\n'\n",
      "b\"  ga('create', 'UA-52579036-1', 'auto');       // Create tracker object (and queue)\\n\"\n",
      "b\"  ga('set', 'anonymizeIp', true);              // Anonymize IP addr (&aip) [Jun-2019]\\n\"\n",
      "b\"  ga('send', 'pageview');                      // Send page-view event now \\n\"\n",
      "b'</SCRIPT>\\n'\n",
      "b'\\n'\n",
      "b'\\n'\n",
      "b'<!-- 2) Google Analytics 4 tag: added to site Oct-2022 (okay to keep UA tag) -->\\n'\n",
      "b'\\n'\n",
      "b'<!-- Google tag (gtag.js) -->\\n'\n",
      "b'<script async src=\"https://www.googletagmanager.com/gtag/js?id=G-J8CTEZHX3L\"></script>\\n'\n",
      "b'<script>\\n'\n",
      "b'  window.dataLayer = window.dataLayer || [];\\n'\n",
      "b'  function gtag(){dataLayer.push(arguments);}\\n'\n",
      "b\"  gtag('js', new Date());\\n\"\n",
      "b'\\n'\n",
      "b\"  gtag('config', 'G-J8CTEZHX3L');\\n\"\n",
      "b'</script>\\n'\n",
      "b'\\n'\n",
      "b'<!--END INSERT========================================================================-->\\n'\n",
      "b'\\n'\n",
      "b'\\n'\n",
      "b'<!--GENHTML INSERT====================================================================-->\\n'\n",
      "b'<!--this insert serves *TWO* purposes: stylesheet and mobile viewport-->\\n'\n",
      "b'\\n'\n",
      "b'<!--\\n'\n",
      "b'Nov-15: CSS file, code in <HEAD>, for fonts, borders, navbars, code, etc.\\n'\n",
      "b'This could also use an in-page <STYLE> sheet, as genhtml pastes any text.\\n'\n",
      "b'-->\\n'\n",
      "b'\\n'\n",
      "b'<link rel=\"stylesheet\" type=\"text/css\" href=\"_main.css\">\\n'\n",
      "b'\\n'\n",
      "b'<!--\\n'\n",
      "b\"Feb-18: Add a mobile-friendly viewport tag to every page's HEAD.\\n\"\n",
      "b'Fits content to device width, no zoom (user may), impacts MANY formats.\\n'\n",
      "b'Extend STYLE instead of adding a new insert to avoid all-page updates.\\n'\n",
      "b'Mobile support required other redesign: toolbar, code blocks, images,... \\n'\n",
      "b'-->\\n'\n",
      "b' \\n'\n",
      "b'<meta name=\"viewport\" content=\"width=device-width, initial-scale=1.0\">\\n'\n",
      "b'\\n'\n",
      "b'<!--END INSERT========================================================================-->\\n'\n",
      "b'\\n'\n",
      "b'\\n'\n",
      "b'<STYLE>\\n'\n",
      "b'    \\n'\n",
      "b'/*------------------------------------------------------------------------------------\\n'\n",
      "b'BANNER FONT - punt here: too jarring to go to subpages with larger title font;\\n'\n",
      "b'see also similar site-wide option in _main.css (not used), and training-main.css;\\n'\n",
      "b'\\n'\n",
      "b'H1 {                         \\n'\n",
      "b'    font-size: 125%;                * 0..360; alt: vw size specs, but not in all wb *\\n'\n",
      "b'}\\n'\n",
      "b'\\n'\n",
      "b'@media screen and (min-width: 361px) {\\n'\n",
      "b'H1 {                         \\n'\n",
      "b'    font-size: 160%;                * 361..480 *\\n'\n",
      "b'}\\n'\n",
      "b'}\\n'\n",
      "b'\\n'\n",
      "b'@media screen and (min-width: 481px) {\\n'\n",
      "b'H1 {                         \\n'\n",
      "b'    font-size: 200%;                * 481+ (seems 200%) *\\n'\n",
      "b'}\\n'\n",
      "b'}\\n'\n",
      "b'--------------------------------------------------------------------------------------*/\\n'\n",
      "b'\\n'\n",
      "b'</STYLE>\\n'\n",
      "b'\\n'\n",
      "b'\\n'\n",
      "b'\\n'\n",
      "b'<!-- NOT full page, post fixed toolbar, border via .css: should match book-links page -->\\n'\n",
      "b'<!-- <BODY BGCOLOR=white> -->\\n'\n",
      "b'\\n'\n",
      "b'<STYLE>\\n'\n",
      "b'\\n'\n",
      "b'/*------------------------------------------------------------------------------------ \\n'\n",
      "b'Feb-2021: try a dark-mode experiment, this page only (little text here - only);\\n'\n",
      "b\"really requires a fuller redesign, and this won't match any other pages on the site,\\n\"\n",
      "b'but the white on most of this page is starting to seem jarring on dark macos/phones... \\n'\n",
      "b'Tries: 000000=black, 202020=darkgrey, 202024=bluetint, 272727=lighter, FFFFFF=white.\\n'\n",
      "b'Nov21: redesigned here, and books-index page now uses the same background colors.\\n'\n",
      "b'--------------------------------------------------------------------------------------*/\\n'\n",
      "b'\\n'\n",
      "b'/* default: light, no preference, or not supported by device|browser */\\n'\n",
      "b'BODY {\\n'\n",
      "b'    background-color: white;           /* original => replaced */\\n'\n",
      "b'}\\n'\n",
      "b'\\n'\n",
      "b'/* default: drop white everywhere: light grey is better, use it even for light mode */\\n'\n",
      "b'BODY {\\n'\n",
      "b'    background-color: #C0C0C0;         /* theme=light|none: light grey */\\n'\n",
      "b'}\\n'\n",
      "b'\\n'\n",
      "b'\\n'\n",
      "b'/* dark mode set on device running the browser (else light grey) */\\n'\n",
      "b'@media (prefers-color-scheme: dark) { \\n'\n",
      "b'    BODY {\\n'\n",
      "b'        background-color: #808080;     /* theme=dark: slightly darker gray */\\n'\n",
      "b'    }\\n'\n",
      "b'}\\n'\n",
      "b'\\n'\n",
      "b'\\n'\n",
      "b'/* Nov21: on second thought, use dark theme always - too hard to design for both */\\n'\n",
      "b'BODY {\\n'\n",
      "b'    background-color: #808080;         /* always dark now */\\n'\n",
      "b'}\\n'\n",
      "b'\\n'\n",
      "b'\\n'\n",
      "b'/*------------------------------------------------------------------------------------*/\\n'\n",
      "b'\\n'\n",
      "b'</STYLE>\\n'\n",
      "b'\\n'\n",
      "b'\\n'\n",
      "b'\\n'\n",
      "b\"<TITLE>Mark Lutz's Books, Software, Etc.</TITLE>\\n\"\n",
      "b'\\n'\n",
      "b'</HEAD>\\n'\n",
      "b'\\n'\n",
      "b'<BODY>    <!-- color from element style above -->\\n'\n",
      "b'\\n'\n",
      "b'<P>\\n'\n",
      "b'\\n'\n",
      "b'\\n'\n",
      "b'\\n'\n",
      "b'\\n'\n",
      "b'<!-- START COPY: same in index.html/index-book-links.html (copy from/to) -->\\n'\n",
      "b\"<!-- CAUTION: the 'card' now differs in index/books: index sets a max-width -->\\n\"\n",
      "b'\\n'\n",
      "b'<!--\\n'\n",
      "b'Aug-2020: Add a border around the colored content section, else it can seem as if \\n'\n",
      "b\"part of the page is missing.  This achieves the 'index card' metaphor better.  Uses \\n\"\n",
      "b\"'1px' instead of 'thin' - Chrome's vanishing hr/img issue doesn't happen here, '1px'\\n\"\n",
      "b\"is 'thin' on desktop, and 'thin' is too thin to match the toolbar's border on mobile. \\n\"\n",
      "b'\\n'\n",
      "b'This costs 2px, which may matter on very small mobiles, but okay on 4\" ipod tested.\\n'\n",
      "b\"Also tried lighter 'ivory' instead of 'cornsilk', but too cold on most displays.\\n\"\n",
      "b'\\n'\n",
      "b\"  Update: changed whole card to 'ivory; in aug-2021, here and on book-links page;\\n\"\n",
      "b\"  'cornsilk' is too saturated and yellow-y on some displays (only).  A different\\n\"\n",
      "b'  theme altogether would be better, but color is very hard to do portably. \\n'\n",
      "b'\\n'\n",
      "b'Opted to also use a border in index-book-links, though iffy: it has more page content,\\n'\n",
      "b\"and (like other pages) doesn't use borders otherwise.  Really, that page should \\n\"\n",
      "b'probably imitate blog/programs/etc layout, but want to keep top book-link images. \\n'\n",
      "b'-->\\n'\n",
      "b'\\n'\n",
      "b'\\n'\n",
      "b'<!-- \\n'\n",
      "b'Aug-2020: use media queries to downsize book-link images on smaller viewports to \\n'\n",
      "b'avoid some horizontal scrolling on small 4\" devices set to use larger iOS 13 page \\n'\n",
      "b\"zooms.  This isn't ideal (% continuous responsive and non-<table> layouts may be \\n\"\n",
      "b'better), but a rewrite to emulate the table-based layout here with <div>s failed \\n'\n",
      "b'to match the original appearance - and required scrolls anyhow.  More in _main.css.\\n'\n",
      "b'-->\\n'\n",
      "b'\\n'\n",
      "b'\\n'\n",
      "b'<STYLE>\\n'\n",
      "b'/*------------------------------------------------------------\\n'\n",
      "b'  ==> TEMP REDUNDANT COPY FOR CACHES: DELETE ME SOON <==\\n'\n",
      "b'\\n'\n",
      "b'Aug-2020: apply viewport clicks to _image_, not table cell.\\n'\n",
      "b'Should ideally use % continuous to a minimum/maximum (and \\n'\n",
      "b'the layout should use float <div>s instead of <table>s), but \\n'\n",
      "b\"recreating the original layout with that scheme didn't quite \\n\"\n",
      "b'match, and still required scrolling on small iOS devices.\\n'\n",
      "b'\\n'\n",
      "b'NOTE: this code is copied to index.html + index-book-links.html\\n'\n",
      "b'manually and temporarily, to avoid issues with browsers caching\\n'\n",
      "b'the prior version of _main.css - in which the lack of this code\\n'\n",
      "b'renders images huge!  DELETE the temp copies after a reasonable\\n'\n",
      "b\"time to allow caches to catch up with that file's new version.\\n\"\n",
      "b'Alt: append a query arg to file URL, but this disables caching.\\n'\n",
      "b'--------------------------------------------------------------*/\\n'\n",
      "b'\\n'\n",
      "b'/* TRIMMED AND DISABLED, NOV21\\n'\n",
      "b'.bookiconimg {}\\n'\n",
      "b'.bookiconimgtall {}\\n'\n",
      "b'*/\\n'\n",
      "b'\\n'\n",
      "b'\\n'\n",
      "b'/*------------------------------------------------------------\\n'\n",
      "b'  ==> TEMP REDUNDANT COPY FOR CACHES: DELETE ME SOON <==\\n'\n",
      "b'\\n'\n",
      "b'Exact same issue as above, this time for new p-p-u-s app icon:\\n'\n",
      "b'it renders huge if _main.css cached, because class undefined...\\n'\n",
      "b'--------------------------------------------------------------*/\\n'\n",
      "b'\\n'\n",
      "b'.bookiconimgsquare {                      /* jul23: for p-p-u-s non-book icon */\\n'\n",
      "b'    width:  54px;                         /* failed: style=\"height: 95%; width: 95%;\" */\\n'\n",
      "b'    height: 54px;\\n'\n",
      "b'}\\n'\n",
      "b'\\n'\n",
      "b'@media screen and (min-width: 320px) {    /* 320..359, 4\" ipod touch, 4\" se/5, 4.X\" lumia */\\n'\n",
      "b'.bookiconimgsquare {                      /* jul23: for p-p-u-s non-book icon */\\n'\n",
      "b'    width:  61px;\\n'\n",
      "b'    height: 61px;\\n'\n",
      "b'}\\n'\n",
      "b'}\\n'\n",
      "b'\\n'\n",
      "b'@media screen and (min-width: 360px) {    /* 360+: 4.7\" 2020 se; s8/9, note 10/20, fold */\\n'\n",
      "b'.bookiconimgsquare {                      /* jul23: for p-p-u-s non-book icon */\\n'\n",
      "b'    width:  72px;\\n'\n",
      "b'    height: 72px;\\n'\n",
      "b'}\\n'\n",
      "b'}\\n'\n",
      "b'\\n'\n",
      "b'\\n'\n",
      "b'</STYLE>\\n'\n",
      "b'\\n'\n",
      "b'\\n'\n",
      "b'\\n'\n",
      "b'\\n'\n",
      "b\"<!-- WHOLE 'card': one row =========================================================== -->\\n\"\n",
      "b'\\n'\n",
      "b'<!-- oct22: add a max-width to trim the empty space on the right in wider windows;\\n'\n",
      "b'     at high zooms this is irrelevant, but the empty space otherwise seemed odd; \\n'\n",
      "b\"     this also differs from the books index page, but the two pages' roles differ:\\n\"\n",
      "b'     the books page has content, but index is just a minimal root launcher page; \\n'\n",
      "b\"     note that can't drop widths and use padding-right: this impacts narrow mobile; -->\\n\"\n",
      "b'\\n'\n",
      "b'<!-- not css: copied -->\\n'\n",
      "b'\\n'\n",
      "b'<!-- apr23 recolor: PASS\\n'\n",
      "b'this (was black on ivory) + style=\"color:white\" on \"website\" link\\n'\n",
      "b'<style>body {color: white;}</style>\\n'\n",
      "b'<TABLE bgcolor=\"#173d3f\" \\n'\n",
      "b'-->\\n'\n",
      "b'\\n'\n",
      "b'<TABLE bgcolor=ivory \\n'\n",
      "b'       style=\"border: 1px solid black; border-radius: 6px; width: 100%; max-width: 750px;\">\\n'\n",
      "b'<tr>\\n'\n",
      "b'\\n'\n",
      "b'\\n'\n",
      "b'\\n'\n",
      "b'\\n'\n",
      "b'<!-- LEFT panel: one column ===========================================================-->\\n'\n",
      "b'\\n'\n",
      "b'<!-- width=50 or the style is required to set a max size on expansion (oddly) -->\\n'\n",
      "b'<TD valign=top bgcolor=tan style=\"width: 50px; border-radius: 6px;\">\\n'\n",
      "b'\\n'\n",
      "b'\\n'\n",
      "b'<!-- nested table for book icons -->\\n'\n",
      "b'\\n'\n",
      "b'<TABLE border=0 class=bookicons>           <!-- feb18: use higher res images here too -->\\n'\n",
      "b'                                           <!-- dec18: use css borders so ok in chrome at low zoom -->\\n'\n",
      "b'<tr><td style=\"padding-bottom: 8px;\">      <!-- aug20: use media queries to shrink imgs on small viewports -->\\n'\n",
      "b'  <A HREF=\"about-lp.html\">    \\n'\n",
      "b'  <IMG SRC=\"lp5e-large.jpg\" ALIGN=left \\n'\n",
      "b'       ALT=\"[Learning Python]\" TITLE=\"Learning Python: the classic language tutorial\" \\n'\n",
      "b'       class=\"borderedimg bookiconimg\"></A>          <!--was duller ora-lp5e-tiny.jpg-->\\n'\n",
      "b'\\n'\n",
      "b'<tr><td style=\"padding-bottom: 8px;\">\\n'\n",
      "b'  <A HREF=\"about-pp.html\">    \\n'\n",
      "b'  <IMG SRC=\"ora-pp4e-large.jpg\" ALIGN=left \\n'\n",
      "b'       ALT=\"[Programming Python]\" TITLE=\"Programming Python: an iconic applications tutorial\"\\n'\n",
      "b'       class=\"borderedimg bookiconimg\"></A>         <!--was duller ora-pp4e-tiny.jpg-->\\n'\n",
      "b'\\n'\n",
      "b'<tr><td style=\"padding-bottom: 8px;\">\\n'\n",
      "b'  <A HREF=\"about-pyref.html\"> \\n'\n",
      "b'  <IMG SRC=\"ora-pyref5e-big.jpg\" ALIGN=left \\n'\n",
      "b'       ALT=\"[Python Pocket Reference]\" TITLE=\"Python Pocket Reference: just the facts\"\\n'\n",
      "b'       class=\"borderedimg bookiconimgtall\"></A>     <!--was duller ora-pyref5e-tiny.jpg-->\\n'\n",
      "b'\\n'\n",
      "b'<!-- apr23: the saga continues; the 95% are a kludge, but avoid vertical img stretch;  -->\\n'\n",
      "b'<!-- jul23: style=\"height: 95%; width: 95%;\" stretched vertically and badly on older   -->\\n'\n",
      "b'<!-- webkit browers (e.g., Chrome on PC+mobile): use bookiconimgsquare, see _main.css; -->\\n'\n",
      "b'<tr><td>\\n'\n",
      "b'  <A HREF=\"https://quixotely.com/PC-Phone%20USB%20Sync/\"> \\n'\n",
      "b'  <IMG SRC=\"usbsync.png\" ALIGN=left \\n'\n",
      "b'       ALT=\"[PC-Phone USB Sync]\" TITLE=\"PC-Phone USB Sync: portable and private backup and sync\"\\n'\n",
      "b'       class=\"borderedimg bookiconimgsquare\"></A>    <!-- not \"height: 95%; width: 95%;\" -->\\n'\n",
      "b'\\n'\n",
      "b'<!-- CUT: too much information: on Code page\\n'\n",
      "b'<tr><td>\\n'\n",
      "b'  <A HREF=\"thumbspage.html\"> \\n'\n",
      "b'  <IMG SRC=\"auto-rotated-space-monkey.jpg\"\" ALIGN=left \\n'\n",
      "b'       ALT=\"[PC-Phone USB Sync]\" TITLE=\"thumbspage: build image galleries from folders\"\\n'\n",
      "b'       class=\"borderedimg bookiconimg\"></A>\\n'\n",
      "b'-->\\n'\n",
      "b'\\n'\n",
      "b'</TABLE>\\n'\n",
      "b'\\n'\n",
      "b'\\n'\n",
      "b'\\n'\n",
      "b'\\n'\n",
      "b'<!-- RIGHT panel: one column ==========================================================-->\\n'\n",
      "b'\\n'\n",
      "b\"<!-- was: '<TD><TD>' spacers, which grew by 1+ pixels with window; alt: div + margin? -->\\n\"\n",
      "b'<TD style=\"padding-left: 9px; vertical-align: top;\">\\n'\n",
      "b'\\n'\n",
      "b'<!-- END COPY -->\\n'\n",
      "b'\\n'\n",
      "b'\\n'\n",
      "b'\\n'\n",
      "b'\\n'\n",
      "b\"<H1><I>Mark Lutz's Books, Software, Etc.</I></H1>\\n\"\n",
      "b'\\n'\n",
      "b'\\n'\n",
      "b'<P>\\n'\n",
      "b'<I>Welcome</I>.\\n'\n",
      "b'At this desktop- and mobile-friendly\\n'\n",
      "b'<!-- apr23 recolor: style=\"color:white\" - PASS! -->\\n'\n",
      "b'<A class=subtlelink href=\"about-this-site.html\">website</A>, you can explore:\\n'\n",
      "b'</P>\\n'\n",
      "b'\\n'\n",
      "b'\\n'\n",
      "b'\\n'\n",
      "b'<!-- LINKS - REDESIGN NOV21: FLEXIBLE DIVS ==================================================== -->\\n'\n",
      "b'\\n'\n",
      "b'<!-- \\n'\n",
      "b'oct22: drop 170=>160px for linkcell - they seem a bit wide for buttons,\\n'\n",
      "b'and every pixel counts on a cramped mobile (see iPhone SE and iPod).\\n'\n",
      "b'Could use media queries or a % size, but that gets weird at extremes.\\n'\n",
      "b'-->\\n'\n",
      "b'   \\n'\n",
      "b'\\n'\n",
      "b'<STYLE>\\n'\n",
      "b'DIV.linksdiv {\\n'\n",
      "b'    margin-left: 2px; \\n'\n",
      "b'}\\n'\n",
      "b'\\n'\n",
      "b'DIV.linkscell {\\n'\n",
      "b'    display: inline-block;\\n'\n",
      "b'    width: 160px;                  /* oct22: 170=>160: pixels matter */\\n'\n",
      "b'    margin: 2px 0px 2px 0px;       /* top, right, bottom, left */\\n'\n",
      "b'    padding: 9px;\\n'\n",
      "b'    text-align: center;\\n'\n",
      "b'    background-color: tan;\\n'\n",
      "b'    border-radius: 6px;            /* rounded corners */\\n'\n",
      "b'}\\n'\n",
      "b'\\n'\n",
      "b'DIV.linkscell A {                  /* for all <a> in <div class=linkscell> */\\n'\n",
      "b'    text-decoration: none;         /* no underline for the link */\\n'\n",
      "b'    color: black;\\n'\n",
      "b'    font-weight: bold;\\n'\n",
      "b'}\\n'\n",
      "b'\\n'\n",
      "b'DIV.linkscell A:hover {\\n'\n",
      "b'    text-decoration: underline;    /* underline when cursor hovers over link */\\n'\n",
      "b'    font-style: italic;            /* go italic for consistency with footer */\\n'\n",
      "b'}\\n'\n",
      "b'</STYLE>\\n'\n",
      "b'\\n'\n",
      "b'\\n'\n",
      "b'<!-- 2 columns on large displays, collapse to 1 column on small -->\\n'\n",
      "b'\\n'\n",
      "b'<DIV class=linksdiv>\\n'\n",
      "b'\\n'\n",
      "b'<DIV class=linksrow>\\n'\n",
      "b'  <DIV class=linkscell>\\n'\n",
      "b'     <A HREF=\"index-book-links.html\" title=\"Info and resources for my books\\' readers\">Books</A>\\n'\n",
      "b'  </DIV>\\n'\n",
      "b'\\n'\n",
      "b'  <DIV class=linkscell>\\n'\n",
      "b'     <A HREF=\"programs.html\" title=\"A library of free programs coded in Python\">Code</A>\\n'\n",
      "b'  </DIV>\\n'\n",
      "b'</DIV>\\n'\n",
      "b'\\n'\n",
      "b'<DIV class=linksrow>\\n'\n",
      "b'  <DIV class=linkscell>\\n'\n",
      "b'      <A HREF=\"posts.html\" title=\"Opinions, comedy, and featured content\">Blog</A> \\n'\n",
      "b'  </DIV>\\n'\n",
      "b'\\n'\n",
      "b'  <DIV class=linkscell>\\n'\n",
      "b'      <A HREF=\"about-python.html\" title=\"Introducing the Python programming language\">Python</A>\\n'\n",
      "b'  </DIV>\\n'\n",
      "b'</DIV>\\n'\n",
      "b'\\n'\n",
      "b'<DIV class=linksrow>\\n'\n",
      "b'  <DIV class=linkscell>\\n'\n",
      "b'      <A HREF=\"formalbio.html\" title=\"Meet the curiously third-person proprietor\">Author</A>\\n'\n",
      "b'  </DIV>\\n'\n",
      "b'\\n'\n",
      "b'  <DIV class=linkscell>\\n'\n",
      "b'      <A HREF=\"training.html\" title=\"My training business: gone but not forgotten\">Train</A>\\n'\n",
      "b'  </DIV>\\n'\n",
      "b'</DIV>\\n'\n",
      "b'\\n'\n",
      "b'</DIV>\\n'\n",
      "b'\\n'\n",
      "b'\\n'\n",
      "b'\\n'\n",
      "b'<!-- LINKS - INTERIM NOV21: ROUNDED CORNERS =================================================== -->\\n'\n",
      "b'\\n'\n",
      "b'\\n'\n",
      "b'<!--DEFUNCT\\n'\n",
      "b'\\n'\n",
      "b'\\n'\n",
      "b'<STYLE>\\n'\n",
      "b'TABLE.linkstable TD {\\n'\n",
      "b'    border-radius: 6px;\\n'\n",
      "b'}\\n'\n",
      "b'</STYLE>\\n'\n",
      "b'\\n'\n",
      "b'\\n'\n",
      "b'DEFUNCT-->\\n'\n",
      "b'\\n'\n",
      "b'\\n'\n",
      "b'\\n'\n",
      "b'<!-- LINKS - ORIGINAL: TABLE+RESIZING ========================================================= -->\\n'\n",
      "b'\\n'\n",
      "b'\\n'\n",
      "b'<!--DEFUNCT\\n'\n",
      "b'\\n'\n",
      "b'\\n'\n",
      "b'<P>\\n'\n",
      "b'<TABLE border=0 cellpadding=9 cellspacing=3 class=linkstable>\\n'\n",
      "b'\\n'\n",
      "b'<! jan16: drop nowrap, but increase fixed size (see css) >\\n'\n",
      "b'<! feb18: to shave more pixels for mobile, cellpadding 10 => 9, extra <td> => style >\\n'\n",
      "b'<! sep18: trim left margin on small (320px) devices, else no right border (see css) >\\n'\n",
      "b' \\n'\n",
      "b'<TR>\\n'\n",
      "b'<TD bgcolor=tan align=center> <A class=blocklink HREF=\"index-book-links.html\" style=\"color: black;\">\\n'\n",
      "b'   <B>Books</B></A>\\n'\n",
      "b'\\n'\n",
      "b'<TD bgcolor=tan align=center> <A class=blocklink HREF=\"about-python.html\" style=\"color: black;\">\\n'\n",
      "b'    <B>Python</B></A>\\n'\n",
      "b'\\n'\n",
      "b'<TR>\\n'\n",
      "b'<TD bgcolor=tan align=center> <A class=blocklink HREF=\"programs.html\" style=\"color: black;\">\\n'\n",
      "b'   <B>Programs</B></A>\\n'\n",
      "b'\\n'\n",
      "b'<TD bgcolor=tan align=center> <A class=blocklink HREF=\"formalbio.html\" style=\"color: black;\">\\n'\n",
      "b'    <B>Author</B></A>\\n'\n",
      "b'\\n'\n",
      "b'<TR>\\n'\n",
      "b'<TD bgcolor=tan align=center> <A class=blocklink HREF=\"posts.html\" style=\"color: black;\">\\n'\n",
      "b'    <B>Blog</B></A> \\n'\n",
      "b'\\n'\n",
      "b'<TD bgcolor=tan align=center> <A class=blocklink HREF=\"training.html\" style=\"color: black;\">\\n'\n",
      "b'    <B>Training</B></A>\\n'\n",
      "b'\\n'\n",
      "b'</TABLE>\\n'\n",
      "b'\\n'\n",
      "b'\\n'\n",
      "b'DEFUNCT-->\\n'\n",
      "b'\\n'\n",
      "b'\\n'\n",
      "b'\\n'\n",
      "b'<!-- END LINKS ================================================================================ -->\\n'\n",
      "b'\\n'\n",
      "b'\\n'\n",
      "b'\\n'\n",
      "b'<P>\\n'\n",
      "b'You can also click the images on the left to jump \\n'\n",
      "b'to book titles and software products.\\n'\n",
      "b'\\n'\n",
      "b'<P>\\n'\n",
      "b\"This site's latest update: \\n\"\n",
      "b'<I>Dec-8-2023</I>.\\n'\n",
      "b'  <!-- hardcode for trivial changes: <I>Jul-6-2018</I>. -->\\n'\n",
      "b'  <!-- auto for non-trivial changes: <I>Dec-8-2023</I>. -->\\n'\n",
      "b'\\n'\n",
      "b'\\n'\n",
      "b'\\n'\n",
      "b'\\n'\n",
      "b\"<!-- end 'card' ====================================================================== -->\\n\"\n",
      "b'\\n'\n",
      "b'</TD>        <!-- column/panel -->\\n'\n",
      "b'</TR>        <!-- single row -->\\n'\n",
      "b\"</TABLE>     <!-- 'card' -->\\n\"\n",
      "b'</P>\\n'\n",
      "b'\\n'\n",
      "b'\\n'\n",
      "b'<!--GENHTML INSERT====================================================================-->\\n'\n",
      "b'<!--\\n'\n",
      "b'Nov15: added via genhtml.py, to avoid pasting footer in every file on changes.\\n'\n",
      "b'See learning-python.com/genhtml.html for other options and their tradeoffs.\\n'\n",
      "b'Caveat: this is now the same as FOOTERTAN; used to differ for top-level context.\\n'\n",
      "b'-->\\n'\n",
      "b'\\n'\n",
      "b'</P>\\n'\n",
      "b'\\n'\n",
      "b'<!--Feb18: make table responsive, for mobile-friendly scrollbar on small screens -->\\n'\n",
      "b'<BR><BR>\\n'\n",
      "b'<DIV class=footerdiv>\\n'\n",
      "b'<TABLE class=footertable bgcolor=tan>\\n'\n",
      "b'\\n'\n",
      "b\"<!-- NESTED INSERT: can't nest > 2 deep -->      \\n\"\n",
      "b'\\n'\n",
      "b'<!-- gif now is Home, not python.org  -->\\n'\n",
      "b'<!-- scale larger gif for better res  -->\\n'\n",
      "b'<!-- border=0 only for IE img links   -->\\n'\n",
      "b'<!-- _main.css center aligns all <td> -->\\n'\n",
      "b'<!-- now narrower to avoid scrollbars -->\\n'\n",
      "b'\\n'\n",
      "b'<TR>\\n'\n",
      "b'\\n'\n",
      "b'<TD>\\n'\n",
      "b'  <!-- alt: https://en.wikipedia.org/wiki/Flag_of_Ukraine -->\\n'\n",
      "b'  <A class=blocklinkbar href=\"https://en.wikipedia.org/wiki/Glory_to_Ukraine\">\\n'\n",
      "b'  <IMG SRC=\"Flag_of_Ukraine.svg.png\" border=0 width=55 height=22\\n'\n",
      "b'       ALT=\"[\\xd0\\xa1\\xd0\\xbb\\xd0\\xb0\\xd0\\xb2\\xd0\\xb0 \\xd0\\xa3\\xd0\\xba\\xd1\\x80\\xd0\\xb0\\xd1\\x97\\xd0\\xbd\\xd1\\x96!]\" TITLE=\"\\xd0\\xa1\\xd0\\xbb\\xd0\\xb0\\xd0\\xb2\\xd0\\xb0 \\xd0\\xa3\\xd0\\xba\\xd1\\x80\\xd0\\xb0\\xd1\\x97\\xd0\\xbd\\xd1\\x96!\"></A>  <!-- \\xe2\\x80\\x94 Glory to Ukraine! -->  \\n'\n",
      "b'<TD>\\n'\n",
      "b'  <A class=blocklinkbar HREF=\"index-book-links.html\">Books</A>\\n'\n",
      "b'<TD>\\n'\n",
      "b'  <A class=blocklinkbar HREF=\"programs.html\">Code</A>\\n'\n",
      "b'<TD>\\n'\n",
      "b'  <A class=blocklinkbar HREF=\"posts.html\">Blog</A>\\n'\n",
      "b'<TD>\\n'\n",
      "b'  <A class=blocklinkbar HREF=\"about-python.html\">Python</A>\\n'\n",
      "b'<TD>\\n'\n",
      "b'  <A class=blocklinkbar HREF=\"formalbio.html\">Author</A>\\n'\n",
      "b'<TD>\\n'\n",
      "b'  <A class=blocklinkbar HREF=\"training.html\">Train</A>\\n'\n",
      "b'<TD>\\n'\n",
      "b'  <A class=blocklinkbar HREF=\"sitesearch.html\">Find</A>\\n'\n",
      "b'<TD>\\n'\n",
      "b'  <A class=blocklinkbar HREF=\"mailto:lutz@learning-python.com\">&copy;M.Lutz</A>\\n'\n",
      "b'\\n'\n",
      "b'<!--DEFUNCT\\n'\n",
      "b'<TD>\\n'\n",
      "b'  <A class=blocklinkbar HREF=\"mailto:lutz@learning-python.com\">Email</A>\\n'\n",
      "b'<TD>\\n'\n",
      "b'  <A class=blocklinkbar HREF=\"#\">Top</A>\\n'\n",
      "b'DEFUNCT-->\\n'\n",
      "b'\\n'\n",
      "b'</TR>\\n'\n",
      "b'\\n'\n",
      "b'<!-- END NESTED INSERT -->\\n'\n",
      "b'\\n'\n",
      "b'</TABLE>\\n'\n",
      "b'</DIV>\\n'\n",
      "b'\\n'\n",
      "b'<!--END INSERT========================================================================-->\\n'\n",
      "b'\\n'\n",
      "b'\\n'\n",
      "b'</BODY>\\n'\n",
      "b'</HTML>\\n'\n",
      "b'\\n'\n",
      "b'\\n'\n"
     ]
    }
   ],
   "source": [
    "from urllib.request import urlopen\n",
    "for line in urlopen('http://learning-python.com/books'):\n",
    "    print(line)"
   ]
  },
  {
   "cell_type": "markdown",
   "metadata": {},
   "source": [
    "## Глава 14. Итерации и включения"
   ]
  },
  {
   "cell_type": "markdown",
   "metadata": {},
   "source": [
    "### Протокол итерации: итераторы файловых объектов"
   ]
  },
  {
   "cell_type": "code",
   "execution_count": null,
   "metadata": {},
   "outputs": [
    {
     "name": "stdout",
     "output_type": "stream",
     "text": [
      "import sys\n",
      "print(sys.path)\n",
      "x = 2\n",
      "print(x ** 32)\n",
      "\n"
     ]
    }
   ],
   "source": [
    "print(open('LutzM\\script2.py').read())"
   ]
  },
  {
   "cell_type": "code",
   "execution_count": null,
   "metadata": {},
   "outputs": [
    {
     "data": {
      "text/plain": [
       "'import sys\\nprint(sys.path)\\nx = 2\\nprint(x ** 32)\\n'"
      ]
     },
     "execution_count": 13,
     "metadata": {},
     "output_type": "execute_result"
    }
   ],
   "source": [
    "open('LutzM\\script2.py').read()"
   ]
  },
  {
   "cell_type": "code",
   "execution_count": null,
   "metadata": {},
   "outputs": [
    {
     "data": {
      "text/plain": [
       "'import sys\\n'"
      ]
     },
     "execution_count": 14,
     "metadata": {},
     "output_type": "execute_result"
    }
   ],
   "source": [
    "f = open('LutzM\\script2.py')              # Чтение файла сценария в текущем каталоге\n",
    "f.readline()                        # При каждом вызове метод readline загружает одну строку"
   ]
  },
  {
   "cell_type": "code",
   "execution_count": null,
   "metadata": {},
   "outputs": [
    {
     "data": {
      "text/plain": [
       "'print(sys.path)\\n'"
      ]
     },
     "execution_count": 15,
     "metadata": {},
     "output_type": "execute_result"
    }
   ],
   "source": [
    "f.readline()"
   ]
  },
  {
   "cell_type": "code",
   "execution_count": null,
   "metadata": {},
   "outputs": [
    {
     "data": {
      "text/plain": [
       "'x = 2\\n'"
      ]
     },
     "execution_count": 16,
     "metadata": {},
     "output_type": "execute_result"
    }
   ],
   "source": [
    "f.readline()"
   ]
  },
  {
   "cell_type": "code",
   "execution_count": null,
   "metadata": {},
   "outputs": [
    {
     "data": {
      "text/plain": [
       "'print(x ** 32)\\n'"
      ]
     },
     "execution_count": 17,
     "metadata": {},
     "output_type": "execute_result"
    }
   ],
   "source": [
    "f.readline()"
   ]
  },
  {
   "cell_type": "code",
   "execution_count": null,
   "metadata": {},
   "outputs": [
    {
     "data": {
      "text/plain": [
       "''"
      ]
     },
     "execution_count": 18,
     "metadata": {},
     "output_type": "execute_result"
    }
   ],
   "source": [
    "f.readline()               # При достижении конца файла возвращается пустая строка"
   ]
  },
  {
   "cell_type": "code",
   "execution_count": null,
   "metadata": {},
   "outputs": [
    {
     "data": {
      "text/plain": [
       "'import sys\\n'"
      ]
     },
     "execution_count": 1,
     "metadata": {},
     "output_type": "execute_result"
    }
   ],
   "source": [
    "f = open('LutzM\\script2.py')\n",
    "f.__next__()                            # При каждом вызове метод __next__ также загружает одну строку"
   ]
  },
  {
   "cell_type": "code",
   "execution_count": null,
   "metadata": {},
   "outputs": [
    {
     "data": {
      "text/plain": [
       "'print(sys.path)\\n'"
      ]
     },
     "execution_count": 2,
     "metadata": {},
     "output_type": "execute_result"
    }
   ],
   "source": [
    "f.__next__()"
   ]
  },
  {
   "cell_type": "code",
   "execution_count": null,
   "metadata": {},
   "outputs": [
    {
     "data": {
      "text/plain": [
       "'x = 2\\n'"
      ]
     },
     "execution_count": 3,
     "metadata": {},
     "output_type": "execute_result"
    }
   ],
   "source": [
    "f.__next__()"
   ]
  },
  {
   "cell_type": "code",
   "execution_count": null,
   "metadata": {},
   "outputs": [
    {
     "data": {
      "text/plain": [
       "'print(x ** 32)\\n'"
      ]
     },
     "execution_count": 4,
     "metadata": {},
     "output_type": "execute_result"
    }
   ],
   "source": [
    "f.__next__()"
   ]
  },
  {
   "cell_type": "code",
   "execution_count": null,
   "metadata": {},
   "outputs": [
    {
     "ename": "StopIteration",
     "evalue": "",
     "output_type": "error",
     "traceback": [
      "\u001b[1;31m---------------------------------------------------------------------------\u001b[0m",
      "\u001b[1;31mStopIteration\u001b[0m                             Traceback (most recent call last)",
      "Cell \u001b[1;32mIn[5], line 1\u001b[0m\n\u001b[1;32m----> 1\u001b[0m \u001b[43mf\u001b[49m\u001b[38;5;241;43m.\u001b[39;49m\u001b[38;5;21;43m__next__\u001b[39;49m\u001b[43m(\u001b[49m\u001b[43m)\u001b[49m\n",
      "\u001b[1;31mStopIteration\u001b[0m: "
     ]
    }
   ],
   "source": [
    "f.__next__()                        # При достижении конца файла возвращается пустая строка"
   ]
  },
  {
   "cell_type": "code",
   "execution_count": null,
   "metadata": {},
   "outputs": [
    {
     "name": "stdout",
     "output_type": "stream",
     "text": [
      "IMPORT SYS\n",
      "PRINT(SYS.PATH)\n",
      "X = 2\n",
      "PRINT(X ** 32)\n"
     ]
    }
   ],
   "source": [
    "for line in open('LutzM\\script2.py'): print(line.upper(), end = '') # использование итерора файлового объекта для чтения по строкам\n",
    "#  end = '' используется для подавления символа \\n, без него будет чередование с пустыми строками"
   ]
  },
  {
   "cell_type": "code",
   "execution_count": null,
   "metadata": {},
   "outputs": [
    {
     "name": "stdout",
     "output_type": "stream",
     "text": [
      "IMPORT SYS\n",
      "PRINT(SYS.PATH)\n",
      "X = 2\n",
      "PRINT(X ** 32)\n"
     ]
    }
   ],
   "source": [
    "for line in open('LutzM\\script2.py').readlines():             # не рекомендуется в целях экономии памяти\n",
    "    print(line.upper(), end = '')"
   ]
  },
  {
   "cell_type": "code",
   "execution_count": null,
   "metadata": {},
   "outputs": [
    {
     "name": "stdout",
     "output_type": "stream",
     "text": [
      "IMPORT SYS\n",
      "PRINT(SYS.PATH)\n",
      "X = 2\n",
      "PRINT(X ** 32)\n"
     ]
    }
   ],
   "source": [
    "f = open('LutzM\\script2.py')\n",
    "while True:                                                  # через while может быть медленее\n",
    "    line = f.readline()\n",
    "    if not line: break\n",
    "    print(line.upper(), end='')"
   ]
  },
  {
   "cell_type": "markdown",
   "metadata": {},
   "source": [
    "### Ручная итерация iter и next"
   ]
  },
  {
   "cell_type": "code",
   "execution_count": null,
   "metadata": {},
   "outputs": [
    {
     "data": {
      "text/plain": [
       "'import sys\\n'"
      ]
     },
     "execution_count": 12,
     "metadata": {},
     "output_type": "execute_result"
    }
   ],
   "source": [
    "f = open('LutzM\\script2.py')\n",
    "f.__next__()                            # Вызов итерационного метода напрямую"
   ]
  },
  {
   "cell_type": "code",
   "execution_count": null,
   "metadata": {},
   "outputs": [
    {
     "data": {
      "text/plain": [
       "'print(sys.path)\\n'"
      ]
     },
     "execution_count": 13,
     "metadata": {},
     "output_type": "execute_result"
    }
   ],
   "source": [
    "next(f)                                # встроенная функция next() вызывающая .__next__()"
   ]
  },
  {
   "cell_type": "code",
   "execution_count": null,
   "metadata": {},
   "outputs": [
    {
     "data": {
      "text/plain": [
       "1"
      ]
     },
     "execution_count": 14,
     "metadata": {},
     "output_type": "execute_result"
    }
   ],
   "source": [
    "L = [1, 2, 3]\n",
    "I = iter(L)                            # Получене объекта итератора из итерируемого объекта\n",
    "I.__next__()                           # вызов метода __next__() итератора для продвижение"
   ]
  },
  {
   "cell_type": "code",
   "execution_count": null,
   "metadata": {},
   "outputs": [
    {
     "data": {
      "text/plain": [
       "2"
      ]
     },
     "execution_count": 15,
     "metadata": {},
     "output_type": "execute_result"
    }
   ],
   "source": [
    "I.__next__() "
   ]
  },
  {
   "cell_type": "code",
   "execution_count": null,
   "metadata": {},
   "outputs": [
    {
     "data": {
      "text/plain": [
       "3"
      ]
     },
     "execution_count": 16,
     "metadata": {},
     "output_type": "execute_result"
    }
   ],
   "source": [
    "I.__next__() "
   ]
  },
  {
   "cell_type": "code",
   "execution_count": null,
   "metadata": {},
   "outputs": [
    {
     "ename": "StopIteration",
     "evalue": "",
     "output_type": "error",
     "traceback": [
      "\u001b[1;31m---------------------------------------------------------------------------\u001b[0m",
      "\u001b[1;31mStopIteration\u001b[0m                             Traceback (most recent call last)",
      "Cell \u001b[1;32mIn[17], line 1\u001b[0m\n\u001b[1;32m----> 1\u001b[0m \u001b[43mI\u001b[49m\u001b[38;5;241;43m.\u001b[39;49m\u001b[38;5;21;43m__next__\u001b[39;49m\u001b[43m(\u001b[49m\u001b[43m)\u001b[49m \n",
      "\u001b[1;31mStopIteration\u001b[0m: "
     ]
    }
   ],
   "source": [
    "I.__next__()                           # StopIteration"
   ]
  },
  {
   "cell_type": "code",
   "execution_count": null,
   "metadata": {},
   "outputs": [
    {
     "data": {
      "text/plain": [
       "True"
      ]
     },
     "execution_count": 18,
     "metadata": {},
     "output_type": "execute_result"
    }
   ],
   "source": [
    "f = open('LutzM\\script2.py')           # Для файлов такой начальный шаг не требуется так как файловый объект сам по себе уже есть итератор\n",
    "iter(f) is f"
   ]
  },
  {
   "cell_type": "code",
   "execution_count": null,
   "metadata": {},
   "outputs": [
    {
     "data": {
      "text/plain": [
       "True"
      ]
     },
     "execution_count": 19,
     "metadata": {},
     "output_type": "execute_result"
    }
   ],
   "source": [
    "iter(f) is f.__iter__()               "
   ]
  },
  {
   "cell_type": "code",
   "execution_count": null,
   "metadata": {},
   "outputs": [
    {
     "data": {
      "text/plain": [
       "'import sys\\n'"
      ]
     },
     "execution_count": 20,
     "metadata": {},
     "output_type": "execute_result"
    }
   ],
   "source": [
    "next(f)"
   ]
  },
  {
   "cell_type": "code",
   "execution_count": null,
   "metadata": {},
   "outputs": [
    {
     "data": {
      "text/plain": [
       "False"
      ]
     },
     "execution_count": 21,
     "metadata": {},
     "output_type": "execute_result"
    }
   ],
   "source": [
    "L = [1, 2, 3]\n",
    "iter(L) is L                     # списки и другие встроенные объекты не являются итераторами сами по себе"
   ]
  },
  {
   "cell_type": "code",
   "execution_count": null,
   "metadata": {},
   "outputs": [
    {
     "ename": "AttributeError",
     "evalue": "'list' object has no attribute '__next__'",
     "output_type": "error",
     "traceback": [
      "\u001b[1;31m---------------------------------------------------------------------------\u001b[0m",
      "\u001b[1;31mAttributeError\u001b[0m                            Traceback (most recent call last)",
      "Cell \u001b[1;32mIn[22], line 1\u001b[0m\n\u001b[1;32m----> 1\u001b[0m \u001b[43mL\u001b[49m\u001b[38;5;241;43m.\u001b[39;49m\u001b[38;5;21;43m__next__\u001b[39;49m()\n",
      "\u001b[1;31mAttributeError\u001b[0m: 'list' object has no attribute '__next__'"
     ]
    }
   ],
   "source": [
    "L.__next__()"
   ]
  },
  {
   "cell_type": "code",
   "execution_count": null,
   "metadata": {},
   "outputs": [
    {
     "data": {
      "text/plain": [
       "1"
      ]
     },
     "execution_count": 23,
     "metadata": {},
     "output_type": "execute_result"
    }
   ],
   "source": [
    "I = iter(L)\n",
    "I.__next__()"
   ]
  },
  {
   "cell_type": "code",
   "execution_count": null,
   "metadata": {},
   "outputs": [
    {
     "name": "stdout",
     "output_type": "stream",
     "text": [
      "1 4 9 "
     ]
    }
   ],
   "source": [
    "L = [1, 2, 3]\n",
    "for X in L:                             # автоматическая итерация (полуачет iter, вызывает next, перехватывает исключения)\n",
    "    print(X ** 2, end=' ')                      "
   ]
  },
  {
   "cell_type": "code",
   "execution_count": null,
   "metadata": {},
   "outputs": [
    {
     "name": "stdout",
     "output_type": "stream",
     "text": [
      "1 4 9 "
     ]
    }
   ],
   "source": [
    "I = iter(L)                             # Ручная итерация, то что обычно делает for\n",
    "while True:                           \n",
    "    try:                                # перехватывает исключения\n",
    "        X = next(I)\n",
    "    except StopIteration:\n",
    "        break\n",
    "    print(X ** 2, end=' ')"
   ]
  },
  {
   "cell_type": "markdown",
   "metadata": {},
   "source": [
    "### Итерируемые объекты других встроенных типов"
   ]
  },
  {
   "cell_type": "code",
   "execution_count": null,
   "metadata": {},
   "outputs": [
    {
     "name": "stdout",
     "output_type": "stream",
     "text": [
      "a 1\n",
      "b 2\n",
      "c 3\n"
     ]
    }
   ],
   "source": [
    "D = {'a': 1, 'b': 2, 'c': 3}\n",
    "for key in D.keys():                    # явно запросили ключи словаря\n",
    "    print(key, D[key])"
   ]
  },
  {
   "cell_type": "code",
   "execution_count": null,
   "metadata": {},
   "outputs": [
    {
     "data": {
      "text/plain": [
       "'a'"
      ]
     },
     "execution_count": 27,
     "metadata": {},
     "output_type": "execute_result"
    }
   ],
   "source": [
    "I = iter(D)\n",
    "next(I)"
   ]
  },
  {
   "cell_type": "code",
   "execution_count": null,
   "metadata": {},
   "outputs": [
    {
     "data": {
      "text/plain": [
       "'b'"
      ]
     },
     "execution_count": 28,
     "metadata": {},
     "output_type": "execute_result"
    }
   ],
   "source": [
    "next(I)"
   ]
  },
  {
   "cell_type": "code",
   "execution_count": null,
   "metadata": {},
   "outputs": [
    {
     "data": {
      "text/plain": [
       "'c'"
      ]
     },
     "execution_count": 29,
     "metadata": {},
     "output_type": "execute_result"
    }
   ],
   "source": [
    "next(I)"
   ]
  },
  {
   "cell_type": "code",
   "execution_count": null,
   "metadata": {},
   "outputs": [
    {
     "ename": "StopIteration",
     "evalue": "",
     "output_type": "error",
     "traceback": [
      "\u001b[1;31m---------------------------------------------------------------------------\u001b[0m",
      "\u001b[1;31mStopIteration\u001b[0m                             Traceback (most recent call last)",
      "Cell \u001b[1;32mIn[30], line 1\u001b[0m\n\u001b[1;32m----> 1\u001b[0m \u001b[38;5;28;43mnext\u001b[39;49m\u001b[43m(\u001b[49m\u001b[43mI\u001b[49m\u001b[43m)\u001b[49m\n",
      "\u001b[1;31mStopIteration\u001b[0m: "
     ]
    }
   ],
   "source": [
    "next(I)"
   ]
  },
  {
   "cell_type": "code",
   "execution_count": null,
   "metadata": {},
   "outputs": [
    {
     "name": "stdout",
     "output_type": "stream",
     "text": [
      "a 1\n",
      "b 2\n",
      "c 3\n"
     ]
    }
   ],
   "source": [
    "for key in D:\n",
    "    print(key, D[key])                    # цикл for применяет протокол итерации для захвата ключа словаря "
   ]
  },
  {
   "cell_type": "code",
   "execution_count": null,
   "metadata": {},
   "outputs": [
    {
     "data": {
      "text/plain": [
       "' ’®¬ ў гбва®©бвўҐ C \\xadҐ Ё¬ҐҐв ¬ҐвЄЁ.\\n'"
      ]
     },
     "execution_count": 32,
     "metadata": {},
     "output_type": "execute_result"
    }
   ],
   "source": [
    "import os                               \n",
    "P = os.popen('dir')                   # инструмент чтения вывода команд оболочки также итерируемый объект\n",
    "P.__next__()"
   ]
  },
  {
   "cell_type": "code",
   "execution_count": null,
   "metadata": {},
   "outputs": [
    {
     "data": {
      "text/plain": [
       "0"
      ]
     },
     "execution_count": 33,
     "metadata": {},
     "output_type": "execute_result"
    }
   ],
   "source": [
    "R = range(5)\n",
    "I = iter(R)\n",
    "next(I)"
   ]
  },
  {
   "cell_type": "code",
   "execution_count": null,
   "metadata": {},
   "outputs": [
    {
     "data": {
      "text/plain": [
       "1"
      ]
     },
     "execution_count": 34,
     "metadata": {},
     "output_type": "execute_result"
    }
   ],
   "source": [
    "next(I)"
   ]
  },
  {
   "cell_type": "code",
   "execution_count": null,
   "metadata": {},
   "outputs": [
    {
     "data": {
      "text/plain": [
       "(0, 's')"
      ]
     },
     "execution_count": 35,
     "metadata": {},
     "output_type": "execute_result"
    }
   ],
   "source": [
    "E = enumerate('spam')    # также итерируемый\n",
    "I = iter(E)\n",
    "next(I)"
   ]
  },
  {
   "cell_type": "markdown",
   "metadata": {},
   "source": [
    "### Списковые включения: первый подробный взгляд"
   ]
  },
  {
   "cell_type": "code",
   "execution_count": null,
   "metadata": {},
   "outputs": [
    {
     "data": {
      "text/plain": [
       "[11, 12, 13, 14, 15]"
      ]
     },
     "execution_count": 36,
     "metadata": {},
     "output_type": "execute_result"
    }
   ],
   "source": [
    "L = [1, 2, 3, 4, 5]\n",
    "for i in range(len(L)):\n",
    "    L[i] +=10\n",
    "L"
   ]
  },
  {
   "cell_type": "code",
   "execution_count": null,
   "metadata": {},
   "outputs": [
    {
     "data": {
      "text/plain": [
       "[21, 22, 23, 24, 25]"
      ]
     },
     "execution_count": 37,
     "metadata": {},
     "output_type": "execute_result"
    }
   ],
   "source": [
    "L = [x + 10 for x in L]              # более оптимальная форма - списковое включение\n",
    "L"
   ]
  },
  {
   "cell_type": "markdown",
   "metadata": {},
   "source": [
    "### Использование списковых включений с файлами"
   ]
  },
  {
   "cell_type": "code",
   "execution_count": null,
   "metadata": {},
   "outputs": [
    {
     "data": {
      "text/plain": [
       "['import sys\\n', 'print(sys.path)\\n', 'x = 2\\n', 'print(x ** 32)\\n']"
      ]
     },
     "execution_count": 38,
     "metadata": {},
     "output_type": "execute_result"
    }
   ],
   "source": [
    "f = open('LutzM\\script2.py')\n",
    "lines = f.readlines()\n",
    "lines"
   ]
  },
  {
   "cell_type": "code",
   "execution_count": null,
   "metadata": {},
   "outputs": [
    {
     "data": {
      "text/plain": [
       "['import sys', 'print(sys.path)', 'x = 2', 'print(x ** 32)']"
      ]
     },
     "execution_count": 39,
     "metadata": {},
     "output_type": "execute_result"
    }
   ],
   "source": [
    "lines = [line.rstrip() for line in lines]            # Избавляемся от символа конца строки\n",
    "lines"
   ]
  },
  {
   "cell_type": "code",
   "execution_count": null,
   "metadata": {},
   "outputs": [
    {
     "data": {
      "text/plain": [
       "['import sys', 'print(sys.path)', 'x = 2', 'print(x ** 32)']"
      ]
     },
     "execution_count": 40,
     "metadata": {},
     "output_type": "execute_result"
    }
   ],
   "source": [
    "lines = [line.rstrip() for line in open('LutzM\\script2.py')]          # более изящная форма со списковым включением\n",
    "lines"
   ]
  },
  {
   "cell_type": "code",
   "execution_count": null,
   "metadata": {},
   "outputs": [
    {
     "data": {
      "text/plain": [
       "['IMPORT SYS\\n', 'PRINT(SYS.PATH)\\n', 'X = 2\\n', 'PRINT(X ** 32)\\n']"
      ]
     },
     "execution_count": 42,
     "metadata": {},
     "output_type": "execute_result"
    }
   ],
   "source": [
    "[line.upper() for line in open('LutzM\\script2.py')]"
   ]
  },
  {
   "cell_type": "code",
   "execution_count": null,
   "metadata": {},
   "outputs": [
    {
     "data": {
      "text/plain": [
       "['IMPORT SYS', 'PRINT(SYS.PATH)', 'X = 2', 'PRINT(X ** 32)']"
      ]
     },
     "execution_count": 43,
     "metadata": {},
     "output_type": "execute_result"
    }
   ],
   "source": [
    "[line.rstrip().upper() for line in open('LutzM\\script2.py')]"
   ]
  },
  {
   "cell_type": "code",
   "execution_count": null,
   "metadata": {},
   "outputs": [
    {
     "data": {
      "text/plain": [
       "[['import', 'sys'],\n",
       " ['print(sys.path)'],\n",
       " ['x', '=', '2'],\n",
       " ['print(x', '**', '32)']]"
      ]
     },
     "execution_count": 44,
     "metadata": {},
     "output_type": "execute_result"
    }
   ],
   "source": [
    "[line.split() for line in open('LutzM\\script2.py')]"
   ]
  },
  {
   "cell_type": "code",
   "execution_count": null,
   "metadata": {},
   "outputs": [
    {
     "data": {
      "text/plain": [
       "['import!sys\\n', 'print(sys.path)\\n', 'x!=!2\\n', 'print(x!**!32)\\n']"
      ]
     },
     "execution_count": 45,
     "metadata": {},
     "output_type": "execute_result"
    }
   ],
   "source": [
    "[line.replace(' ', '!') for line in open('LutzM\\script2.py')]"
   ]
  },
  {
   "cell_type": "code",
   "execution_count": null,
   "metadata": {},
   "outputs": [
    {
     "data": {
      "text/plain": [
       "[(True, 'impor'), (True, 'print'), (False, 'x = 2'), (False, 'print')]"
      ]
     },
     "execution_count": 46,
     "metadata": {},
     "output_type": "execute_result"
    }
   ],
   "source": [
    "[('sys' in line, line[:5]) for line in open('LutzM\\script2.py')]"
   ]
  },
  {
   "cell_type": "markdown",
   "metadata": {},
   "source": [
    "### Расширенный синтаксис списковых включений"
   ]
  },
  {
   "cell_type": "code",
   "execution_count": null,
   "metadata": {},
   "outputs": [
    {
     "data": {
      "text/plain": [
       "['print(sys.path)', 'print(x ** 32)']"
      ]
     },
     "execution_count": 48,
     "metadata": {},
     "output_type": "execute_result"
    }
   ],
   "source": [
    "lines =[line.rstrip() for line in open('LutzM\\script2.py') if line[0] == 'p']    # Отфильтровали с помощью условия if\n",
    "lines"
   ]
  },
  {
   "cell_type": "code",
   "execution_count": null,
   "metadata": {},
   "outputs": [
    {
     "data": {
      "text/plain": [
       "['x = 2']"
      ]
     },
     "execution_count": 49,
     "metadata": {},
     "output_type": "execute_result"
    }
   ],
   "source": [
    "[line.rstrip() for line in open('LutzM\\script2.py') if line.rstrip()[-1].isdigit()]"
   ]
  },
  {
   "cell_type": "code",
   "execution_count": null,
   "metadata": {},
   "outputs": [],
   "source": [
    "len([line for line in open(fname) if line.strip() != ''])   # Посчет непустых строк в файле"
   ]
  },
  {
   "cell_type": "markdown",
   "metadata": {},
   "source": [
    "### Вложенные циклы: for"
   ]
  },
  {
   "cell_type": "code",
   "execution_count": null,
   "metadata": {},
   "outputs": [
    {
     "data": {
      "text/plain": [
       "['al', 'am', 'an', 'bl', 'bm', 'bn', 'cl', 'cm', 'cn']"
      ]
     },
     "execution_count": 50,
     "metadata": {},
     "output_type": "execute_result"
    }
   ],
   "source": [
    "[x +y for x in 'abc' for y in 'lmn']             # вложенный цикл в спискоовом включении"
   ]
  },
  {
   "cell_type": "code",
   "execution_count": null,
   "metadata": {},
   "outputs": [
    {
     "data": {
      "text/plain": [
       "['al', 'am', 'an', 'bl', 'bm', 'bn', 'cl', 'cm', 'cn']"
      ]
     },
     "execution_count": 1,
     "metadata": {},
     "output_type": "execute_result"
    }
   ],
   "source": [
    "res = []\n",
    "for x in 'abc':\n",
    "    for y in 'lmn':\n",
    "        res.append(x + y)\n",
    "res"
   ]
  },
  {
   "cell_type": "markdown",
   "metadata": {},
   "source": [
    "### Другие итреационные контексты"
   ]
  },
  {
   "cell_type": "code",
   "execution_count": null,
   "metadata": {},
   "outputs": [
    {
     "name": "stdout",
     "output_type": "stream",
     "text": [
      "IMPORT SYS\n",
      "PRINT(SYS.PATH)\n",
      "X = 2\n",
      "PRINT(X ** 32)\n"
     ]
    }
   ],
   "source": [
    "for line in open('LutzM\\script2.py'):      # Использование итератора файлового объекта\n",
    "    print(line.upper(), end='')"
   ]
  },
  {
   "cell_type": "code",
   "execution_count": null,
   "metadata": {},
   "outputs": [
    {
     "data": {
      "text/plain": [
       "['IMPORT SYS\\n', 'PRINT(SYS.PATH)\\n', 'X = 2\\n', 'PRINT(X ** 32)\\n']"
      ]
     },
     "execution_count": 3,
     "metadata": {},
     "output_type": "execute_result"
    }
   ],
   "source": [
    "uppers = [line.upper() for line in open('LutzM\\script2.py')]        # списковое включение\n",
    "uppers"
   ]
  },
  {
   "cell_type": "code",
   "execution_count": null,
   "metadata": {},
   "outputs": [
    {
     "data": {
      "text/plain": [
       "<map at 0x28a08647a30>"
      ]
     },
     "execution_count": 4,
     "metadata": {},
     "output_type": "execute_result"
    }
   ],
   "source": [
    "map(str.upper, open('LutzM\\script2.py'))                # в Python 3 функция map возвращает итерируемый объект"
   ]
  },
  {
   "cell_type": "code",
   "execution_count": null,
   "metadata": {},
   "outputs": [
    {
     "data": {
      "text/plain": [
       "['IMPORT SYS\\n', 'PRINT(SYS.PATH)\\n', 'X = 2\\n', 'PRINT(X ** 32)\\n']"
      ]
     },
     "execution_count": 5,
     "metadata": {},
     "output_type": "execute_result"
    }
   ],
   "source": [
    "list(map(str.upper, open('LutzM\\script2.py')) )"
   ]
  },
  {
   "cell_type": "code",
   "execution_count": null,
   "metadata": {},
   "outputs": [
    {
     "data": {
      "text/plain": [
       "['import sys\\n', 'print(sys.path)\\n', 'print(x ** 32)\\n', 'x = 2\\n']"
      ]
     },
     "execution_count": 1,
     "metadata": {},
     "output_type": "execute_result"
    }
   ],
   "source": [
    "sorted(open('LutzM\\script2.py'))"
   ]
  },
  {
   "cell_type": "code",
   "execution_count": null,
   "metadata": {},
   "outputs": [
    {
     "data": {
      "text/plain": [
       "[('import sys\\n', 'import sys\\n'),\n",
       " ('print(sys.path)\\n', 'print(sys.path)\\n'),\n",
       " ('x = 2\\n', 'x = 2\\n'),\n",
       " ('print(x ** 32)\\n', 'print(x ** 32)\\n')]"
      ]
     },
     "execution_count": 2,
     "metadata": {},
     "output_type": "execute_result"
    }
   ],
   "source": [
    "list(zip(open('LutzM\\script2.py'), open('LutzM\\script2.py')))"
   ]
  },
  {
   "cell_type": "code",
   "execution_count": null,
   "metadata": {},
   "outputs": [
    {
     "data": {
      "text/plain": [
       "[(0, 'import sys\\n'),\n",
       " (1, 'print(sys.path)\\n'),\n",
       " (2, 'x = 2\\n'),\n",
       " (3, 'print(x ** 32)\\n')]"
      ]
     },
     "execution_count": 3,
     "metadata": {},
     "output_type": "execute_result"
    }
   ],
   "source": [
    "list(enumerate(open('LutzM\\script2.py')))"
   ]
  },
  {
   "cell_type": "code",
   "execution_count": null,
   "metadata": {},
   "outputs": [
    {
     "data": {
      "text/plain": [
       "['import sys\\n', 'print(sys.path)\\n', 'x = 2\\n', 'print(x ** 32)\\n']"
      ]
     },
     "execution_count": 4,
     "metadata": {},
     "output_type": "execute_result"
    }
   ],
   "source": [
    "list(filter(bool, open('LutzM\\script2.py')))           # Непустые строки файла"
   ]
  },
  {
   "cell_type": "code",
   "execution_count": null,
   "metadata": {},
   "outputs": [
    {
     "data": {
      "text/plain": [
       "'import sys\\nprint(sys.path)\\nx = 2\\nprint(x ** 32)\\n'"
      ]
     },
     "execution_count": 5,
     "metadata": {},
     "output_type": "execute_result"
    }
   ],
   "source": [
    "import functools, operator\n",
    "functools.reduce(operator.add, open('LutzM\\script2.py'))"
   ]
  },
  {
   "cell_type": "code",
   "execution_count": null,
   "metadata": {},
   "outputs": [
    {
     "data": {
      "text/plain": [
       "['import sys\\n', 'print(sys.path)\\n', 'x = 2\\n', 'print(x ** 32)\\n']"
      ]
     },
     "execution_count": 6,
     "metadata": {},
     "output_type": "execute_result"
    }
   ],
   "source": [
    "list(open('LutzM\\script2.py'))"
   ]
  },
  {
   "cell_type": "code",
   "execution_count": null,
   "metadata": {},
   "outputs": [
    {
     "data": {
      "text/plain": [
       "('import sys\\n', 'print(sys.path)\\n', 'x = 2\\n', 'print(x ** 32)\\n')"
      ]
     },
     "execution_count": 7,
     "metadata": {},
     "output_type": "execute_result"
    }
   ],
   "source": [
    "tuple(open('LutzM\\script2.py'))"
   ]
  },
  {
   "cell_type": "code",
   "execution_count": null,
   "metadata": {},
   "outputs": [
    {
     "data": {
      "text/plain": [
       "'import sys\\n&&print(sys.path)\\n&&x = 2\\n&&print(x ** 32)\\n'"
      ]
     },
     "execution_count": 8,
     "metadata": {},
     "output_type": "execute_result"
    }
   ],
   "source": [
    "'&&'.join(open('LutzM\\script2.py'))"
   ]
  },
  {
   "cell_type": "code",
   "execution_count": null,
   "metadata": {},
   "outputs": [
    {
     "data": {
      "text/plain": [
       "('import sys\\n', 'print(x ** 32)\\n')"
      ]
     },
     "execution_count": 9,
     "metadata": {},
     "output_type": "execute_result"
    }
   ],
   "source": [
    "a, b, c, d = open('LutzM\\script2.py')       # Присваивание последовательностей\n",
    "a, d"
   ]
  },
  {
   "cell_type": "code",
   "execution_count": null,
   "metadata": {},
   "outputs": [
    {
     "data": {
      "text/plain": [
       "('import sys\\n', ['print(sys.path)\\n', 'x = 2\\n', 'print(x ** 32)\\n'])"
      ]
     },
     "execution_count": 11,
     "metadata": {},
     "output_type": "execute_result"
    }
   ],
   "source": [
    "a, *b = open('LutzM\\script2.py')          # расширенная форма\n",
    "a, b"
   ]
  },
  {
   "cell_type": "code",
   "execution_count": null,
   "metadata": {},
   "outputs": [
    {
     "data": {
      "text/plain": [
       "False"
      ]
     },
     "execution_count": 12,
     "metadata": {},
     "output_type": "execute_result"
    }
   ],
   "source": [
    "'y = 2\\n' in open('LutzM\\script2.py')"
   ]
  },
  {
   "cell_type": "code",
   "execution_count": null,
   "metadata": {},
   "outputs": [
    {
     "data": {
      "text/plain": [
       "True"
      ]
     },
     "execution_count": 13,
     "metadata": {},
     "output_type": "execute_result"
    }
   ],
   "source": [
    "'x = 2\\n' in open('LutzM\\script2.py')"
   ]
  },
  {
   "cell_type": "code",
   "execution_count": null,
   "metadata": {},
   "outputs": [
    {
     "data": {
      "text/plain": [
       "[11, 'import sys\\n', 'print(sys.path)\\n', 'x = 2\\n', 'print(x ** 32)\\n', 44]"
      ]
     },
     "execution_count": 14,
     "metadata": {},
     "output_type": "execute_result"
    }
   ],
   "source": [
    "L = [11, 22, 33, 44]\n",
    "L[1:3] = open('LutzM\\script2.py')\n",
    "L"
   ]
  },
  {
   "cell_type": "code",
   "execution_count": null,
   "metadata": {},
   "outputs": [
    {
     "data": {
      "text/plain": [
       "[11, 'import sys\\n', 'print(sys.path)\\n', 'x = 2\\n', 'print(x ** 32)\\n']"
      ]
     },
     "execution_count": 16,
     "metadata": {},
     "output_type": "execute_result"
    }
   ],
   "source": [
    "L =[11]\n",
    "L.extend(open('LutzM\\script2.py'))           # extend выполняет итерацию автоматически в отличии от append\n",
    "L"
   ]
  },
  {
   "cell_type": "code",
   "execution_count": null,
   "metadata": {},
   "outputs": [
    {
     "data": {
      "text/plain": [
       "{'import sys\\n', 'print(sys.path)\\n', 'print(x ** 32)\\n', 'x = 2\\n'}"
      ]
     },
     "execution_count": 17,
     "metadata": {},
     "output_type": "execute_result"
    }
   ],
   "source": [
    "set(open('LutzM\\script2.py'))"
   ]
  },
  {
   "cell_type": "code",
   "execution_count": null,
   "metadata": {},
   "outputs": [
    {
     "data": {
      "text/plain": [
       "{'import sys\\n', 'print(sys.path)\\n', 'print(x ** 32)\\n', 'x = 2\\n'}"
      ]
     },
     "execution_count": 18,
     "metadata": {},
     "output_type": "execute_result"
    }
   ],
   "source": [
    "{line for line in open('LutzM\\script2.py')}"
   ]
  },
  {
   "cell_type": "code",
   "execution_count": null,
   "metadata": {},
   "outputs": [
    {
     "data": {
      "text/plain": [
       "{0: 'import sys\\n',\n",
       " 1: 'print(sys.path)\\n',\n",
       " 2: 'x = 2\\n',\n",
       " 3: 'print(x ** 32)\\n'}"
      ]
     },
     "execution_count": 19,
     "metadata": {},
     "output_type": "execute_result"
    }
   ],
   "source": [
    "{ix: line for ix, line in enumerate(open('LutzM\\script2.py'))}"
   ]
  },
  {
   "cell_type": "code",
   "execution_count": null,
   "metadata": {},
   "outputs": [
    {
     "data": {
      "text/plain": [
       "{'print(sys.path)\\n', 'print(x ** 32)\\n'}"
      ]
     },
     "execution_count": 20,
     "metadata": {},
     "output_type": "execute_result"
    }
   ],
   "source": [
    "{line for line in open('LutzM\\script2.py') if line[0] == 'p'}"
   ]
  },
  {
   "cell_type": "code",
   "execution_count": null,
   "metadata": {},
   "outputs": [
    {
     "data": {
      "text/plain": [
       "{1: 'print(sys.path)\\n', 3: 'print(x ** 32)\\n'}"
      ]
     },
     "execution_count": 21,
     "metadata": {},
     "output_type": "execute_result"
    }
   ],
   "source": [
    "{ix: line for (ix, line) in enumerate(open('LutzM\\script2.py')) if line[0] == 'p'}"
   ]
  },
  {
   "cell_type": "code",
   "execution_count": null,
   "metadata": {},
   "outputs": [
    {
     "data": {
      "text/plain": [
       "['IMPORT SYS\\n', 'PRINT(SYS.PATH)\\n', 'X = 2\\n', 'PRINT(X ** 32)\\n']"
      ]
     },
     "execution_count": 22,
     "metadata": {},
     "output_type": "execute_result"
    }
   ],
   "source": [
    "list(line.upper() for line in open('LutzM\\script2.py'))               # генератор будет далее"
   ]
  },
  {
   "cell_type": "code",
   "execution_count": null,
   "metadata": {},
   "outputs": [
    {
     "data": {
      "text/plain": [
       "12"
      ]
     },
     "execution_count": 23,
     "metadata": {},
     "output_type": "execute_result"
    }
   ],
   "source": [
    "sum([3, 3, 2, 4])"
   ]
  },
  {
   "cell_type": "code",
   "execution_count": null,
   "metadata": {},
   "outputs": [
    {
     "data": {
      "text/plain": [
       "True"
      ]
     },
     "execution_count": 25,
     "metadata": {},
     "output_type": "execute_result"
    }
   ],
   "source": [
    "any(['spam', ''])"
   ]
  },
  {
   "cell_type": "code",
   "execution_count": null,
   "metadata": {},
   "outputs": [
    {
     "data": {
      "text/plain": [
       "False"
      ]
     },
     "execution_count": 24,
     "metadata": {},
     "output_type": "execute_result"
    }
   ],
   "source": [
    "all(['spam', ''])"
   ]
  },
  {
   "cell_type": "code",
   "execution_count": null,
   "metadata": {},
   "outputs": [
    {
     "data": {
      "text/plain": [
       "'x = 2\\n'"
      ]
     },
     "execution_count": 26,
     "metadata": {},
     "output_type": "execute_result"
    }
   ],
   "source": [
    "max(open('LutzM\\script2.py'))"
   ]
  },
  {
   "cell_type": "code",
   "execution_count": null,
   "metadata": {},
   "outputs": [
    {
     "data": {
      "text/plain": [
       "'import sys\\n'"
      ]
     },
     "execution_count": 27,
     "metadata": {},
     "output_type": "execute_result"
    }
   ],
   "source": [
    "min(open('LutzM\\script2.py'))"
   ]
  },
  {
   "cell_type": "code",
   "execution_count": null,
   "metadata": {},
   "outputs": [],
   "source": [
    "def f(a, b, c, d): print(a, b, c, d, sep='&')"
   ]
  },
  {
   "cell_type": "code",
   "execution_count": null,
   "metadata": {},
   "outputs": [
    {
     "name": "stdout",
     "output_type": "stream",
     "text": [
      "1&2&3&4\n"
     ]
    }
   ],
   "source": [
    "f(1, 2, 3, 4)"
   ]
  },
  {
   "cell_type": "code",
   "execution_count": null,
   "metadata": {},
   "outputs": [
    {
     "name": "stdout",
     "output_type": "stream",
     "text": [
      "1&2&3&4\n"
     ]
    }
   ],
   "source": [
    "f(*[1, 2, 3, 4])                          # Распаковка аргументов через *"
   ]
  },
  {
   "cell_type": "code",
   "execution_count": null,
   "metadata": {},
   "outputs": [
    {
     "name": "stdout",
     "output_type": "stream",
     "text": [
      "import sys\n",
      "&print(sys.path)\n",
      "&x = 2\n",
      "&print(x ** 32)\n",
      "\n"
     ]
    }
   ],
   "source": [
    "f(*open('LutzM\\script2.py'))              # Также выполняет итерацию по строкам!"
   ]
  },
  {
   "cell_type": "code",
   "execution_count": null,
   "metadata": {},
   "outputs": [
    {
     "data": {
      "text/plain": [
       "[(1, 3), (2, 4)]"
      ]
     },
     "execution_count": 37,
     "metadata": {},
     "output_type": "execute_result"
    }
   ],
   "source": [
    "X = (1, 2)\n",
    "Y = (3, 4)\n",
    "list(zip(X, Y))                 # Сжатие кортежей"
   ]
  },
  {
   "cell_type": "code",
   "execution_count": null,
   "metadata": {},
   "outputs": [
    {
     "data": {
      "text/plain": [
       "(1, 2)"
      ]
     },
     "execution_count": 38,
     "metadata": {},
     "output_type": "execute_result"
    }
   ],
   "source": [
    "A, B = zip(*zip(X, Y))          # Развертывание сжатых кортежей\n",
    "A"
   ]
  },
  {
   "cell_type": "markdown",
   "metadata": {},
   "source": [
    "### Итерируемый объект range"
   ]
  },
  {
   "cell_type": "code",
   "execution_count": null,
   "metadata": {},
   "outputs": [
    {
     "data": {
      "text/plain": [
       "range(0, 10)"
      ]
     },
     "execution_count": 39,
     "metadata": {},
     "output_type": "execute_result"
    }
   ],
   "source": [
    "R = range(10)\n",
    "R"
   ]
  },
  {
   "cell_type": "code",
   "execution_count": null,
   "metadata": {},
   "outputs": [
    {
     "data": {
      "text/plain": [
       "0"
      ]
     },
     "execution_count": 40,
     "metadata": {},
     "output_type": "execute_result"
    }
   ],
   "source": [
    "I = iter(R)\n",
    "next(I)"
   ]
  },
  {
   "cell_type": "code",
   "execution_count": null,
   "metadata": {},
   "outputs": [
    {
     "data": {
      "text/plain": [
       "[0, 1, 2, 3, 4, 5, 6, 7, 8, 9]"
      ]
     },
     "execution_count": 41,
     "metadata": {},
     "output_type": "execute_result"
    }
   ],
   "source": [
    "list(R)"
   ]
  },
  {
   "cell_type": "code",
   "execution_count": null,
   "metadata": {},
   "outputs": [
    {
     "data": {
      "text/plain": [
       "10"
      ]
     },
     "execution_count": 42,
     "metadata": {},
     "output_type": "execute_result"
    }
   ],
   "source": [
    "len(R)"
   ]
  },
  {
   "cell_type": "markdown",
   "metadata": {},
   "source": [
    "### Итерируемые объекты map, zip, filter"
   ]
  },
  {
   "cell_type": "code",
   "execution_count": null,
   "metadata": {},
   "outputs": [
    {
     "data": {
      "text/plain": [
       "<map at 0x2416386beb0>"
      ]
     },
     "execution_count": 43,
     "metadata": {},
     "output_type": "execute_result"
    }
   ],
   "source": [
    "M = map(abs, (-1, 0, 1)) # Возвращает итерируемый объект\n",
    "M"
   ]
  },
  {
   "cell_type": "code",
   "execution_count": null,
   "metadata": {},
   "outputs": [
    {
     "data": {
      "text/plain": [
       "1"
      ]
     },
     "execution_count": 44,
     "metadata": {},
     "output_type": "execute_result"
    }
   ],
   "source": [
    "next(M)"
   ]
  },
  {
   "cell_type": "code",
   "execution_count": null,
   "metadata": {},
   "outputs": [
    {
     "data": {
      "text/plain": [
       "0"
      ]
     },
     "execution_count": 45,
     "metadata": {},
     "output_type": "execute_result"
    }
   ],
   "source": [
    "next(M)"
   ]
  },
  {
   "cell_type": "code",
   "execution_count": null,
   "metadata": {},
   "outputs": [
    {
     "data": {
      "text/plain": [
       "1"
      ]
     },
     "execution_count": 46,
     "metadata": {},
     "output_type": "execute_result"
    }
   ],
   "source": [
    "next(M)"
   ]
  },
  {
   "cell_type": "code",
   "execution_count": null,
   "metadata": {},
   "outputs": [
    {
     "ename": "StopIteration",
     "evalue": "",
     "output_type": "error",
     "traceback": [
      "\u001b[1;31m---------------------------------------------------------------------------\u001b[0m",
      "\u001b[1;31mStopIteration\u001b[0m                             Traceback (most recent call last)",
      "Cell \u001b[1;32mIn[47], line 1\u001b[0m\n\u001b[1;32m----> 1\u001b[0m \u001b[38;5;28;43mnext\u001b[39;49m\u001b[43m(\u001b[49m\u001b[43mM\u001b[49m\u001b[43m)\u001b[49m\n",
      "\u001b[1;31mStopIteration\u001b[0m: "
     ]
    }
   ],
   "source": [
    "next(M)"
   ]
  },
  {
   "cell_type": "code",
   "execution_count": null,
   "metadata": {},
   "outputs": [],
   "source": [
    "for x in M: print(M)       # итератор уже пуст, так как только один проход, для повторного прохода надо заново инициализировать итератор"
   ]
  },
  {
   "cell_type": "code",
   "execution_count": null,
   "metadata": {},
   "outputs": [
    {
     "data": {
      "text/plain": [
       "[1, 0, 1]"
      ]
     },
     "execution_count": 49,
     "metadata": {},
     "output_type": "execute_result"
    }
   ],
   "source": [
    "list(map(abs, (-1, 0, 1)))        # При необходимости можно принудительно преобразовать в"
   ]
  },
  {
   "cell_type": "code",
   "execution_count": null,
   "metadata": {},
   "outputs": [],
   "source": [
    "Z = zip((1, 2, 3), (10, 20, 30))        # zip является аналогичной map по свойствам итерации"
   ]
  },
  {
   "cell_type": "code",
   "execution_count": null,
   "metadata": {},
   "outputs": [],
   "source": [
    "filter(bool, ['spam', '', 'ni'])           # filter является аналогичным map и zip по свойствам итерации"
   ]
  },
  {
   "cell_type": "markdown",
   "metadata": {},
   "source": [
    "### итераторы со множеством проходов или с одним проходом"
   ]
  },
  {
   "cell_type": "code",
   "execution_count": null,
   "metadata": {},
   "outputs": [
    {
     "ename": "TypeError",
     "evalue": "'range' object is not an iterator",
     "output_type": "error",
     "traceback": [
      "\u001b[1;31m---------------------------------------------------------------------------\u001b[0m",
      "\u001b[1;31mTypeError\u001b[0m                                 Traceback (most recent call last)",
      "Cell \u001b[1;32mIn[50], line 2\u001b[0m\n\u001b[0;32m      1\u001b[0m R \u001b[38;5;241m=\u001b[39m \u001b[38;5;28mrange\u001b[39m(\u001b[38;5;241m3\u001b[39m)\n\u001b[1;32m----> 2\u001b[0m \u001b[38;5;28;43mnext\u001b[39;49m\u001b[43m(\u001b[49m\u001b[43mR\u001b[49m\u001b[43m)\u001b[49m\n",
      "\u001b[1;31mTypeError\u001b[0m: 'range' object is not an iterator"
     ]
    }
   ],
   "source": [
    "R = range(3)\n",
    "next(R)"
   ]
  },
  {
   "cell_type": "code",
   "execution_count": null,
   "metadata": {},
   "outputs": [
    {
     "data": {
      "text/plain": [
       "0"
      ]
     },
     "execution_count": 51,
     "metadata": {},
     "output_type": "execute_result"
    }
   ],
   "source": [
    "I1 = iter(R)                    # создали первый итератор\n",
    "next(I1)"
   ]
  },
  {
   "cell_type": "code",
   "execution_count": null,
   "metadata": {},
   "outputs": [
    {
     "data": {
      "text/plain": [
       "1"
      ]
     },
     "execution_count": 52,
     "metadata": {},
     "output_type": "execute_result"
    }
   ],
   "source": [
    "next(I1)"
   ]
  },
  {
   "cell_type": "code",
   "execution_count": null,
   "metadata": {},
   "outputs": [
    {
     "data": {
      "text/plain": [
       "0"
      ]
     },
     "execution_count": 53,
     "metadata": {},
     "output_type": "execute_result"
    }
   ],
   "source": [
    "I2 = iter(R)                   # создали второй проход, итератор независимый от первого (I1 и I2 находятся в разных местах)\n",
    "next(I2)"
   ]
  },
  {
   "cell_type": "code",
   "execution_count": null,
   "metadata": {},
   "outputs": [
    {
     "data": {
      "text/plain": [
       "(1, 10)"
      ]
     },
     "execution_count": 54,
     "metadata": {},
     "output_type": "execute_result"
    }
   ],
   "source": [
    "Z = zip((1, 2, 3), (10, 20, 30))\n",
    "I1 = iter(Z)\n",
    "I2 = iter(Z)\n",
    "next(I1)"
   ]
  },
  {
   "cell_type": "code",
   "execution_count": null,
   "metadata": {},
   "outputs": [
    {
     "data": {
      "text/plain": [
       "(2, 20)"
      ]
     },
     "execution_count": 55,
     "metadata": {},
     "output_type": "execute_result"
    }
   ],
   "source": [
    "next(I2)               # два разных итератора в находятся в одном месте!!!"
   ]
  },
  {
   "cell_type": "code",
   "execution_count": null,
   "metadata": {},
   "outputs": [
    {
     "data": {
      "text/plain": [
       "(3, 30)"
      ]
     },
     "execution_count": 56,
     "metadata": {},
     "output_type": "execute_result"
    }
   ],
   "source": [
    "next(I1)"
   ]
  },
  {
   "cell_type": "code",
   "execution_count": null,
   "metadata": {},
   "outputs": [],
   "source": [
    "M = map(abs, (-1, 0, 1))\n",
    "I1 = iter(M); I2 = iter(M)"
   ]
  },
  {
   "cell_type": "code",
   "execution_count": null,
   "metadata": {},
   "outputs": [
    {
     "name": "stdout",
     "output_type": "stream",
     "text": [
      "1 0 1\n"
     ]
    }
   ],
   "source": [
    "print(next(I1), next(I1), next(I1))"
   ]
  },
  {
   "cell_type": "code",
   "execution_count": null,
   "metadata": {},
   "outputs": [
    {
     "ename": "StopIteration",
     "evalue": "",
     "output_type": "error",
     "traceback": [
      "\u001b[1;31m---------------------------------------------------------------------------\u001b[0m",
      "\u001b[1;31mStopIteration\u001b[0m                             Traceback (most recent call last)",
      "Cell \u001b[1;32mIn[65], line 1\u001b[0m\n\u001b[1;32m----> 1\u001b[0m \u001b[38;5;28;43mnext\u001b[39;49m\u001b[43m(\u001b[49m\u001b[43mI2\u001b[49m\u001b[43m)\u001b[49m\n",
      "\u001b[1;31mStopIteration\u001b[0m: "
     ]
    }
   ],
   "source": [
    "next(I2)"
   ]
  },
  {
   "cell_type": "code",
   "execution_count": null,
   "metadata": {},
   "outputs": [
    {
     "data": {
      "text/plain": [
       "[0, 1, 2]"
      ]
     },
     "execution_count": 66,
     "metadata": {},
     "output_type": "execute_result"
    }
   ],
   "source": [
    "R = range(3)\n",
    "I1, I2 = iter(R), iter(R)                      # Допускает множесто итераторов и множество активных проходов\n",
    "[next(I1), next(I1), next(I1)]"
   ]
  },
  {
   "cell_type": "code",
   "execution_count": null,
   "metadata": {},
   "outputs": [
    {
     "data": {
      "text/plain": [
       "0"
      ]
     },
     "execution_count": 67,
     "metadata": {},
     "output_type": "execute_result"
    }
   ],
   "source": [
    "next(I2)                   "
   ]
  },
  {
   "cell_type": "markdown",
   "metadata": {},
   "source": [
    "### Итерируемые словарные представления"
   ]
  },
  {
   "cell_type": "code",
   "execution_count": 5,
   "metadata": {},
   "outputs": [
    {
     "data": {
      "text/plain": [
       "{'a': 1, 'b': 2, 'c': 3}"
      ]
     },
     "execution_count": 5,
     "metadata": {},
     "output_type": "execute_result"
    }
   ],
   "source": [
    "D = dict(a=1, b=2, c=3)\n",
    "D"
   ]
  },
  {
   "cell_type": "code",
   "execution_count": null,
   "metadata": {},
   "outputs": [
    {
     "data": {
      "text/plain": [
       "dict_keys(['a', 'b', 'c'])"
      ]
     },
     "execution_count": 69,
     "metadata": {},
     "output_type": "execute_result"
    }
   ],
   "source": [
    "K = D.keys()\n",
    "K"
   ]
  },
  {
   "cell_type": "code",
   "execution_count": null,
   "metadata": {},
   "outputs": [
    {
     "ename": "TypeError",
     "evalue": "'dict_keys' object is not an iterator",
     "output_type": "error",
     "traceback": [
      "\u001b[1;31m---------------------------------------------------------------------------\u001b[0m",
      "\u001b[1;31mTypeError\u001b[0m                                 Traceback (most recent call last)",
      "Cell \u001b[1;32mIn[73], line 1\u001b[0m\n\u001b[1;32m----> 1\u001b[0m \u001b[38;5;28;43mnext\u001b[39;49m\u001b[43m(\u001b[49m\u001b[43mK\u001b[49m\u001b[43m)\u001b[49m\n",
      "\u001b[1;31mTypeError\u001b[0m: 'dict_keys' object is not an iterator"
     ]
    }
   ],
   "source": [
    "next(K)"
   ]
  },
  {
   "cell_type": "code",
   "execution_count": null,
   "metadata": {},
   "outputs": [],
   "source": [
    "I = iter(K)"
   ]
  },
  {
   "cell_type": "code",
   "execution_count": null,
   "metadata": {},
   "outputs": [
    {
     "data": {
      "text/plain": [
       "'a'"
      ]
     },
     "execution_count": 72,
     "metadata": {},
     "output_type": "execute_result"
    }
   ],
   "source": [
    "next(I)"
   ]
  },
  {
   "cell_type": "code",
   "execution_count": null,
   "metadata": {},
   "outputs": [
    {
     "name": "stdout",
     "output_type": "stream",
     "text": [
      "a b c "
     ]
    }
   ],
   "source": [
    "for k in D.keys():print(k, end=' ')"
   ]
  },
  {
   "cell_type": "code",
   "execution_count": null,
   "metadata": {},
   "outputs": [
    {
     "data": {
      "text/plain": [
       "dict_values([1, 2, 3])"
      ]
     },
     "execution_count": 75,
     "metadata": {},
     "output_type": "execute_result"
    }
   ],
   "source": [
    "V = D.values()\n",
    "V"
   ]
  },
  {
   "cell_type": "code",
   "execution_count": null,
   "metadata": {},
   "outputs": [
    {
     "name": "stdout",
     "output_type": "stream",
     "text": [
      "a 1  b 2  c 3  "
     ]
    }
   ],
   "source": [
    "for (k,v) in D.items(): print(k, v, end = '  ')"
   ]
  },
  {
   "cell_type": "code",
   "execution_count": null,
   "metadata": {},
   "outputs": [
    {
     "data": {
      "text/plain": [
       "'a'"
      ]
     },
     "execution_count": 78,
     "metadata": {},
     "output_type": "execute_result"
    }
   ],
   "source": [
    "I = iter(D)\n",
    "next(I)"
   ]
  },
  {
   "cell_type": "code",
   "execution_count": null,
   "metadata": {},
   "outputs": [
    {
     "data": {
      "text/plain": [
       "['a', 'b', 'c']"
      ]
     },
     "execution_count": 80,
     "metadata": {},
     "output_type": "execute_result"
    }
   ],
   "source": [
    "sorted(D.keys())"
   ]
  },
  {
   "cell_type": "code",
   "execution_count": null,
   "metadata": {},
   "outputs": [
    {
     "name": "stdout",
     "output_type": "stream",
     "text": [
      "a 1 b 2 c 3 "
     ]
    }
   ],
   "source": [
    "for k in sorted(D.keys()): print(k, D[k], end=' ')"
   ]
  },
  {
   "cell_type": "code",
   "execution_count": null,
   "metadata": {},
   "outputs": [
    {
     "data": {
      "text/plain": [
       "['a', 'b', 'c']"
      ]
     },
     "execution_count": 81,
     "metadata": {},
     "output_type": "execute_result"
    }
   ],
   "source": [
    "sorted(D)"
   ]
  },
  {
   "cell_type": "code",
   "execution_count": 6,
   "metadata": {},
   "outputs": [
    {
     "name": "stdout",
     "output_type": "stream",
     "text": [
      "a 1 b 2 c 3 "
     ]
    }
   ],
   "source": [
    "for k in sorted(D): print(k, D[k], end=' ')              # рекомендуемая сортировка ключей"
   ]
  },
  {
   "cell_type": "code",
   "execution_count": null,
   "metadata": {},
   "outputs": [],
   "source": []
  }
 ],
 "metadata": {
  "kernelspec": {
   "display_name": ".venv",
   "language": "python",
   "name": "python3"
  },
  "language_info": {
   "codemirror_mode": {
    "name": "ipython",
    "version": 3
   },
   "file_extension": ".py",
   "mimetype": "text/x-python",
   "name": "python",
   "nbconvert_exporter": "python",
   "pygments_lexer": "ipython3",
   "version": "3.10.7"
  }
 },
 "nbformat": 4,
 "nbformat_minor": 2
}
