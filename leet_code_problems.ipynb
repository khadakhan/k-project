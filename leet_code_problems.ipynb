{
 "cells": [
  {
   "cell_type": "markdown",
   "metadata": {},
   "source": [
    "# 1480. Running sum of 1d Array\n",
    "\n",
    "Given an array nums. We define a running sum of an array as runningSum[i] = sum(nums[0]…nums[i]).\n",
    "\n",
    "Return the running sum of nums.\n",
    "\n",
    "Example 1:\n",
    "\n",
    "Input: nums = [1,2,3,4]\n",
    "Output: [1,3,6,10]\n",
    "Explanation: Running sum is obtained as follows: [1, 1+2, 1+2+3, 1+2+3+4].\n",
    "Example 2:\n",
    "\n",
    "Input: nums = [1,1,1,1,1]\n",
    "Output: [1,2,3,4,5]\n",
    "Explanation: Running sum is obtained as follows: [1, 1+1, 1+1+1, 1+1+1+1, 1+1+1+1+1].\n",
    "Example 3:\n",
    "\n",
    "Input: nums = [3,1,2,10,1]\n",
    "Output: [3,4,6,16,17]\n",
    "\n",
    "Constraints:\n",
    "\n",
    "1 <= nums.length <= 1000\n",
    "-10^6 <= nums[i] <= 10^6"
   ]
  },
  {
   "cell_type": "markdown",
   "metadata": {},
   "source": [
    "baseline"
   ]
  },
  {
   "cell_type": "code",
   "execution_count": 36,
   "metadata": {},
   "outputs": [
    {
     "data": {
      "text/plain": [
       "[1, 10, 20]"
      ]
     },
     "execution_count": 36,
     "metadata": {},
     "output_type": "execute_result"
    }
   ],
   "source": [
    "class Solution:\n",
    "    def runningSum(self, nums: list[int]) -> list[int]:\n",
    "        results = [None]*len(nums)\n",
    "        results[0] = nums [0]\n",
    "        for i in range(1, len(nums)):\n",
    "            results[i] = results[i-1] + nums[i]\n",
    "        return (results)\n",
    "    \n",
    "qwe = [1, 9, 10]\n",
    "\n",
    "asd = Solution()\n",
    "\n",
    "asd.runningSum(qwe)"
   ]
  },
  {
   "cell_type": "markdown",
   "metadata": {},
   "source": [
    "another methods"
   ]
  },
  {
   "cell_type": "code",
   "execution_count": 39,
   "metadata": {},
   "outputs": [
    {
     "data": {
      "text/plain": [
       "[1, 3, 4]"
      ]
     },
     "execution_count": 39,
     "metadata": {},
     "output_type": "execute_result"
    }
   ],
   "source": [
    "class Solution:\n",
    "    def runningSum(self, nums: list[int]) -> list[int]:\n",
    "        results = [nums[0]]\n",
    "        for i in range(1, len(nums)):\n",
    "            results.append(results[i-1]+nums[i])\n",
    "        return (results)\n",
    "    \n",
    "qwe = [1, 2, 1]\n",
    "\n",
    "asd = Solution()\n",
    "asd.runningSum(qwe)"
   ]
  },
  {
   "cell_type": "code",
   "execution_count": 45,
   "metadata": {},
   "outputs": [
    {
     "data": {
      "text/plain": [
       "[1, 2, 3, 5, 7, 9]"
      ]
     },
     "execution_count": 45,
     "metadata": {},
     "output_type": "execute_result"
    }
   ],
   "source": [
    "class Solution:\n",
    "    def runningSum(self, nums: list[int]) -> list[int]:\n",
    "        return [sum(nums[:i+1]) for i in range(len(nums))]\n",
    "\n",
    "qwe = [1, 1, 1, 2, 2, 2]\n",
    "\n",
    "asd = Solution()\n",
    "asd.runningSum(qwe)"
   ]
  },
  {
   "cell_type": "code",
   "execution_count": 48,
   "metadata": {},
   "outputs": [
    {
     "data": {
      "text/plain": [
       "[1, 2, 3, 5, 7, 9]"
      ]
     },
     "execution_count": 48,
     "metadata": {},
     "output_type": "execute_result"
    }
   ],
   "source": [
    "class Solution:\n",
    "    def runningSum(self, nums: list[int]) -> list[int]:\n",
    "        for i in range(1,len(nums)):\n",
    "            nums[i] = nums[i-1]+nums[i]\n",
    "        return nums\n",
    "\n",
    "qwe = [1, 1, 1, 2, 2, 2]\n",
    "\n",
    "asd = Solution()\n",
    "asd.runningSum(qwe)"
   ]
  },
  {
   "cell_type": "markdown",
   "metadata": {},
   "source": [
    "# 1. Two Sum\n",
    "\n",
    "Given an array of integers nums and an integer target, return indices of the two numbers such that they add up to target.\n",
    "\n",
    "You may assume that each input would have exactly one solution, and you may not use the same element twice.\n",
    "\n",
    "You can return the answer in any order.\n",
    "\n",
    " \n",
    "\n",
    "Example 1:\n",
    "\n",
    "Input: nums = [2,7,11,15], target = 9\n",
    "Output: [0,1]\n",
    "Explanation: Because nums[0] + nums[1] == 9, we return [0, 1].\n",
    "Example 2:\n",
    "\n",
    "Input: nums = [3,2,4], target = 6\n",
    "Output: [1,2]\n",
    "Example 3:\n",
    "\n",
    "Input: nums = [3,3], target = 6\n",
    "Output: [0,1]\n",
    " \n",
    "\n",
    "Constraints:\n",
    "\n",
    "2 <= nums.length <= 104\n",
    "-109 <= nums[i] <= 109\n",
    "-109 <= target <= 109\n",
    "Only one valid answer exists.\n",
    " \n",
    "\n",
    "Follow-up: Can you come up with an algorithm that is less than O(n2) time complexity?"
   ]
  },
  {
   "cell_type": "markdown",
   "metadata": {},
   "source": [
    "решение в лоб (вложенный цикл)"
   ]
  },
  {
   "cell_type": "code",
   "execution_count": 106,
   "metadata": {},
   "outputs": [
    {
     "data": {
      "text/plain": [
       "[2, 3]"
      ]
     },
     "execution_count": 106,
     "metadata": {},
     "output_type": "execute_result"
    }
   ],
   "source": [
    "class Solution:\n",
    "    def twoSum(self, nums: list[int], target: int) -> list[int]:\n",
    "        answer = []\n",
    "        for i in range(0, len(nums)):\n",
    "            for j in range(i + 1, len(nums)):\n",
    "                if nums[i] + nums[j] == target:\n",
    "                    return[i,j]\n",
    "\n",
    "asd = Solution()\n",
    "asd.twoSum([2, 6, 5, 7], 12)"
   ]
  },
  {
   "cell_type": "markdown",
   "metadata": {},
   "source": [
    "решшение в два прохода с использованием хэш таблицы"
   ]
  },
  {
   "cell_type": "code",
   "execution_count": 103,
   "metadata": {},
   "outputs": [
    {
     "data": {
      "text/plain": [
       "[2, 3]"
      ]
     },
     "execution_count": 103,
     "metadata": {},
     "output_type": "execute_result"
    }
   ],
   "source": [
    "class Solution:\n",
    "    def twoSum(self, nums: list[int], target: int) -> list[int]:\n",
    "        hashmap = {}\n",
    "        for i in range(len(nums)):\n",
    "            hashmap[nums[i]] = i\n",
    "        for i in range(len(nums)):\n",
    "            complement = target - nums[i]\n",
    "            if complement in hashmap and hashmap[complement] != i:\n",
    "                return [i, hashmap[complement]] \n",
    "\n",
    "asd = Solution()\n",
    "asd.twoSum([2, 6, 5, 7], 12)"
   ]
  },
  {
   "cell_type": "markdown",
   "metadata": {},
   "source": [
    "решение в один проход с использованием хэш таблицы"
   ]
  },
  {
   "cell_type": "code",
   "execution_count": 102,
   "metadata": {},
   "outputs": [
    {
     "data": {
      "text/plain": [
       "[3, 2]"
      ]
     },
     "execution_count": 102,
     "metadata": {},
     "output_type": "execute_result"
    }
   ],
   "source": [
    "class Solution:\n",
    "    def twoSum(self, nums: list[int], target: int) -> list[int]:\n",
    "        hashmap = {}\n",
    "        for i in range(len(nums)):\n",
    "            complement = target - nums[i]\n",
    "            if complement in hashmap:\n",
    "                return [i, hashmap[complement]]\n",
    "            hashmap[nums[i]] = i\n",
    "\n",
    "asd = Solution()\n",
    "asd.twoSum([2, 6, 5, 7], 12)"
   ]
  },
  {
   "cell_type": "code",
   "execution_count": 1,
   "metadata": {},
   "outputs": [
    {
     "name": "stdout",
     "output_type": "stream",
     "text": [
      "The Zen of Python, by Tim Peters\n",
      "\n",
      "Beautiful is better than ugly.\n",
      "Explicit is better than implicit.\n",
      "Simple is better than complex.\n",
      "Complex is better than complicated.\n",
      "Flat is better than nested.\n",
      "Sparse is better than dense.\n",
      "Readability counts.\n",
      "Special cases aren't special enough to break the rules.\n",
      "Although practicality beats purity.\n",
      "Errors should never pass silently.\n",
      "Unless explicitly silenced.\n",
      "In the face of ambiguity, refuse the temptation to guess.\n",
      "There should be one-- and preferably only one --obvious way to do it.\n",
      "Although that way may not be obvious at first unless you're Dutch.\n",
      "Now is better than never.\n",
      "Although never is often better than *right* now.\n",
      "If the implementation is hard to explain, it's a bad idea.\n",
      "If the implementation is easy to explain, it may be a good idea.\n",
      "Namespaces are one honking great idea -- let's do more of those!\n"
     ]
    }
   ],
   "source": [
    "import this"
   ]
  }
 ],
 "metadata": {
  "kernelspec": {
   "display_name": ".venv",
   "language": "python",
   "name": "python3"
  },
  "language_info": {
   "codemirror_mode": {
    "name": "ipython",
    "version": 3
   },
   "file_extension": ".py",
   "mimetype": "text/x-python",
   "name": "python",
   "nbconvert_exporter": "python",
   "pygments_lexer": "ipython3",
   "version": "3.10.7"
  }
 },
 "nbformat": 4,
 "nbformat_minor": 2
}
